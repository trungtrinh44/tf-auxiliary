{
 "cells": [
  {
   "cell_type": "code",
   "execution_count": 1,
   "metadata": {},
   "outputs": [],
   "source": [
    "from model_v2 import build_lm_classifier_tagger_inference, LSTM_SAVED_STATE\n",
    "from utils import get_batch_classifier_inference, clean_text_v4 as clean_text\n",
    "import json\n",
    "import tensorflow as tf\n",
    "import numpy as np\n",
    "import matplotlib.pyplot as plt\n",
    "import pandas as pd\n",
    "%matplotlib inline"
   ]
  },
  {
   "cell_type": "code",
   "execution_count": 2,
   "metadata": {},
   "outputs": [],
   "source": [
    "with open('109_Bank/checkpoints/model_configs.json', 'r') as inp:\n",
    "    lm_params = json.load(inp)\n",
    "with open('109_Bank/checkpoints/classifier_configs.json') as inp:\n",
    "    cls_params = json.load(inp)\n",
    "with open('109_Bank/checkpoints/tagger_configs.json') as inp:\n",
    "    tag_params = json.load(inp)\n",
    "language_model, classifier, tagger = build_lm_classifier_tagger_inference(lm_params, \n",
    "                                                                          cls_params, tag_params, \n",
    "                                                                          is_cpu=False)"
   ]
  },
  {
   "cell_type": "code",
   "execution_count": 3,
   "metadata": {},
   "outputs": [
    {
     "name": "stdout",
     "output_type": "stream",
     "text": [
      "INFO:tensorflow:Restoring parameters from 109_Bank/checkpoints/chatbot_test/model.cpkt-723\n"
     ]
    }
   ],
   "source": [
    "config = tf.ConfigProto()\n",
    "config.gpu_options.allow_growth = True\n",
    "session = tf.Session(config=config)\n",
    "saver = tf.train.Saver([x for x in tf.global_variables() if x not in tf.get_collection(LSTM_SAVED_STATE)])\n",
    "saver.restore(session, '109_Bank/checkpoints/chatbot_test/model.cpkt-723')"
   ]
  },
  {
   "cell_type": "code",
   "execution_count": 5,
   "metadata": {},
   "outputs": [],
   "source": [
    "with open('109_Bank/word2idx.json', 'r') as inp:\n",
    "    word2idx = json.load(inp)\n",
    "with open('109_Bank/char2idx.json', 'r') as inp:\n",
    "    char2idx = json.load(inp)\n",
    "word2char = {w: [char2idx[c] for c in w] for w in word2idx}\n",
    "with open('Bank/class2idx.json', 'r') as inp:\n",
    "    class2idx = json.load(inp)\n",
    "    idx2class = {i: w for w, i in class2idx.items()}\n",
    "with open('Bank/tag2idx.json', 'r') as inp:\n",
    "    tag2idx = json.load(inp)\n",
    "    idx2tag = {i: w for w, i in tag2idx.items()}"
   ]
  },
  {
   "cell_type": "code",
   "execution_count": 8,
   "metadata": {},
   "outputs": [],
   "source": [
    "def inference(texts, bsz=32):\n",
    "    texts = [clean_text(x.strip()) for x in texts]\n",
    "    texts = np.array([[word2char.get(w, word2char['<UNK>']) for w in sent] for sent in texts])\n",
    "    results = []\n",
    "    for chars, lens, char_lens in get_batch_classifier_inference(texts, bsz):\n",
    "        res = session.run([classifier.probs, tagger.decode_sequence], feed_dict={\n",
    "            language_model.inputs: chars, language_model.seq_lens: lens,\n",
    "            language_model.char_lens: char_lens, language_model.bptt: 20\n",
    "        })\n",
    "        results.append(res)\n",
    "    return results"
   ]
  },
  {
   "cell_type": "code",
   "execution_count": 10,
   "metadata": {},
   "outputs": [
    {
     "data": {
      "text/plain": [
       "[[array([[2.6383090e-10, 4.1220969e-07, 2.5529323e-09, 4.4460057e-06,\n",
       "          1.3986375e-10, 4.0912549e-09, 9.9999332e-01, 1.7166545e-06,\n",
       "          1.2660480e-07, 1.8831827e-09, 1.0862791e-09, 4.7357842e-09,\n",
       "          2.1025070e-08, 3.9238029e-10, 3.7833159e-09, 3.3428937e-09,\n",
       "          1.2676154e-08, 1.2719356e-09, 4.1492596e-09]], dtype=float32),\n",
       "  array([[0, 0, 0, 2, 2, 0, 0, 0, 0]], dtype=int32)]]"
      ]
     },
     "execution_count": 10,
     "metadata": {},
     "output_type": "execute_result"
    }
   ],
   "source": [
    "inference(['Dịch vụ 4d secure là gì vậy'])"
   ]
  },
  {
   "cell_type": "code",
   "execution_count": null,
   "metadata": {},
   "outputs": [],
   "source": []
  }
 ],
 "metadata": {
  "kernelspec": {
   "display_name": "Python 3",
   "language": "python",
   "name": "python3"
  },
  "language_info": {
   "codemirror_mode": {
    "name": "ipython",
    "version": 3
   },
   "file_extension": ".py",
   "mimetype": "text/x-python",
   "name": "python",
   "nbconvert_exporter": "python",
   "pygments_lexer": "ipython3",
   "version": "3.6.6"
  }
 },
 "nbformat": 4,
 "nbformat_minor": 2
}
