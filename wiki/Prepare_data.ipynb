{
 "cells": [
  {
   "cell_type": "code",
   "execution_count": 1,
   "metadata": {},
   "outputs": [],
   "source": [
    "import pandas as pd\n",
    "import re\n",
    "import string\n",
    "import tqdm\n",
    "import pickle"
   ]
  },
  {
   "cell_type": "code",
   "execution_count": 2,
   "metadata": {},
   "outputs": [],
   "source": [
    "texts = pd.read_csv('all.csv', names=['text'])"
   ]
  },
  {
   "cell_type": "code",
   "execution_count": 3,
   "metadata": {},
   "outputs": [],
   "source": [
    "import unicodedata"
   ]
  },
  {
   "cell_type": "code",
   "execution_count": 4,
   "metadata": {},
   "outputs": [],
   "source": [
    "def word_rep(word):\n",
    "    lower = word.lower()\n",
    "    if lower != word:\n",
    "        return ('<U>', lower, '</U>')\n",
    "    return (lower, )\n",
    "def clean_text(text):\n",
    "    text = re.sub(r'[ ]*[\\n\\r]+[ ]*', ' _nl_ ', text)\n",
    "    text = re.sub(r'[ ]+', '_sp_', text)\n",
    "    text = re.sub(r'(\\W)', r'_sp_\\g<1>_sp_', text)\n",
    "    text = re.sub(r'(_sp_)+', ' ', text)\n",
    "    text = re.sub(r'\\b\\d+\\b', '<number>', text)\n",
    "#     text = '<S> ' + text + ' </S>'\n",
    "    text = text.split() + [None]\n",
    "    result = []\n",
    "    count = 1\n",
    "    for idx, word in enumerate(text[1:], start=1):\n",
    "        if word == text[idx-1]:\n",
    "            count += 1\n",
    "        elif count > 1:\n",
    "            result.append('<{}>'.format(count))\n",
    "            result.extend(word_rep(text[idx-1]))\n",
    "            result.append('</{}>'.format(count))\n",
    "            count = 1\n",
    "        else:\n",
    "            result.extend(word_rep(text[idx-1]))\n",
    "    return ['<S>'] +  result + ['</S>']"
   ]
  },
  {
   "cell_type": "code",
   "execution_count": 7,
   "metadata": {},
   "outputs": [
    {
     "data": {
      "application/vnd.jupyter.widget-view+json": {
       "model_id": "68e153d9adbe46a298dd136ddee721c3",
       "version_major": 2,
       "version_minor": 0
      },
      "text/plain": [
       "HBox(children=(IntProgress(value=0, max=1677662), HTML(value='')))"
      ]
     },
     "metadata": {},
     "output_type": "display_data"
    },
    {
     "name": "stdout",
     "output_type": "stream",
     "text": [
      "\n"
     ]
    }
   ],
   "source": [
    "all_text = []\n",
    "i = 0\n",
    "for text in tqdm.tqdm_notebook(texts['text']):\n",
    "    all_text.append(' '.join(clean_text(text)))\n",
    "#     print(i, end='\\r')"
   ]
  },
  {
   "cell_type": "code",
   "execution_count": 8,
   "metadata": {},
   "outputs": [],
   "source": [
    "import numpy as np"
   ]
  },
  {
   "cell_type": "code",
   "execution_count": 16,
   "metadata": {},
   "outputs": [],
   "source": [
    "random_text = []\n",
    "for i in np.random.permutation(np.arange(len(all_text))):\n",
    "    random_text.append(all_text[i])"
   ]
  },
  {
   "cell_type": "code",
   "execution_count": 19,
   "metadata": {},
   "outputs": [
    {
     "data": {
      "text/plain": [
       "1677662"
      ]
     },
     "execution_count": 19,
     "metadata": {},
     "output_type": "execute_result"
    }
   ],
   "source": [
    "len(random_text)"
   ]
  },
  {
   "cell_type": "code",
   "execution_count": 43,
   "metadata": {},
   "outputs": [
    {
     "name": "stdout",
     "output_type": "stream",
     "text": [
      "1277662 200000 200000\n"
     ]
    }
   ],
   "source": [
    "train = random_text[:-400000]\n",
    "valid = random_text[-400000:-200000]\n",
    "test = random_text[-200000:]\n",
    "print(len(train), len(valid), len(test))"
   ]
  },
  {
   "cell_type": "code",
   "execution_count": 44,
   "metadata": {},
   "outputs": [],
   "source": [
    "with open('full/train.pkl', 'wb') as out:\n",
    "    pickle.dump(train, out)"
   ]
  },
  {
   "cell_type": "code",
   "execution_count": 45,
   "metadata": {},
   "outputs": [],
   "source": [
    "with open('full/valid.pkl', 'wb') as out:\n",
    "    pickle.dump(valid, out)\n",
    "with open('full/test.pkl', 'wb') as out:\n",
    "    pickle.dump(test, out)"
   ]
  },
  {
   "cell_type": "code",
   "execution_count": 26,
   "metadata": {},
   "outputs": [],
   "source": [
    "from collections import Counter"
   ]
  },
  {
   "cell_type": "code",
   "execution_count": 27,
   "metadata": {},
   "outputs": [],
   "source": [
    "counter = Counter()"
   ]
  },
  {
   "cell_type": "code",
   "execution_count": 28,
   "metadata": {},
   "outputs": [
    {
     "data": {
      "application/vnd.jupyter.widget-view+json": {
       "model_id": "42bb6dc5cc9c4f86863e4ee0d234b1ca",
       "version_major": 2,
       "version_minor": 0
      },
      "text/plain": [
       "HBox(children=(IntProgress(value=0, max=1277662), HTML(value='')))"
      ]
     },
     "metadata": {},
     "output_type": "display_data"
    },
    {
     "name": "stdout",
     "output_type": "stream",
     "text": [
      "\n"
     ]
    }
   ],
   "source": [
    "for line in tqdm.tqdm_notebook(train):\n",
    "    counter.update(line.split())"
   ]
  },
  {
   "cell_type": "code",
   "execution_count": 29,
   "metadata": {},
   "outputs": [],
   "source": [
    "idx2word = ['<UNK>'] + [x for x, c in counter.most_common() if c > 10]"
   ]
  },
  {
   "cell_type": "code",
   "execution_count": 3,
   "metadata": {},
   "outputs": [],
   "source": [
    "import json"
   ]
  },
  {
   "cell_type": "code",
   "execution_count": 31,
   "metadata": {},
   "outputs": [
    {
     "data": {
      "application/vnd.jupyter.widget-view+json": {
       "model_id": "7ca892576eb24e2c9dab0b661931ed9f",
       "version_major": 2,
       "version_minor": 0
      },
      "text/plain": [
       "HBox(children=(IntProgress(value=1, bar_style='info', max=1), HTML(value='')))"
      ]
     },
     "metadata": {},
     "output_type": "display_data"
    },
    {
     "name": "stdout",
     "output_type": "stream",
     "text": [
      "\n"
     ]
    }
   ],
   "source": [
    "word2idx = {}\n",
    "for idx, w in tqdm.tqdm_notebook(enumerate(idx2word)):\n",
    "    word2idx[w] = idx + 1"
   ]
  },
  {
   "cell_type": "code",
   "execution_count": 32,
   "metadata": {},
   "outputs": [],
   "source": [
    "with open('full/word2idx.json', 'w') as out:\n",
    "    json.dump(word2idx, out)"
   ]
  },
  {
   "cell_type": "code",
   "execution_count": 33,
   "metadata": {},
   "outputs": [],
   "source": [
    "char_counter = Counter()"
   ]
  },
  {
   "cell_type": "code",
   "execution_count": 34,
   "metadata": {},
   "outputs": [
    {
     "data": {
      "application/vnd.jupyter.widget-view+json": {
       "model_id": "1b7b0f23c94f47179792a8e53a446840",
       "version_major": 2,
       "version_minor": 0
      },
      "text/plain": [
       "HBox(children=(IntProgress(value=0, max=122207), HTML(value='')))"
      ]
     },
     "metadata": {},
     "output_type": "display_data"
    },
    {
     "name": "stdout",
     "output_type": "stream",
     "text": [
      "\n"
     ]
    }
   ],
   "source": [
    "for w in tqdm.tqdm_notebook(idx2word):\n",
    "    char_counter.update(x for x in w)"
   ]
  },
  {
   "cell_type": "code",
   "execution_count": 35,
   "metadata": {},
   "outputs": [],
   "source": [
    "idx2char = [x for x, c in char_counter.most_common()]\n",
    "char2idx = {c: i+1 for i, c in enumerate(idx2char)}\n",
    "with open('full/char2idx.json', 'w') as out:\n",
    "    json.dump(char2idx, out)"
   ]
  },
  {
   "cell_type": "code",
   "execution_count": 37,
   "metadata": {},
   "outputs": [],
   "source": [
    "def text2idx(texts):\n",
    "    unk_idx = word2idx['<UNK>']\n",
    "    return np.array(\n",
    "        [word2idx.get(w, unk_idx) for text in tqdm.tqdm_notebook(texts) for w in text.split()]\n",
    "    )"
   ]
  },
  {
   "cell_type": "code",
   "execution_count": 46,
   "metadata": {},
   "outputs": [
    {
     "data": {
      "application/vnd.jupyter.widget-view+json": {
       "model_id": "301d5a8841d44ea88f3a8fa31dc7106e",
       "version_major": 2,
       "version_minor": 0
      },
      "text/plain": [
       "HBox(children=(IntProgress(value=0, max=200000), HTML(value='')))"
      ]
     },
     "metadata": {},
     "output_type": "display_data"
    }
   ],
   "source": [
    "train_arr = text2idx(train)\n",
    "test_arr = text2idx(test)\n",
    "valid_arr = text2idx(valid)"
   ]
  },
  {
   "cell_type": "code",
   "execution_count": 47,
   "metadata": {},
   "outputs": [],
   "source": [
    "np.save('full/train_word.npy', train_arr)\n",
    "np.save('full/test_word.npy', test_arr)\n",
    "np.save('full/valid_word.npy', valid_arr)"
   ]
  },
  {
   "cell_type": "code",
   "execution_count": 48,
   "metadata": {},
   "outputs": [
    {
     "name": "stdout",
     "output_type": "stream",
     "text": [
      "(391717938,)\n",
      "(61479417,)\n",
      "(61404695,)\n"
     ]
    }
   ],
   "source": [
    "print(train_arr.shape)\n",
    "print(valid_arr.shape)\n",
    "print(test_arr.shape)"
   ]
  },
  {
   "cell_type": "code",
   "execution_count": 4,
   "metadata": {},
   "outputs": [],
   "source": [
    "with open('full/char2idx.json', 'r') as out:\n",
    "    char2idx = json.load(out)\n",
    "with open('full/word2idx.json', 'r') as out:\n",
    "    word2idx = json.load(out)"
   ]
  },
  {
   "cell_type": "code",
   "execution_count": 5,
   "metadata": {},
   "outputs": [],
   "source": [
    "with open('full/train.pkl', 'rb') as inp:\n",
    "    train = pickle.load(inp)\n",
    "with open('full/valid.pkl', 'rb') as inp:\n",
    "    valid = pickle.load(inp)\n",
    "with open('full/test.pkl', 'rb') as inp:\n",
    "    test = pickle.load(inp)"
   ]
  },
  {
   "cell_type": "code",
   "execution_count": 6,
   "metadata": {},
   "outputs": [],
   "source": [
    "def text2charidx(texts):\n",
    "    word2char = {w: [char2idx[c] for c in w] for w in word2idx}\n",
    "    unk_list = word2char['<UNK>']\n",
    "    return np.array(\n",
    "        [word2char[w] if w in word2idx else unk_list for text in tqdm.tqdm_notebook(texts) for w in text.split()]\n",
    "    )"
   ]
  },
  {
   "cell_type": "code",
   "execution_count": null,
   "metadata": {},
   "outputs": [
    {
     "data": {
      "application/vnd.jupyter.widget-view+json": {
       "model_id": "47de45a51b7a4e45bf648f17d003c1aa",
       "version_major": 2,
       "version_minor": 0
      },
      "text/plain": [
       "HBox(children=(IntProgress(value=0, max=1277662), HTML(value='')))"
      ]
     },
     "metadata": {},
     "output_type": "display_data"
    }
   ],
   "source": [
    "train_char = text2charidx(train)\n",
    "test_char = text2charidx(test)\n",
    "valid_char = text2charidx(valid)"
   ]
  },
  {
   "cell_type": "code",
   "execution_count": null,
   "metadata": {},
   "outputs": [],
   "source": [
    "np.save('full/train_char.npy', train_char)\n",
    "np.save('full/test_char.npy', test_char)\n",
    "np.save('full/valid_char.npy', valid_char)"
   ]
  },
  {
   "cell_type": "code",
   "execution_count": null,
   "metadata": {},
   "outputs": [],
   "source": [
    "a = ' '.join(idx2word[i-1] for i in test_arr[:10000])\n",
    "b = ' '.join(''.join(idx2char[i-1] for i in w) for w in test_char[:10000])\n",
    "a == b"
   ]
  },
  {
   "cell_type": "code",
   "execution_count": 50,
   "metadata": {},
   "outputs": [],
   "source": []
  }
 ],
 "metadata": {
  "kernelspec": {
   "display_name": "Python 3",
   "language": "python",
   "name": "python3"
  },
  "language_info": {
   "codemirror_mode": {
    "name": "ipython",
    "version": 3
   },
   "file_extension": ".py",
   "mimetype": "text/x-python",
   "name": "python",
   "nbconvert_exporter": "python",
   "pygments_lexer": "ipython3",
   "version": "3.6.6"
  }
 },
 "nbformat": 4,
 "nbformat_minor": 2
}
