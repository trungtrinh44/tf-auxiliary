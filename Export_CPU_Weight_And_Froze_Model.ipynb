{
 "cells": [
  {
   "cell_type": "code",
   "execution_count": 1,
   "metadata": {},
   "outputs": [],
   "source": [
    "from model_v2 import build_lm_classifier_tagger_inference, LSTM_SAVED_STATE\n",
    "from utils import get_batch_classifier_inference, clean_text\n",
    "import json\n",
    "import tensorflow as tf\n",
    "from tensorflow.contrib.cudnn_rnn.python.ops import cudnn_rnn_ops\n",
    "import numpy as np\n",
    "import matplotlib.pyplot as plt\n",
    "import pandas as pd\n",
    "import re\n",
    "%matplotlib inline"
   ]
  },
  {
   "cell_type": "code",
   "execution_count": 2,
   "metadata": {},
   "outputs": [],
   "source": [
    "with open('109_Bank/checkpoints/model_configs.json', 'r') as inp:\n",
    "    lm_params = json.load(inp)\n",
    "with open('109_Bank/checkpoints/classifier_configs.json') as inp:\n",
    "    cls_params = json.load(inp)\n",
    "with open('109_Bank/checkpoints/tagger_configs.json') as inp:\n",
    "    tag_params = json.load(inp)\n",
    "language_model, classifier, tagger = build_lm_classifier_tagger_inference(lm_params, \n",
    "                                                                          cls_params, tag_params, \n",
    "                                                                          is_cpu=False)"
   ]
  },
  {
   "cell_type": "code",
   "execution_count": 3,
   "metadata": {},
   "outputs": [
    {
     "name": "stdout",
     "output_type": "stream",
     "text": [
      "INFO:tensorflow:Restoring parameters from 109_Bank/checkpoints/chatbot_test/model.cpkt-723\n"
     ]
    }
   ],
   "source": [
    "config = tf.ConfigProto()\n",
    "config.gpu_options.allow_growth = True\n",
    "session = tf.Session(config=config)\n",
    "# Load saver in GPU to restore weights\n",
    "gpu_saver = tf.train.Saver([x for x in tf.global_variables() if x not in tf.get_collection(LSTM_SAVED_STATE)])\n",
    "gpu_saver.restore(session, '109_Bank/checkpoints/chatbot_test/model.cpkt-723')"
   ]
  },
  {
   "cell_type": "code",
   "execution_count": 4,
   "metadata": {},
   "outputs": [],
   "source": [
    "def cudnn_lstm_to_lstmblockcell(input_size, n_units, weights):\n",
    "    weights, biases = cudnn_rnn_ops.cudnn_rnn_opaque_params_to_canonical(\n",
    "                rnn_mode='lstm', \n",
    "                num_layers=1, \n",
    "                num_units=n_units,\n",
    "                input_size=input_size, \n",
    "                params=weights, \n",
    "                input_mode='linear_input',\n",
    "                direction='unidirectional'\n",
    "    )\n",
    "    weights = [tf.concat((w, r), axis=1) for w, r in zip(weights[:4], weights[4:])]\n",
    "    biases = [tf.add(w, r) for w, r in zip(biases[:4], biases[4:])]\n",
    "    # Cudnn LSTM weights are in ifco order, other tf LSTMs are in icfo order.\n",
    "    new_order = [0, 2, 1, 3]\n",
    "    weights = tf.concat([weights[i] for i in new_order], axis=0)\n",
    "    biases = tf.concat([biases[i] for i in new_order], axis=0)\n",
    "    return tf.transpose(weights), tf.transpose(biases)"
   ]
  },
  {
   "cell_type": "code",
   "execution_count": 5,
   "metadata": {},
   "outputs": [],
   "source": [
    "name2var = {}\n",
    "assign_ops = []\n",
    "for v in tf.global_variables():\n",
    "    if 'cudnn_lstm' in v.op.name:\n",
    "        prefix = v.op.name.replace('cudnn_lstm', 'cudnn_compatible_lstm_cell').replace('opaque_kernel', '')\n",
    "        idx = re.search('cudnn_lstm(_\\d+)?', v.op.name).group(0)\n",
    "        idx = re.search('\\d+', idx)\n",
    "        if idx is None:\n",
    "            idx = 0\n",
    "        else:\n",
    "            idx = int(idx.group(0))\n",
    "        n_units = lm_params['rnn_layers'][idx]['units']\n",
    "        input_shape = lm_params.get('projection_dims', None)\n",
    "        if input_shape is None:\n",
    "            if idx == 0:\n",
    "                input_shape = sum(x for _,x in lm_params['char_cnn_options']['layers'])\n",
    "            else:\n",
    "                input_shape = lm_params['rnn_layers'][idx-1]['units']\n",
    "        kernel_name = prefix + 'kernel'\n",
    "        bias_name = prefix + 'bias'\n",
    "        kernel_val, bias_val = cudnn_lstm_to_lstmblockcell(input_shape, n_units, v)\n",
    "        name2var[kernel_name] = tf.get_variable(kernel_name, shape=(input_shape+n_units, 4*n_units), dtype=tf.float32)\n",
    "        name2var[bias_name] = tf.get_variable(bias_name, shape=(4*n_units,), dtype=tf.float32)\n",
    "        assign_ops.append(tf.assign(name2var[kernel_name], kernel_val))\n",
    "        assign_ops.append(tf.assign(name2var[bias_name], bias_val))\n",
    "        \n",
    "    else:\n",
    "        name2var[v.op.name] = v\n",
    "assign_ops = tf.group(assign_ops)"
   ]
  },
  {
   "cell_type": "code",
   "execution_count": 6,
   "metadata": {},
   "outputs": [],
   "source": [
    "session.run(assign_ops)"
   ]
  },
  {
   "cell_type": "code",
   "execution_count": 7,
   "metadata": {},
   "outputs": [],
   "source": [
    "# Create CPU saver\n",
    "cpu_saver = tf.train.Saver(name2var)\n",
    "cpu_saver.save(session, '109_Bank/checkpoints/chatbot_cpu/model.cpkt-723', write_meta_graph=False)\n",
    "session.close()"
   ]
  },
  {
   "cell_type": "code",
   "execution_count": 8,
   "metadata": {},
   "outputs": [],
   "source": [
    "config = tf.ConfigProto()\n",
    "config.gpu_options.allow_growth = True\n",
    "session = tf.Session(config=config)\n",
    "tf.reset_default_graph()\n",
    "language_model, classifier, tagger = build_lm_classifier_tagger_inference(lm_params, \n",
    "                                                                          cls_params, tag_params, \n",
    "                                                                          is_cpu=True)"
   ]
  },
  {
   "cell_type": "code",
   "execution_count": 9,
   "metadata": {},
   "outputs": [
    {
     "name": "stdout",
     "output_type": "stream",
     "text": [
      "INFO:tensorflow:Restoring parameters from 109_Bank/checkpoints/chatbot_cpu/model.cpkt-723\n"
     ]
    }
   ],
   "source": [
    "cpu_saver = tf.train.Saver(name2var)\n",
    "cpu_saver.restore(session, '109_Bank/checkpoints/chatbot_cpu/model.cpkt-723')"
   ]
  },
  {
   "cell_type": "code",
   "execution_count": 10,
   "metadata": {},
   "outputs": [
    {
     "data": {
      "text/plain": [
       "'109_Bank/checkpoints/chatbot_cpu/model.cpkt-723'"
      ]
     },
     "execution_count": 10,
     "metadata": {},
     "output_type": "execute_result"
    }
   ],
   "source": [
    "cpu_saver.save(session, '109_Bank/checkpoints/chatbot_cpu/model.cpkt-723')"
   ]
  },
  {
   "cell_type": "code",
   "execution_count": 21,
   "metadata": {},
   "outputs": [
    {
     "name": "stdout",
     "output_type": "stream",
     "text": [
      "INFO:tensorflow:Froze 54 variables.\n",
      "INFO:tensorflow:Converted 54 variables to const ops.\n"
     ]
    }
   ],
   "source": [
    "output_graph_def = tf.graph_util.convert_variables_to_constants(\n",
    "    session, tf.get_default_graph().as_graph_def(),\n",
    "    [classifier.probs.op.name, tagger.decode_sequence.op.name, tagger.decode_score.op.name]\n",
    ")"
   ]
  },
  {
   "cell_type": "code",
   "execution_count": 23,
   "metadata": {},
   "outputs": [],
   "source": [
    "!mkdir -p 109_Bank/checkpoints/chatbot_frozen/\n",
    "with tf.gfile.GFile('109_Bank/checkpoints/chatbot_frozen/frozen.pb-723', \"wb\") as f:\n",
    "    f.write(output_graph_def.SerializeToString())"
   ]
  },
  {
   "cell_type": "code",
   "execution_count": null,
   "metadata": {},
   "outputs": [],
   "source": [
    "[classifier.probs.op.name, tagger.decode_sequence.op.name, tagger.decode_score.op.name]"
   ]
  },
  {
   "cell_type": "code",
   "execution_count": null,
   "metadata": {},
   "outputs": [],
   "source": []
  }
 ],
 "metadata": {
  "kernelspec": {
   "display_name": "Python 3",
   "language": "python",
   "name": "python3"
  },
  "language_info": {
   "codemirror_mode": {
    "name": "ipython",
    "version": 3
   },
   "file_extension": ".py",
   "mimetype": "text/x-python",
   "name": "python",
   "nbconvert_exporter": "python",
   "pygments_lexer": "ipython3",
   "version": "3.6.6"
  }
 },
 "nbformat": 4,
 "nbformat_minor": 2
}
