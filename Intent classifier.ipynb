{
 "cells": [
  {
   "cell_type": "code",
   "execution_count": null,
   "metadata": {},
   "outputs": [],
   "source": [
    "import tensorflow as tf\n",
    "import pickle\n",
    "import numpy as np"
   ]
  },
  {
   "cell_type": "code",
   "execution_count": null,
   "metadata": {},
   "outputs": [],
   "source": [
    "with open('classify data/X_train.pkl', 'rb') as inp:\n",
    "    X_train = pickle.load(inp)\n",
    "with open('classify data/y_train.pkl', 'rb') as inp:\n",
    "    y_train = pickle.load(inp)\n",
    "with open('classify data/X_test.pkl', 'rb') as inp:\n",
    "    X_test = pickle.load(inp)\n",
    "with open('classify data/y_test.pkl', 'rb') as inp:\n",
    "    y_test = pickle.load(inp)\n",
    "with open('classify data/X_val.pkl', 'rb') as inp:\n",
    "    X_val = pickle.load(inp)\n",
    "with open('classify data/y_val.pkl', 'rb') as inp:\n",
    "    y_val = pickle.load(inp)"
   ]
  },
  {
   "cell_type": "code",
   "execution_count": null,
   "metadata": {},
   "outputs": [],
   "source": [
    "from sklearn.neural_network import MLPClassifier"
   ]
  },
  {
   "cell_type": "code",
   "execution_count": 13,
   "metadata": {},
   "outputs": [],
   "source": [
    "classifier = MLPClassifier(early_stopping=True, verbose=1, hidden_layer_sizes=(50,))"
   ]
  },
  {
   "cell_type": "code",
   "execution_count": 14,
   "metadata": {},
   "outputs": [
    {
     "data": {
      "text/plain": [
       "(2432, 1024)"
      ]
     },
     "execution_count": 14,
     "metadata": {},
     "output_type": "execute_result"
    }
   ],
   "source": [
    "train_data = np.stack([x[0][1024:2048] for x in X_train], axis=0)\n",
    "train_label = np.stack(y_train.values, axis=0)\n",
    "train_data.shape"
   ]
  },
  {
   "cell_type": "code",
   "execution_count": 15,
   "metadata": {},
   "outputs": [
    {
     "name": "stdout",
     "output_type": "stream",
     "text": [
      "Iteration 1, loss = 2.67790505\n",
      "Validation score: 0.270492\n",
      "Iteration 2, loss = 2.14560722\n",
      "Validation score: 0.311475\n",
      "Iteration 3, loss = 1.98819841\n",
      "Validation score: 0.438525\n",
      "Iteration 4, loss = 1.86972603\n",
      "Validation score: 0.487705\n",
      "Iteration 5, loss = 1.78994675\n",
      "Validation score: 0.475410\n",
      "Iteration 6, loss = 1.73061709\n",
      "Validation score: 0.528689\n",
      "Iteration 7, loss = 1.69504982\n",
      "Validation score: 0.553279\n",
      "Iteration 8, loss = 1.64990364\n",
      "Validation score: 0.536885\n",
      "Iteration 9, loss = 1.61317731\n",
      "Validation score: 0.553279\n",
      "Iteration 10, loss = 1.58599738\n",
      "Validation score: 0.565574\n",
      "Iteration 11, loss = 1.55859302\n",
      "Validation score: 0.573770\n",
      "Iteration 12, loss = 1.54236182\n",
      "Validation score: 0.590164\n",
      "Iteration 13, loss = 1.51575723\n",
      "Validation score: 0.594262\n",
      "Iteration 14, loss = 1.50213842\n",
      "Validation score: 0.598361\n",
      "Iteration 15, loss = 1.48721212\n",
      "Validation score: 0.598361\n",
      "Iteration 16, loss = 1.47245365\n",
      "Validation score: 0.602459\n",
      "Iteration 17, loss = 1.45545238\n",
      "Validation score: 0.606557\n",
      "Iteration 18, loss = 1.45308612\n",
      "Validation score: 0.614754\n",
      "Iteration 19, loss = 1.42991050\n",
      "Validation score: 0.610656\n",
      "Iteration 20, loss = 1.41660872\n",
      "Validation score: 0.610656\n",
      "Iteration 21, loss = 1.41161690\n",
      "Validation score: 0.602459\n",
      "Iteration 22, loss = 1.41173433\n",
      "Validation score: 0.606557\n",
      "Iteration 23, loss = 1.40155057\n",
      "Validation score: 0.614754\n",
      "Iteration 24, loss = 1.39245355\n",
      "Validation score: 0.622951\n",
      "Iteration 25, loss = 1.38076274\n",
      "Validation score: 0.635246\n",
      "Iteration 26, loss = 1.37109047\n",
      "Validation score: 0.631148\n",
      "Iteration 27, loss = 1.36854523\n",
      "Validation score: 0.622951\n",
      "Iteration 28, loss = 1.36082142\n",
      "Validation score: 0.614754\n",
      "Iteration 29, loss = 1.34932982\n",
      "Validation score: 0.618852\n",
      "Iteration 30, loss = 1.35849647\n",
      "Validation score: 0.614754\n",
      "Iteration 31, loss = 1.34859796\n",
      "Validation score: 0.618852\n",
      "Iteration 32, loss = 1.33199060\n",
      "Validation score: 0.618852\n",
      "Iteration 33, loss = 1.32262334\n",
      "Validation score: 0.635246\n",
      "Iteration 34, loss = 1.31398581\n",
      "Validation score: 0.639344\n",
      "Iteration 35, loss = 1.31094595\n",
      "Validation score: 0.663934\n",
      "Iteration 36, loss = 1.30264937\n",
      "Validation score: 0.663934\n",
      "Iteration 37, loss = 1.29666207\n",
      "Validation score: 0.639344\n",
      "Iteration 38, loss = 1.29859476\n",
      "Validation score: 0.639344\n",
      "Iteration 39, loss = 1.29316169\n",
      "Validation score: 0.647541\n",
      "Iteration 40, loss = 1.28624409\n",
      "Validation score: 0.618852\n",
      "Iteration 41, loss = 1.27110371\n",
      "Validation score: 0.643443\n",
      "Iteration 42, loss = 1.26797650\n",
      "Validation score: 0.639344\n",
      "Iteration 43, loss = 1.26244450\n",
      "Validation score: 0.676230\n",
      "Iteration 44, loss = 1.26702037\n",
      "Validation score: 0.647541\n",
      "Iteration 45, loss = 1.25941562\n",
      "Validation score: 0.651639\n",
      "Iteration 46, loss = 1.25052532\n",
      "Validation score: 0.639344\n",
      "Iteration 47, loss = 1.24766651\n",
      "Validation score: 0.672131\n",
      "Iteration 48, loss = 1.24578486\n",
      "Validation score: 0.651639\n",
      "Iteration 49, loss = 1.24759637\n",
      "Validation score: 0.639344\n",
      "Iteration 50, loss = 1.24840372\n",
      "Validation score: 0.631148\n",
      "Iteration 51, loss = 1.23129236\n",
      "Validation score: 0.643443\n",
      "Iteration 52, loss = 1.22468857\n",
      "Validation score: 0.647541\n",
      "Iteration 53, loss = 1.21736066\n",
      "Validation score: 0.659836\n",
      "Iteration 54, loss = 1.21236786\n",
      "Validation score: 0.659836\n",
      "Validation score did not improve more than tol=0.000100 for 10 consecutive epochs. Stopping.\n"
     ]
    },
    {
     "data": {
      "text/plain": [
       "MLPClassifier(activation='relu', alpha=0.0001, batch_size='auto', beta_1=0.9,\n",
       "       beta_2=0.999, early_stopping=True, epsilon=1e-08,\n",
       "       hidden_layer_sizes=(50,), learning_rate='constant',\n",
       "       learning_rate_init=0.001, max_iter=200, momentum=0.9,\n",
       "       n_iter_no_change=10, nesterovs_momentum=True, power_t=0.5,\n",
       "       random_state=None, shuffle=True, solver='adam', tol=0.0001,\n",
       "       validation_fraction=0.1, verbose=1, warm_start=False)"
      ]
     },
     "execution_count": 15,
     "metadata": {},
     "output_type": "execute_result"
    }
   ],
   "source": [
    "classifier.fit(train_data, train_label)"
   ]
  },
  {
   "cell_type": "code",
   "execution_count": 16,
   "metadata": {},
   "outputs": [
    {
     "data": {
      "text/plain": [
       "(3041, 1024)"
      ]
     },
     "execution_count": 16,
     "metadata": {},
     "output_type": "execute_result"
    }
   ],
   "source": [
    "test_data = np.stack([x[0][1024:2048] for x in X_test], axis=0)\n",
    "test_label = np.stack(y_test.values, axis=0)\n",
    "test_data.shape"
   ]
  },
  {
   "cell_type": "code",
   "execution_count": 17,
   "metadata": {},
   "outputs": [],
   "source": [
    "test_pred = classifier.predict(test_data)"
   ]
  },
  {
   "cell_type": "code",
   "execution_count": 19,
   "metadata": {},
   "outputs": [],
   "source": [
    "from sklearn.metrics import classification_report"
   ]
  },
  {
   "cell_type": "code",
   "execution_count": 21,
   "metadata": {},
   "outputs": [
    {
     "name": "stdout",
     "output_type": "stream",
     "text": [
      "              precision    recall  f1-score   support\n",
      "\n",
      "           0       0.82      0.87      0.85      1527\n",
      "           1       0.93      0.68      0.79       521\n",
      "           2       0.00      0.00      0.00         2\n",
      "           3       0.84      0.60      0.70       641\n",
      "           4       0.47      0.20      0.28       353\n",
      "           5       0.75      0.65      0.70       549\n",
      "\n",
      "   micro avg       0.81      0.70      0.75      3593\n",
      "   macro avg       0.64      0.50      0.55      3593\n",
      "weighted avg       0.79      0.70      0.73      3593\n",
      " samples avg       0.76      0.73      0.74      3593\n",
      "\n"
     ]
    }
   ],
   "source": [
    "print(classification_report(y_true=test_label, y_pred=test_pred))"
   ]
  },
  {
   "cell_type": "code",
   "execution_count": 22,
   "metadata": {},
   "outputs": [],
   "source": [
    "label = ['price','where','time','availability','interest','other']"
   ]
  },
  {
   "cell_type": "code",
   "execution_count": null,
   "metadata": {},
   "outputs": [],
   "source": [
    "for yt, yp, (_, mess) in zip(test_label, test_pred, X_test):\n",
    "    flag = False\n",
    "    for i, l in enumerate(label):\n",
    "        if yt[i] != yp[i]:\n",
    "            print(l)\n",
    "            flag = True\n",
    "    if flag: print(mess)"
   ]
  }
 ],
 "metadata": {
  "kernelspec": {
   "display_name": "Python 3",
   "language": "python",
   "name": "python3"
  },
  "language_info": {
   "codemirror_mode": {
    "name": "ipython",
    "version": 3
   },
   "file_extension": ".py",
   "mimetype": "text/x-python",
   "name": "python",
   "nbconvert_exporter": "python",
   "pygments_lexer": "ipython3",
   "version": "3.6.6"
  }
 },
 "nbformat": 4,
 "nbformat_minor": 2
}
