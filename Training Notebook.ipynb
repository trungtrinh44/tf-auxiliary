{
 "cells": [
  {
   "cell_type": "code",
   "execution_count": 1,
   "metadata": {},
   "outputs": [],
   "source": [
    "from data import Corpus\n",
    "import trainer\n",
    "from utils import batchify\n",
    "import json\n",
    "import tensorflow as tf"
   ]
  },
  {
   "cell_type": "code",
   "execution_count": null,
   "metadata": {},
   "outputs": [],
   "source": [
    "# corpus = Corpus('baomoi/')\n",
    "!rm -rf 1 && mkdir -p 1/checkpoints"
   ]
  },
  {
   "cell_type": "code",
   "execution_count": 4,
   "metadata": {},
   "outputs": [],
   "source": [
    "import numpy as np"
   ]
  },
  {
   "cell_type": "code",
   "execution_count": null,
   "metadata": {},
   "outputs": [],
   "source": [
    "# np.save('baomoi/train.npy', corpus.train)"
   ]
  },
  {
   "cell_type": "code",
   "execution_count": null,
   "metadata": {},
   "outputs": [],
   "source": [
    "# np.save('baomoi/valid.npy', corpus.valid)"
   ]
  },
  {
   "cell_type": "code",
   "execution_count": null,
   "metadata": {},
   "outputs": [],
   "source": [
    "# np.save('baomoi/test.npy', corpus.test)"
   ]
  },
  {
   "cell_type": "code",
   "execution_count": null,
   "metadata": {},
   "outputs": [],
   "source": [
    "# with open('word2idx.json','w') as out:\n",
    "#     json.dump(corpus.dictionary.word2idx, out)"
   ]
  },
  {
   "cell_type": "code",
   "execution_count": 2,
   "metadata": {},
   "outputs": [],
   "source": [
    "with open('word2idx.json','r') as inp:\n",
    "    word2idx = json.load(inp)"
   ]
  },
  {
   "cell_type": "code",
   "execution_count": 5,
   "metadata": {},
   "outputs": [],
   "source": [
    "with open('baomoi/train.npy','rb') as inp:\n",
    "    train = np.load(inp)\n",
    "with open('baomoi/test.npy','rb') as inp:\n",
    "    test = np.load(inp)\n",
    "with open('baomoi/valid.npy','rb') as inp:\n",
    "    valid = np.load(inp)"
   ]
  },
  {
   "cell_type": "code",
   "execution_count": null,
   "metadata": {},
   "outputs": [],
   "source": [
    "train_data = batchify(train, 102).T\n",
    "val_data = batchify(valid, 10).T"
   ]
  },
  {
   "cell_type": "code",
   "execution_count": null,
   "metadata": {},
   "outputs": [],
   "source": [
    "VERSION = 1\n",
    "params = dict(\n",
    "    model_configs = {\n",
    "        'rnn_layers': [\n",
    "            {'units': 1150, 'input_size': 400, 'drop_i': 0.3, 'drop_w': 0.5},\n",
    "            {'units': 1150, 'input_size': 1150, 'drop_w': 0.5},\n",
    "            {'units': 400, 'input_size': 1150, 'drop_o': 0.3, 'drop_w': 0.5}\n",
    "        ],\n",
    "        'vocab_size': len(word2idx), \n",
    "        'drop_e': 0.1,\n",
    "        'parallel_iterations': 64\n",
    "    },\n",
    "    optimizer = tf.train.GradientDescentOptimizer,\n",
    "    learning_rate = 10.0,\n",
    "    decay_freq = 10000,\n",
    "    decay_rate = 0.1,\n",
    "    alpha = 1e-5,\n",
    "    beta = 1e-5,\n",
    "    clip_norm = 0.25,\n",
    "    bptt = 100,\n",
    "    use_ema = True,\n",
    "    log_path = '1/logs',\n",
    "    train_summary_dir = '{}/train_summary/'.format(VERSION),\n",
    "    test_summary_dir = '{}/test_summary/'.format(VERSION),\n",
    "    checkpoint_dir = '{}/checkpoints/'.format(VERSION)\n",
    ")"
   ]
  },
  {
   "cell_type": "code",
   "execution_count": null,
   "metadata": {},
   "outputs": [],
   "source": [
    "my_trainer = trainer.Trainer(**params)"
   ]
  },
  {
   "cell_type": "code",
   "execution_count": null,
   "metadata": {},
   "outputs": [],
   "source": [
    "tf.reset_default_graph()\n",
    "my_trainer.build()"
   ]
  },
  {
   "cell_type": "code",
   "execution_count": null,
   "metadata": {
    "scrolled": false
   },
   "outputs": [],
   "source": [
    "my_trainer.session.run(tf.global_variables_initializer())\n",
    "for _ in range(10000):\n",
    "    my_trainer.train_dev_loop(train_data, val_data)"
   ]
  }
 ],
 "metadata": {
  "kernelspec": {
   "display_name": "Python 3",
   "language": "python",
   "name": "python3"
  },
  "language_info": {
   "codemirror_mode": {
    "name": "ipython",
    "version": 3
   },
   "file_extension": ".py",
   "mimetype": "text/x-python",
   "name": "python",
   "nbconvert_exporter": "python",
   "pygments_lexer": "ipython3",
   "version": "3.6.6"
  }
 },
 "nbformat": 4,
 "nbformat_minor": 2
}
