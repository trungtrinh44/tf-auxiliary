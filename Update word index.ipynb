{
 "cells": [
  {
   "cell_type": "code",
   "execution_count": 26,
   "metadata": {},
   "outputs": [],
   "source": [
    "import tensorflow as tf\n",
    "import json\n",
    "from trainer import Trainer\n",
    "from utils import map_word_to_vector\n",
    "import numpy as np\n",
    "import os"
   ]
  },
  {
   "cell_type": "code",
   "execution_count": 2,
   "metadata": {},
   "outputs": [],
   "source": [
    "with open('102/checkpoints/model_configs.json', 'r') as inp:\n",
    "    model_configs = json.load(inp)"
   ]
  },
  {
   "cell_type": "code",
   "execution_count": 3,
   "metadata": {},
   "outputs": [],
   "source": [
    "with open('wiki_new/word2idx.json', 'r') as inp:\n",
    "    new_word2idx = json.load(inp)\n",
    "with open('wiki_new/char2idx.json', 'r') as inp:\n",
    "    new_char2idx = json.load(inp)\n",
    "with open('102/word2idx.json', 'r') as inp:\n",
    "    old_word2idx = json.load(inp)\n",
    "with open('102/char2idx.json', 'r') as inp:\n",
    "    old_char2idx = json.load(inp)"
   ]
  },
  {
   "cell_type": "code",
   "execution_count": 4,
   "metadata": {},
   "outputs": [],
   "source": [
    "VERSION = 102\n",
    "params = dict(\n",
    "    model_configs = model_configs,\n",
    "    optimizer = tf.train.GradientDescentOptimizer,\n",
    "    negative_samples = 8192,\n",
    "    wdecay = 1.2e-6,\n",
    "    alpha = 1e-6,\n",
    "    beta = 1e-6,\n",
    "    clip_norm = 0.3,\n",
    "    bptt = 70,\n",
    "    use_ema = True,\n",
    "    save_freq = 1000,\n",
    "    log_path = '{}/logs'.format(VERSION),\n",
    "    train_summary_dir = '{}/train_summary/'.format(VERSION),\n",
    "    test_summary_dir = '{}/test_summary/'.format(VERSION),\n",
    "    checkpoint_dir = '{}/checkpoints/'.format(VERSION)\n",
    ")"
   ]
  },
  {
   "cell_type": "code",
   "execution_count": 5,
   "metadata": {},
   "outputs": [],
   "source": [
    "trainer = Trainer(**params)"
   ]
  },
  {
   "cell_type": "code",
   "execution_count": 6,
   "metadata": {},
   "outputs": [
    {
     "name": "stdout",
     "output_type": "stream",
     "text": [
      "INFO:tensorflow:Restoring parameters from 102/checkpoints/train/model.cpkt-557539\n"
     ]
    },
    {
     "name": "stderr",
     "output_type": "stream",
     "text": [
      "Restoring parameters from 102/checkpoints/train/model.cpkt-557539\n"
     ]
    }
   ],
   "source": [
    "trainer.build()"
   ]
  },
  {
   "cell_type": "code",
   "execution_count": 7,
   "metadata": {},
   "outputs": [],
   "source": [
    "model_configs['vocab_size'] = len(new_word2idx) + 1\n",
    "model_configs['char_vocab_size'] = len(new_char2idx) + 1"
   ]
  },
  {
   "cell_type": "code",
   "execution_count": 8,
   "metadata": {},
   "outputs": [
    {
     "data": {
      "text/plain": [
       "[<tf.Variable 'LanguageModel/decode_W:0' shape=(512, 153360) dtype=float32_ref>,\n",
       " <tf.Variable 'LanguageModel/decode_b:0' shape=(153360,) dtype=float32_ref>,\n",
       " <tf.Variable 'LanguageModel/word_embedding/embedding_weight:0' shape=(1005, 16) dtype=float32_ref>,\n",
       " <tf.Variable 'LanguageModel/word_embedding/conv1d/kernel:0' shape=(1, 16, 16) dtype=float32_ref>,\n",
       " <tf.Variable 'LanguageModel/word_embedding/conv1d/bias:0' shape=(16,) dtype=float32_ref>,\n",
       " <tf.Variable 'LanguageModel/word_embedding/conv1d_1/kernel:0' shape=(2, 16, 16) dtype=float32_ref>,\n",
       " <tf.Variable 'LanguageModel/word_embedding/conv1d_1/bias:0' shape=(16,) dtype=float32_ref>,\n",
       " <tf.Variable 'LanguageModel/word_embedding/conv1d_2/kernel:0' shape=(3, 16, 32) dtype=float32_ref>,\n",
       " <tf.Variable 'LanguageModel/word_embedding/conv1d_2/bias:0' shape=(32,) dtype=float32_ref>,\n",
       " <tf.Variable 'LanguageModel/word_embedding/conv1d_3/kernel:0' shape=(4, 16, 64) dtype=float32_ref>,\n",
       " <tf.Variable 'LanguageModel/word_embedding/conv1d_3/bias:0' shape=(64,) dtype=float32_ref>,\n",
       " <tf.Variable 'LanguageModel/word_embedding/conv1d_4/kernel:0' shape=(5, 16, 128) dtype=float32_ref>,\n",
       " <tf.Variable 'LanguageModel/word_embedding/conv1d_4/bias:0' shape=(128,) dtype=float32_ref>,\n",
       " <tf.Variable 'LanguageModel/word_embedding/conv1d_5/kernel:0' shape=(6, 16, 256) dtype=float32_ref>,\n",
       " <tf.Variable 'LanguageModel/word_embedding/conv1d_5/bias:0' shape=(256,) dtype=float32_ref>,\n",
       " <tf.Variable 'LanguageModel/word_embedding/conv1d_6/kernel:0' shape=(7, 16, 512) dtype=float32_ref>,\n",
       " <tf.Variable 'LanguageModel/word_embedding/conv1d_6/bias:0' shape=(512,) dtype=float32_ref>,\n",
       " <tf.Variable 'LanguageModel/word_embedding/ww_carry_0:0' shape=(1024, 1024) dtype=float32_ref>,\n",
       " <tf.Variable 'LanguageModel/word_embedding/bb_carry_0:0' shape=(1024,) dtype=float32_ref>,\n",
       " <tf.Variable 'LanguageModel/word_embedding/ww_tr_0:0' shape=(1024, 1024) dtype=float32_ref>,\n",
       " <tf.Variable 'LanguageModel/word_embedding/bb_tr_0:0' shape=(1024,) dtype=float32_ref>,\n",
       " <tf.Variable 'LanguageModel/word_embedding/ww_carry_1:0' shape=(1024, 1024) dtype=float32_ref>,\n",
       " <tf.Variable 'LanguageModel/word_embedding/bb_carry_1:0' shape=(1024,) dtype=float32_ref>,\n",
       " <tf.Variable 'LanguageModel/word_embedding/ww_tr_1:0' shape=(1024, 1024) dtype=float32_ref>,\n",
       " <tf.Variable 'LanguageModel/word_embedding/bb_tr_1:0' shape=(1024,) dtype=float32_ref>,\n",
       " <tf.Variable 'LanguageModel/word_embedding/w_proj:0' shape=(1024, 512) dtype=float32_ref>,\n",
       " <tf.Variable 'LanguageModel/word_embedding/b_proj:0' shape=(512,) dtype=float32_ref>,\n",
       " <tf.Variable 'LanguageModel/LMFW/c_0:0' shape=(1, 1, 1024) dtype=float32_ref>,\n",
       " <tf.Variable 'LanguageModel/LMFW/h_0:0' shape=(1, 1, 1024) dtype=float32_ref>,\n",
       " <tf.Variable 'LanguageModel/LMFW/cudnn_lstm/opaque_kernel:0' shape=<unknown> dtype=float32_ref>,\n",
       " <tf.Variable 'LanguageModel/LMFW/h_var_backup_0:0' shape=(4096, 1024) dtype=float32_ref>,\n",
       " <tf.Variable 'LanguageModel/LMFW/w_proj_0:0' shape=(1024, 512) dtype=float32_ref>,\n",
       " <tf.Variable 'LanguageModel/LMFW/b_proj_0:0' shape=(512,) dtype=float32_ref>,\n",
       " <tf.Variable 'LanguageModel/LMFW/c_1:0' shape=(1, 1, 1024) dtype=float32_ref>,\n",
       " <tf.Variable 'LanguageModel/LMFW/h_1:0' shape=(1, 1, 1024) dtype=float32_ref>,\n",
       " <tf.Variable 'LanguageModel/LMFW/cudnn_lstm_1/opaque_kernel:0' shape=<unknown> dtype=float32_ref>,\n",
       " <tf.Variable 'LanguageModel/LMFW/h_var_backup_1:0' shape=(4096, 1024) dtype=float32_ref>,\n",
       " <tf.Variable 'LanguageModel/LMFW/w_proj_1:0' shape=(1024, 512) dtype=float32_ref>,\n",
       " <tf.Variable 'LanguageModel/LMFW/b_proj_1:0' shape=(512,) dtype=float32_ref>,\n",
       " <tf.Variable 'LanguageModel/LMFW/c_2:0' shape=(1, 1, 1024) dtype=float32_ref>,\n",
       " <tf.Variable 'LanguageModel/LMFW/h_2:0' shape=(1, 1, 1024) dtype=float32_ref>,\n",
       " <tf.Variable 'LanguageModel/LMFW/cudnn_lstm_2/opaque_kernel:0' shape=<unknown> dtype=float32_ref>,\n",
       " <tf.Variable 'LanguageModel/LMFW/h_var_backup_2:0' shape=(4096, 1024) dtype=float32_ref>,\n",
       " <tf.Variable 'LanguageModel/LMFW/w_proj_2:0' shape=(1024, 512) dtype=float32_ref>,\n",
       " <tf.Variable 'LanguageModel/LMFW/b_proj_2:0' shape=(512,) dtype=float32_ref>,\n",
       " <tf.Variable 'LanguageModel/LMBW/c_0:0' shape=(1, 1, 1024) dtype=float32_ref>,\n",
       " <tf.Variable 'LanguageModel/LMBW/h_0:0' shape=(1, 1, 1024) dtype=float32_ref>,\n",
       " <tf.Variable 'LanguageModel/LMBW/cudnn_lstm/opaque_kernel:0' shape=<unknown> dtype=float32_ref>,\n",
       " <tf.Variable 'LanguageModel/LMBW/h_var_backup_0:0' shape=(4096, 1024) dtype=float32_ref>,\n",
       " <tf.Variable 'LanguageModel/LMBW/w_proj_0:0' shape=(1024, 512) dtype=float32_ref>,\n",
       " <tf.Variable 'LanguageModel/LMBW/b_proj_0:0' shape=(512,) dtype=float32_ref>,\n",
       " <tf.Variable 'LanguageModel/LMBW/c_1:0' shape=(1, 1, 1024) dtype=float32_ref>,\n",
       " <tf.Variable 'LanguageModel/LMBW/h_1:0' shape=(1, 1, 1024) dtype=float32_ref>,\n",
       " <tf.Variable 'LanguageModel/LMBW/cudnn_lstm_1/opaque_kernel:0' shape=<unknown> dtype=float32_ref>,\n",
       " <tf.Variable 'LanguageModel/LMBW/h_var_backup_1:0' shape=(4096, 1024) dtype=float32_ref>,\n",
       " <tf.Variable 'LanguageModel/LMBW/w_proj_1:0' shape=(1024, 512) dtype=float32_ref>,\n",
       " <tf.Variable 'LanguageModel/LMBW/b_proj_1:0' shape=(512,) dtype=float32_ref>,\n",
       " <tf.Variable 'LanguageModel/LMBW/c_2:0' shape=(1, 1, 1024) dtype=float32_ref>,\n",
       " <tf.Variable 'LanguageModel/LMBW/h_2:0' shape=(1, 1, 1024) dtype=float32_ref>,\n",
       " <tf.Variable 'LanguageModel/LMBW/cudnn_lstm_2/opaque_kernel:0' shape=<unknown> dtype=float32_ref>,\n",
       " <tf.Variable 'LanguageModel/LMBW/h_var_backup_2:0' shape=(4096, 1024) dtype=float32_ref>,\n",
       " <tf.Variable 'LanguageModel/LMBW/w_proj_2:0' shape=(1024, 512) dtype=float32_ref>,\n",
       " <tf.Variable 'LanguageModel/LMBW/b_proj_2:0' shape=(512,) dtype=float32_ref>,\n",
       " <tf.Variable 'LM_Trainer/global_step:0' shape=() dtype=int32_ref>,\n",
       " <tf.Variable 'LanguageModel/decode_W/ExponentialMovingAverage:0' shape=(512, 153360) dtype=float32_ref>,\n",
       " <tf.Variable 'LanguageModel/decode_b/ExponentialMovingAverage:0' shape=(153360,) dtype=float32_ref>,\n",
       " <tf.Variable 'LanguageModel/word_embedding/embedding_weight/ExponentialMovingAverage:0' shape=(1005, 16) dtype=float32_ref>,\n",
       " <tf.Variable 'LanguageModel/word_embedding/conv1d/kernel/ExponentialMovingAverage:0' shape=(1, 16, 16) dtype=float32_ref>,\n",
       " <tf.Variable 'LanguageModel/word_embedding/conv1d/bias/ExponentialMovingAverage:0' shape=(16,) dtype=float32_ref>,\n",
       " <tf.Variable 'LanguageModel/word_embedding/conv1d_1/kernel/ExponentialMovingAverage:0' shape=(2, 16, 16) dtype=float32_ref>,\n",
       " <tf.Variable 'LanguageModel/word_embedding/conv1d_1/bias/ExponentialMovingAverage:0' shape=(16,) dtype=float32_ref>,\n",
       " <tf.Variable 'LanguageModel/word_embedding/conv1d_2/kernel/ExponentialMovingAverage:0' shape=(3, 16, 32) dtype=float32_ref>,\n",
       " <tf.Variable 'LanguageModel/word_embedding/conv1d_2/bias/ExponentialMovingAverage:0' shape=(32,) dtype=float32_ref>,\n",
       " <tf.Variable 'LanguageModel/word_embedding/conv1d_3/kernel/ExponentialMovingAverage:0' shape=(4, 16, 64) dtype=float32_ref>,\n",
       " <tf.Variable 'LanguageModel/word_embedding/conv1d_3/bias/ExponentialMovingAverage:0' shape=(64,) dtype=float32_ref>,\n",
       " <tf.Variable 'LanguageModel/word_embedding/conv1d_4/kernel/ExponentialMovingAverage:0' shape=(5, 16, 128) dtype=float32_ref>,\n",
       " <tf.Variable 'LanguageModel/word_embedding/conv1d_4/bias/ExponentialMovingAverage:0' shape=(128,) dtype=float32_ref>,\n",
       " <tf.Variable 'LanguageModel/word_embedding/conv1d_5/kernel/ExponentialMovingAverage:0' shape=(6, 16, 256) dtype=float32_ref>,\n",
       " <tf.Variable 'LanguageModel/word_embedding/conv1d_5/bias/ExponentialMovingAverage:0' shape=(256,) dtype=float32_ref>,\n",
       " <tf.Variable 'LanguageModel/word_embedding/conv1d_6/kernel/ExponentialMovingAverage:0' shape=(7, 16, 512) dtype=float32_ref>,\n",
       " <tf.Variable 'LanguageModel/word_embedding/conv1d_6/bias/ExponentialMovingAverage:0' shape=(512,) dtype=float32_ref>,\n",
       " <tf.Variable 'LanguageModel/word_embedding/ww_carry_0/ExponentialMovingAverage:0' shape=(1024, 1024) dtype=float32_ref>,\n",
       " <tf.Variable 'LanguageModel/word_embedding/bb_carry_0/ExponentialMovingAverage:0' shape=(1024,) dtype=float32_ref>,\n",
       " <tf.Variable 'LanguageModel/word_embedding/ww_tr_0/ExponentialMovingAverage:0' shape=(1024, 1024) dtype=float32_ref>,\n",
       " <tf.Variable 'LanguageModel/word_embedding/bb_tr_0/ExponentialMovingAverage:0' shape=(1024,) dtype=float32_ref>,\n",
       " <tf.Variable 'LanguageModel/word_embedding/ww_carry_1/ExponentialMovingAverage:0' shape=(1024, 1024) dtype=float32_ref>,\n",
       " <tf.Variable 'LanguageModel/word_embedding/bb_carry_1/ExponentialMovingAverage:0' shape=(1024,) dtype=float32_ref>,\n",
       " <tf.Variable 'LanguageModel/word_embedding/ww_tr_1/ExponentialMovingAverage:0' shape=(1024, 1024) dtype=float32_ref>,\n",
       " <tf.Variable 'LanguageModel/word_embedding/bb_tr_1/ExponentialMovingAverage:0' shape=(1024,) dtype=float32_ref>,\n",
       " <tf.Variable 'LanguageModel/word_embedding/w_proj/ExponentialMovingAverage:0' shape=(1024, 512) dtype=float32_ref>,\n",
       " <tf.Variable 'LanguageModel/word_embedding/b_proj/ExponentialMovingAverage:0' shape=(512,) dtype=float32_ref>,\n",
       " <tf.Variable 'LanguageModel/LMFW/cudnn_lstm/opaque_kernel/ExponentialMovingAverage:0' shape=<unknown> dtype=float32_ref>,\n",
       " <tf.Variable 'LanguageModel/LMFW/w_proj_0/ExponentialMovingAverage:0' shape=(1024, 512) dtype=float32_ref>,\n",
       " <tf.Variable 'LanguageModel/LMFW/b_proj_0/ExponentialMovingAverage:0' shape=(512,) dtype=float32_ref>,\n",
       " <tf.Variable 'LanguageModel/LMFW/cudnn_lstm_1/opaque_kernel/ExponentialMovingAverage:0' shape=<unknown> dtype=float32_ref>,\n",
       " <tf.Variable 'LanguageModel/LMFW/w_proj_1/ExponentialMovingAverage:0' shape=(1024, 512) dtype=float32_ref>,\n",
       " <tf.Variable 'LanguageModel/LMFW/b_proj_1/ExponentialMovingAverage:0' shape=(512,) dtype=float32_ref>,\n",
       " <tf.Variable 'LanguageModel/LMFW/cudnn_lstm_2/opaque_kernel/ExponentialMovingAverage:0' shape=<unknown> dtype=float32_ref>,\n",
       " <tf.Variable 'LanguageModel/LMFW/w_proj_2/ExponentialMovingAverage:0' shape=(1024, 512) dtype=float32_ref>,\n",
       " <tf.Variable 'LanguageModel/LMFW/b_proj_2/ExponentialMovingAverage:0' shape=(512,) dtype=float32_ref>,\n",
       " <tf.Variable 'LanguageModel/LMBW/cudnn_lstm/opaque_kernel/ExponentialMovingAverage:0' shape=<unknown> dtype=float32_ref>,\n",
       " <tf.Variable 'LanguageModel/LMBW/w_proj_0/ExponentialMovingAverage:0' shape=(1024, 512) dtype=float32_ref>,\n",
       " <tf.Variable 'LanguageModel/LMBW/b_proj_0/ExponentialMovingAverage:0' shape=(512,) dtype=float32_ref>,\n",
       " <tf.Variable 'LanguageModel/LMBW/cudnn_lstm_1/opaque_kernel/ExponentialMovingAverage:0' shape=<unknown> dtype=float32_ref>,\n",
       " <tf.Variable 'LanguageModel/LMBW/w_proj_1/ExponentialMovingAverage:0' shape=(1024, 512) dtype=float32_ref>,\n",
       " <tf.Variable 'LanguageModel/LMBW/b_proj_1/ExponentialMovingAverage:0' shape=(512,) dtype=float32_ref>,\n",
       " <tf.Variable 'LanguageModel/LMBW/cudnn_lstm_2/opaque_kernel/ExponentialMovingAverage:0' shape=<unknown> dtype=float32_ref>,\n",
       " <tf.Variable 'LanguageModel/LMBW/w_proj_2/ExponentialMovingAverage:0' shape=(1024, 512) dtype=float32_ref>,\n",
       " <tf.Variable 'LanguageModel/LMBW/b_proj_2/ExponentialMovingAverage:0' shape=(512,) dtype=float32_ref>]"
      ]
     },
     "execution_count": 8,
     "metadata": {},
     "output_type": "execute_result"
    }
   ],
   "source": [
    "tf.global_variables()"
   ]
  },
  {
   "cell_type": "code",
   "execution_count": 9,
   "metadata": {},
   "outputs": [],
   "source": [
    "with tf.variable_scope('LanguageModel', reuse=True):\n",
    "    W_var = tf.get_variable('decode_W')\n",
    "    b_var = tf.get_variable('decode_b')"
   ]
  },
  {
   "cell_type": "code",
   "execution_count": 10,
   "metadata": {},
   "outputs": [],
   "source": [
    "W_val = trainer.session.run(W_var)\n",
    "b_val = trainer.session.run(b_var)"
   ]
  },
  {
   "cell_type": "code",
   "execution_count": 16,
   "metadata": {},
   "outputs": [],
   "source": [
    "new_W_val = map_word_to_vector(new_word2idx, old_word2idx, W_val.T).T\n",
    "new_b_val = np.squeeze(map_word_to_vector(new_word2idx, old_word2idx, np.expand_dims(b_val, axis=-1)), axis=-1)"
   ]
  },
  {
   "cell_type": "code",
   "execution_count": 20,
   "metadata": {},
   "outputs": [],
   "source": [
    "assign_W = tf.assign(W_var, new_W_val, validate_shape=False)\n",
    "assign_b = tf.assign(b_var, new_b_val, validate_shape=False)"
   ]
  },
  {
   "cell_type": "code",
   "execution_count": 21,
   "metadata": {},
   "outputs": [
    {
     "data": {
      "text/plain": [
       "[array([[-0.03200835,  0.00996768,  0.02794232, ...,  0.01263673,\n",
       "          0.00457643,  0.01547284],\n",
       "        [ 0.00662694, -0.04005435, -0.08283629, ..., -0.00105607,\n",
       "          0.00235879,  0.00252642],\n",
       "        [-0.01038062, -0.00208524,  0.1434482 , ..., -0.00717628,\n",
       "         -0.008939  , -0.00799257],\n",
       "        ...,\n",
       "        [-0.01310354, -0.07520254, -0.09203153, ...,  0.00551493,\n",
       "          0.00793004,  0.02744709],\n",
       "        [ 0.01507463,  0.03159498, -0.04392492, ..., -0.00180185,\n",
       "         -0.00248681, -0.01216666],\n",
       "        [-0.00925479,  0.02840179,  0.00848963, ...,  0.00265031,\n",
       "          0.01340717, -0.00341817]], dtype=float32),\n",
       " array([-2.7989112e-02,  7.9498434e+00,  3.5838830e+00, ...,\n",
       "        -7.6987548e-03, -1.0311298e-02, -6.9140429e-03], dtype=float32)]"
      ]
     },
     "execution_count": 21,
     "metadata": {},
     "output_type": "execute_result"
    }
   ],
   "source": [
    "trainer.session.run([assign_W, assign_b])"
   ]
  },
  {
   "cell_type": "code",
   "execution_count": 24,
   "metadata": {},
   "outputs": [],
   "source": [
    "trainer.checkpoint_dir = '102_new/checkpoints/'\n",
    "trainer.model_configs = model_configs\n",
    "trainer.save_configs()"
   ]
  },
  {
   "cell_type": "code",
   "execution_count": 27,
   "metadata": {},
   "outputs": [
    {
     "data": {
      "text/plain": [
       "'102_new/checkpoints/train/model.cpkt-557539'"
      ]
     },
     "execution_count": 27,
     "metadata": {},
     "output_type": "execute_result"
    }
   ],
   "source": [
    "trainer.train_saver.save(trainer.session, os.path.join(trainer.checkpoint_dir, 'train', 'model.cpkt'), global_step=trainer.session.run(trainer.global_step))"
   ]
  },
  {
   "cell_type": "code",
   "execution_count": 29,
   "metadata": {},
   "outputs": [
    {
     "data": {
      "text/plain": [
       "'102_new/checkpoints/test/model.cpkt-557539'"
      ]
     },
     "execution_count": 29,
     "metadata": {},
     "output_type": "execute_result"
    }
   ],
   "source": [
    "trainer.test_saver.save(trainer.session, os.path.join(trainer.checkpoint_dir, 'test', 'model.cpkt'), global_step=trainer.session.run(trainer.global_step))"
   ]
  },
  {
   "cell_type": "code",
   "execution_count": null,
   "metadata": {},
   "outputs": [],
   "source": []
  }
 ],
 "metadata": {
  "kernelspec": {
   "display_name": "Python 3",
   "language": "python",
   "name": "python3"
  },
  "language_info": {
   "codemirror_mode": {
    "name": "ipython",
    "version": 3
   },
   "file_extension": ".py",
   "mimetype": "text/x-python",
   "name": "python",
   "nbconvert_exporter": "python",
   "pygments_lexer": "ipython3",
   "version": "3.6.6"
  }
 },
 "nbformat": 4,
 "nbformat_minor": 2
}
