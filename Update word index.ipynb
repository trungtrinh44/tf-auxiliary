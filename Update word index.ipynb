{
 "cells": [
  {
   "cell_type": "code",
   "execution_count": 1,
   "metadata": {},
   "outputs": [],
   "source": [
    "import tensorflow as tf\n",
    "import json\n",
    "from trainer import Trainer\n",
    "from utils import map_word_to_vector\n",
    "import numpy as np\n",
    "import os"
   ]
  },
  {
   "cell_type": "code",
   "execution_count": 2,
   "metadata": {},
   "outputs": [],
   "source": [
    "with open('107/checkpoints/model_configs.json', 'r') as inp:\n",
    "    model_configs = json.load(inp)"
   ]
  },
  {
   "cell_type": "code",
   "execution_count": 3,
   "metadata": {},
   "outputs": [],
   "source": [
    "with open('IntentDetection/full/word2idx.json', 'r') as inp:\n",
    "    new_word2idx = json.load(inp)\n",
    "with open('IntentDetection/full/char2idx.json', 'r') as inp:\n",
    "    new_char2idx = json.load(inp)\n",
    "with open('107/word2idx.json', 'r') as inp:\n",
    "    old_word2idx = json.load(inp)\n",
    "with open('107/char2idx.json', 'r') as inp:\n",
    "    old_char2idx = json.load(inp)"
   ]
  },
  {
   "cell_type": "code",
   "execution_count": 4,
   "metadata": {},
   "outputs": [],
   "source": [
    "with open('107/trainer_params.json', 'r') as inp:\n",
    "    params = json.load(inp)"
   ]
  },
  {
   "cell_type": "code",
   "execution_count": 5,
   "metadata": {},
   "outputs": [],
   "source": [
    "trainer = Trainer(**params)"
   ]
  },
  {
   "cell_type": "code",
   "execution_count": 6,
   "metadata": {},
   "outputs": [
    {
     "name": "stdout",
     "output_type": "stream",
     "text": [
      "INFO:tensorflow:Restoring parameters from 107/checkpoints/train/model.cpkt-73000\n"
     ]
    },
    {
     "name": "stderr",
     "output_type": "stream",
     "text": [
      "Restoring parameters from 107/checkpoints/train/model.cpkt-73000\n"
     ]
    }
   ],
   "source": [
    "trainer.build(save_optimizer_var=False)"
   ]
  },
  {
   "cell_type": "code",
   "execution_count": 7,
   "metadata": {},
   "outputs": [],
   "source": [
    "model_configs['vocab_size'] = len(new_word2idx) + 1\n",
    "model_configs['char_vocab_size'] = len(new_char2idx) + 1"
   ]
  },
  {
   "cell_type": "code",
   "execution_count": 8,
   "metadata": {},
   "outputs": [
    {
     "data": {
      "text/plain": [
       "[<tf.Variable 'LanguageModel/decode_W:0' shape=(512, 122208) dtype=float32_ref>,\n",
       " <tf.Variable 'LanguageModel/decode_b:0' shape=(122208,) dtype=float32_ref>,\n",
       " <tf.Variable 'LanguageModel/word_embedding/embedding_weight:0' shape=(729, 16) dtype=float32_ref>,\n",
       " <tf.Variable 'LanguageModel/word_embedding/conv1d/kernel:0' shape=(1, 16, 16) dtype=float32_ref>,\n",
       " <tf.Variable 'LanguageModel/word_embedding/conv1d/bias:0' shape=(16,) dtype=float32_ref>,\n",
       " <tf.Variable 'LanguageModel/word_embedding/conv1d_1/kernel:0' shape=(2, 16, 16) dtype=float32_ref>,\n",
       " <tf.Variable 'LanguageModel/word_embedding/conv1d_1/bias:0' shape=(16,) dtype=float32_ref>,\n",
       " <tf.Variable 'LanguageModel/word_embedding/conv1d_2/kernel:0' shape=(3, 16, 32) dtype=float32_ref>,\n",
       " <tf.Variable 'LanguageModel/word_embedding/conv1d_2/bias:0' shape=(32,) dtype=float32_ref>,\n",
       " <tf.Variable 'LanguageModel/word_embedding/conv1d_3/kernel:0' shape=(4, 16, 64) dtype=float32_ref>,\n",
       " <tf.Variable 'LanguageModel/word_embedding/conv1d_3/bias:0' shape=(64,) dtype=float32_ref>,\n",
       " <tf.Variable 'LanguageModel/word_embedding/conv1d_4/kernel:0' shape=(5, 16, 128) dtype=float32_ref>,\n",
       " <tf.Variable 'LanguageModel/word_embedding/conv1d_4/bias:0' shape=(128,) dtype=float32_ref>,\n",
       " <tf.Variable 'LanguageModel/word_embedding/conv1d_5/kernel:0' shape=(6, 16, 256) dtype=float32_ref>,\n",
       " <tf.Variable 'LanguageModel/word_embedding/conv1d_5/bias:0' shape=(256,) dtype=float32_ref>,\n",
       " <tf.Variable 'LanguageModel/word_embedding/conv1d_6/kernel:0' shape=(7, 16, 512) dtype=float32_ref>,\n",
       " <tf.Variable 'LanguageModel/word_embedding/conv1d_6/bias:0' shape=(512,) dtype=float32_ref>,\n",
       " <tf.Variable 'LanguageModel/word_embedding/ww_carry_0:0' shape=(1024, 1024) dtype=float32_ref>,\n",
       " <tf.Variable 'LanguageModel/word_embedding/bb_carry_0:0' shape=(1024,) dtype=float32_ref>,\n",
       " <tf.Variable 'LanguageModel/word_embedding/ww_tr_0:0' shape=(1024, 1024) dtype=float32_ref>,\n",
       " <tf.Variable 'LanguageModel/word_embedding/bb_tr_0:0' shape=(1024,) dtype=float32_ref>,\n",
       " <tf.Variable 'LanguageModel/word_embedding/ww_carry_1:0' shape=(1024, 1024) dtype=float32_ref>,\n",
       " <tf.Variable 'LanguageModel/word_embedding/bb_carry_1:0' shape=(1024,) dtype=float32_ref>,\n",
       " <tf.Variable 'LanguageModel/word_embedding/ww_tr_1:0' shape=(1024, 1024) dtype=float32_ref>,\n",
       " <tf.Variable 'LanguageModel/word_embedding/bb_tr_1:0' shape=(1024,) dtype=float32_ref>,\n",
       " <tf.Variable 'LanguageModel/word_embedding/w_proj:0' shape=(1024, 512) dtype=float32_ref>,\n",
       " <tf.Variable 'LanguageModel/word_embedding/b_proj:0' shape=(512,) dtype=float32_ref>,\n",
       " <tf.Variable 'LanguageModel/LMFW/cudnn_lstm/opaque_kernel:0' shape=<unknown> dtype=float32_ref>,\n",
       " <tf.Variable 'LanguageModel/LMFW/h_var_backup_0:0' shape=(4096, 1024) dtype=float32_ref>,\n",
       " <tf.Variable 'LanguageModel/LMFW/w_proj_0:0' shape=(1024, 512) dtype=float32_ref>,\n",
       " <tf.Variable 'LanguageModel/LMFW/b_proj_0:0' shape=(512,) dtype=float32_ref>,\n",
       " <tf.Variable 'LanguageModel/LMFW/cudnn_lstm_1/opaque_kernel:0' shape=<unknown> dtype=float32_ref>,\n",
       " <tf.Variable 'LanguageModel/LMFW/h_var_backup_1:0' shape=(4096, 1024) dtype=float32_ref>,\n",
       " <tf.Variable 'LanguageModel/LMFW/w_proj_1:0' shape=(1024, 512) dtype=float32_ref>,\n",
       " <tf.Variable 'LanguageModel/LMFW/b_proj_1:0' shape=(512,) dtype=float32_ref>,\n",
       " <tf.Variable 'LanguageModel/LMFW/cudnn_lstm_2/opaque_kernel:0' shape=<unknown> dtype=float32_ref>,\n",
       " <tf.Variable 'LanguageModel/LMFW/h_var_backup_2:0' shape=(4096, 1024) dtype=float32_ref>,\n",
       " <tf.Variable 'LanguageModel/LMFW/w_proj_2:0' shape=(1024, 512) dtype=float32_ref>,\n",
       " <tf.Variable 'LanguageModel/LMFW/b_proj_2:0' shape=(512,) dtype=float32_ref>,\n",
       " <tf.Variable 'LanguageModel/LMFW/c_0:0' shape=(1, 1, 1024) dtype=float32_ref>,\n",
       " <tf.Variable 'LanguageModel/LMFW/h_0:0' shape=(1, 1, 1024) dtype=float32_ref>,\n",
       " <tf.Variable 'LanguageModel/LMFW/c_1:0' shape=(1, 1, 1024) dtype=float32_ref>,\n",
       " <tf.Variable 'LanguageModel/LMFW/h_1:0' shape=(1, 1, 1024) dtype=float32_ref>,\n",
       " <tf.Variable 'LanguageModel/LMFW/c_2:0' shape=(1, 1, 1024) dtype=float32_ref>,\n",
       " <tf.Variable 'LanguageModel/LMFW/h_2:0' shape=(1, 1, 1024) dtype=float32_ref>,\n",
       " <tf.Variable 'LanguageModel/LMBW/cudnn_lstm/opaque_kernel:0' shape=<unknown> dtype=float32_ref>,\n",
       " <tf.Variable 'LanguageModel/LMBW/h_var_backup_0:0' shape=(4096, 1024) dtype=float32_ref>,\n",
       " <tf.Variable 'LanguageModel/LMBW/w_proj_0:0' shape=(1024, 512) dtype=float32_ref>,\n",
       " <tf.Variable 'LanguageModel/LMBW/b_proj_0:0' shape=(512,) dtype=float32_ref>,\n",
       " <tf.Variable 'LanguageModel/LMBW/cudnn_lstm_1/opaque_kernel:0' shape=<unknown> dtype=float32_ref>,\n",
       " <tf.Variable 'LanguageModel/LMBW/h_var_backup_1:0' shape=(4096, 1024) dtype=float32_ref>,\n",
       " <tf.Variable 'LanguageModel/LMBW/w_proj_1:0' shape=(1024, 512) dtype=float32_ref>,\n",
       " <tf.Variable 'LanguageModel/LMBW/b_proj_1:0' shape=(512,) dtype=float32_ref>,\n",
       " <tf.Variable 'LanguageModel/LMBW/cudnn_lstm_2/opaque_kernel:0' shape=<unknown> dtype=float32_ref>,\n",
       " <tf.Variable 'LanguageModel/LMBW/h_var_backup_2:0' shape=(4096, 1024) dtype=float32_ref>,\n",
       " <tf.Variable 'LanguageModel/LMBW/w_proj_2:0' shape=(1024, 512) dtype=float32_ref>,\n",
       " <tf.Variable 'LanguageModel/LMBW/b_proj_2:0' shape=(512,) dtype=float32_ref>,\n",
       " <tf.Variable 'LanguageModel/LMBW/c_0:0' shape=(1, 1, 1024) dtype=float32_ref>,\n",
       " <tf.Variable 'LanguageModel/LMBW/h_0:0' shape=(1, 1, 1024) dtype=float32_ref>,\n",
       " <tf.Variable 'LanguageModel/LMBW/c_1:0' shape=(1, 1, 1024) dtype=float32_ref>,\n",
       " <tf.Variable 'LanguageModel/LMBW/h_1:0' shape=(1, 1, 1024) dtype=float32_ref>,\n",
       " <tf.Variable 'LanguageModel/LMBW/c_2:0' shape=(1, 1, 1024) dtype=float32_ref>,\n",
       " <tf.Variable 'LanguageModel/LMBW/h_2:0' shape=(1, 1, 1024) dtype=float32_ref>,\n",
       " <tf.Variable 'LM_Trainer/global_step:0' shape=() dtype=int32_ref>,\n",
       " <tf.Variable 'LM_Trainer/beta1_power:0' shape=() dtype=float32_ref>,\n",
       " <tf.Variable 'LM_Trainer/beta2_power:0' shape=() dtype=float32_ref>,\n",
       " <tf.Variable 'LM_Trainer/LanguageModel/decode_W/AdamW:0' shape=(512, 122208) dtype=float32_ref>,\n",
       " <tf.Variable 'LM_Trainer/LanguageModel/decode_W/AdamW_1:0' shape=(512, 122208) dtype=float32_ref>,\n",
       " <tf.Variable 'LM_Trainer/LanguageModel/decode_b/AdamW:0' shape=(122208,) dtype=float32_ref>,\n",
       " <tf.Variable 'LM_Trainer/LanguageModel/decode_b/AdamW_1:0' shape=(122208,) dtype=float32_ref>,\n",
       " <tf.Variable 'LM_Trainer/LanguageModel/word_embedding/embedding_weight/AdamW:0' shape=(729, 16) dtype=float32_ref>,\n",
       " <tf.Variable 'LM_Trainer/LanguageModel/word_embedding/embedding_weight/AdamW_1:0' shape=(729, 16) dtype=float32_ref>,\n",
       " <tf.Variable 'LM_Trainer/LanguageModel/word_embedding/conv1d/kernel/AdamW:0' shape=(1, 16, 16) dtype=float32_ref>,\n",
       " <tf.Variable 'LM_Trainer/LanguageModel/word_embedding/conv1d/kernel/AdamW_1:0' shape=(1, 16, 16) dtype=float32_ref>,\n",
       " <tf.Variable 'LM_Trainer/LanguageModel/word_embedding/conv1d/bias/AdamW:0' shape=(16,) dtype=float32_ref>,\n",
       " <tf.Variable 'LM_Trainer/LanguageModel/word_embedding/conv1d/bias/AdamW_1:0' shape=(16,) dtype=float32_ref>,\n",
       " <tf.Variable 'LM_Trainer/LanguageModel/word_embedding/conv1d_1/kernel/AdamW:0' shape=(2, 16, 16) dtype=float32_ref>,\n",
       " <tf.Variable 'LM_Trainer/LanguageModel/word_embedding/conv1d_1/kernel/AdamW_1:0' shape=(2, 16, 16) dtype=float32_ref>,\n",
       " <tf.Variable 'LM_Trainer/LanguageModel/word_embedding/conv1d_1/bias/AdamW:0' shape=(16,) dtype=float32_ref>,\n",
       " <tf.Variable 'LM_Trainer/LanguageModel/word_embedding/conv1d_1/bias/AdamW_1:0' shape=(16,) dtype=float32_ref>,\n",
       " <tf.Variable 'LM_Trainer/LanguageModel/word_embedding/conv1d_2/kernel/AdamW:0' shape=(3, 16, 32) dtype=float32_ref>,\n",
       " <tf.Variable 'LM_Trainer/LanguageModel/word_embedding/conv1d_2/kernel/AdamW_1:0' shape=(3, 16, 32) dtype=float32_ref>,\n",
       " <tf.Variable 'LM_Trainer/LanguageModel/word_embedding/conv1d_2/bias/AdamW:0' shape=(32,) dtype=float32_ref>,\n",
       " <tf.Variable 'LM_Trainer/LanguageModel/word_embedding/conv1d_2/bias/AdamW_1:0' shape=(32,) dtype=float32_ref>,\n",
       " <tf.Variable 'LM_Trainer/LanguageModel/word_embedding/conv1d_3/kernel/AdamW:0' shape=(4, 16, 64) dtype=float32_ref>,\n",
       " <tf.Variable 'LM_Trainer/LanguageModel/word_embedding/conv1d_3/kernel/AdamW_1:0' shape=(4, 16, 64) dtype=float32_ref>,\n",
       " <tf.Variable 'LM_Trainer/LanguageModel/word_embedding/conv1d_3/bias/AdamW:0' shape=(64,) dtype=float32_ref>,\n",
       " <tf.Variable 'LM_Trainer/LanguageModel/word_embedding/conv1d_3/bias/AdamW_1:0' shape=(64,) dtype=float32_ref>,\n",
       " <tf.Variable 'LM_Trainer/LanguageModel/word_embedding/conv1d_4/kernel/AdamW:0' shape=(5, 16, 128) dtype=float32_ref>,\n",
       " <tf.Variable 'LM_Trainer/LanguageModel/word_embedding/conv1d_4/kernel/AdamW_1:0' shape=(5, 16, 128) dtype=float32_ref>,\n",
       " <tf.Variable 'LM_Trainer/LanguageModel/word_embedding/conv1d_4/bias/AdamW:0' shape=(128,) dtype=float32_ref>,\n",
       " <tf.Variable 'LM_Trainer/LanguageModel/word_embedding/conv1d_4/bias/AdamW_1:0' shape=(128,) dtype=float32_ref>,\n",
       " <tf.Variable 'LM_Trainer/LanguageModel/word_embedding/conv1d_5/kernel/AdamW:0' shape=(6, 16, 256) dtype=float32_ref>,\n",
       " <tf.Variable 'LM_Trainer/LanguageModel/word_embedding/conv1d_5/kernel/AdamW_1:0' shape=(6, 16, 256) dtype=float32_ref>,\n",
       " <tf.Variable 'LM_Trainer/LanguageModel/word_embedding/conv1d_5/bias/AdamW:0' shape=(256,) dtype=float32_ref>,\n",
       " <tf.Variable 'LM_Trainer/LanguageModel/word_embedding/conv1d_5/bias/AdamW_1:0' shape=(256,) dtype=float32_ref>,\n",
       " <tf.Variable 'LM_Trainer/LanguageModel/word_embedding/conv1d_6/kernel/AdamW:0' shape=(7, 16, 512) dtype=float32_ref>,\n",
       " <tf.Variable 'LM_Trainer/LanguageModel/word_embedding/conv1d_6/kernel/AdamW_1:0' shape=(7, 16, 512) dtype=float32_ref>,\n",
       " <tf.Variable 'LM_Trainer/LanguageModel/word_embedding/conv1d_6/bias/AdamW:0' shape=(512,) dtype=float32_ref>,\n",
       " <tf.Variable 'LM_Trainer/LanguageModel/word_embedding/conv1d_6/bias/AdamW_1:0' shape=(512,) dtype=float32_ref>,\n",
       " <tf.Variable 'LM_Trainer/LanguageModel/word_embedding/ww_carry_0/AdamW:0' shape=(1024, 1024) dtype=float32_ref>,\n",
       " <tf.Variable 'LM_Trainer/LanguageModel/word_embedding/ww_carry_0/AdamW_1:0' shape=(1024, 1024) dtype=float32_ref>,\n",
       " <tf.Variable 'LM_Trainer/LanguageModel/word_embedding/bb_carry_0/AdamW:0' shape=(1024,) dtype=float32_ref>,\n",
       " <tf.Variable 'LM_Trainer/LanguageModel/word_embedding/bb_carry_0/AdamW_1:0' shape=(1024,) dtype=float32_ref>,\n",
       " <tf.Variable 'LM_Trainer/LanguageModel/word_embedding/ww_tr_0/AdamW:0' shape=(1024, 1024) dtype=float32_ref>,\n",
       " <tf.Variable 'LM_Trainer/LanguageModel/word_embedding/ww_tr_0/AdamW_1:0' shape=(1024, 1024) dtype=float32_ref>,\n",
       " <tf.Variable 'LM_Trainer/LanguageModel/word_embedding/bb_tr_0/AdamW:0' shape=(1024,) dtype=float32_ref>,\n",
       " <tf.Variable 'LM_Trainer/LanguageModel/word_embedding/bb_tr_0/AdamW_1:0' shape=(1024,) dtype=float32_ref>,\n",
       " <tf.Variable 'LM_Trainer/LanguageModel/word_embedding/ww_carry_1/AdamW:0' shape=(1024, 1024) dtype=float32_ref>,\n",
       " <tf.Variable 'LM_Trainer/LanguageModel/word_embedding/ww_carry_1/AdamW_1:0' shape=(1024, 1024) dtype=float32_ref>,\n",
       " <tf.Variable 'LM_Trainer/LanguageModel/word_embedding/bb_carry_1/AdamW:0' shape=(1024,) dtype=float32_ref>,\n",
       " <tf.Variable 'LM_Trainer/LanguageModel/word_embedding/bb_carry_1/AdamW_1:0' shape=(1024,) dtype=float32_ref>,\n",
       " <tf.Variable 'LM_Trainer/LanguageModel/word_embedding/ww_tr_1/AdamW:0' shape=(1024, 1024) dtype=float32_ref>,\n",
       " <tf.Variable 'LM_Trainer/LanguageModel/word_embedding/ww_tr_1/AdamW_1:0' shape=(1024, 1024) dtype=float32_ref>,\n",
       " <tf.Variable 'LM_Trainer/LanguageModel/word_embedding/bb_tr_1/AdamW:0' shape=(1024,) dtype=float32_ref>,\n",
       " <tf.Variable 'LM_Trainer/LanguageModel/word_embedding/bb_tr_1/AdamW_1:0' shape=(1024,) dtype=float32_ref>,\n",
       " <tf.Variable 'LM_Trainer/LanguageModel/word_embedding/w_proj/AdamW:0' shape=(1024, 512) dtype=float32_ref>,\n",
       " <tf.Variable 'LM_Trainer/LanguageModel/word_embedding/w_proj/AdamW_1:0' shape=(1024, 512) dtype=float32_ref>,\n",
       " <tf.Variable 'LM_Trainer/LanguageModel/word_embedding/b_proj/AdamW:0' shape=(512,) dtype=float32_ref>,\n",
       " <tf.Variable 'LM_Trainer/LanguageModel/word_embedding/b_proj/AdamW_1:0' shape=(512,) dtype=float32_ref>,\n",
       " <tf.Variable 'LM_Trainer/LanguageModel/LMFW/cudnn_lstm/opaque_kernel/AdamW:0' shape=<unknown> dtype=float32_ref>,\n",
       " <tf.Variable 'LM_Trainer/LanguageModel/LMFW/cudnn_lstm/opaque_kernel/AdamW_1:0' shape=<unknown> dtype=float32_ref>,\n",
       " <tf.Variable 'LM_Trainer/LanguageModel/LMFW/w_proj_0/AdamW:0' shape=(1024, 512) dtype=float32_ref>,\n",
       " <tf.Variable 'LM_Trainer/LanguageModel/LMFW/w_proj_0/AdamW_1:0' shape=(1024, 512) dtype=float32_ref>,\n",
       " <tf.Variable 'LM_Trainer/LanguageModel/LMFW/b_proj_0/AdamW:0' shape=(512,) dtype=float32_ref>,\n",
       " <tf.Variable 'LM_Trainer/LanguageModel/LMFW/b_proj_0/AdamW_1:0' shape=(512,) dtype=float32_ref>,\n",
       " <tf.Variable 'LM_Trainer/LanguageModel/LMFW/cudnn_lstm_1/opaque_kernel/AdamW:0' shape=<unknown> dtype=float32_ref>,\n",
       " <tf.Variable 'LM_Trainer/LanguageModel/LMFW/cudnn_lstm_1/opaque_kernel/AdamW_1:0' shape=<unknown> dtype=float32_ref>,\n",
       " <tf.Variable 'LM_Trainer/LanguageModel/LMFW/w_proj_1/AdamW:0' shape=(1024, 512) dtype=float32_ref>,\n",
       " <tf.Variable 'LM_Trainer/LanguageModel/LMFW/w_proj_1/AdamW_1:0' shape=(1024, 512) dtype=float32_ref>,\n",
       " <tf.Variable 'LM_Trainer/LanguageModel/LMFW/b_proj_1/AdamW:0' shape=(512,) dtype=float32_ref>,\n",
       " <tf.Variable 'LM_Trainer/LanguageModel/LMFW/b_proj_1/AdamW_1:0' shape=(512,) dtype=float32_ref>,\n",
       " <tf.Variable 'LM_Trainer/LanguageModel/LMFW/cudnn_lstm_2/opaque_kernel/AdamW:0' shape=<unknown> dtype=float32_ref>,\n",
       " <tf.Variable 'LM_Trainer/LanguageModel/LMFW/cudnn_lstm_2/opaque_kernel/AdamW_1:0' shape=<unknown> dtype=float32_ref>,\n",
       " <tf.Variable 'LM_Trainer/LanguageModel/LMFW/w_proj_2/AdamW:0' shape=(1024, 512) dtype=float32_ref>,\n",
       " <tf.Variable 'LM_Trainer/LanguageModel/LMFW/w_proj_2/AdamW_1:0' shape=(1024, 512) dtype=float32_ref>,\n",
       " <tf.Variable 'LM_Trainer/LanguageModel/LMFW/b_proj_2/AdamW:0' shape=(512,) dtype=float32_ref>,\n",
       " <tf.Variable 'LM_Trainer/LanguageModel/LMFW/b_proj_2/AdamW_1:0' shape=(512,) dtype=float32_ref>,\n",
       " <tf.Variable 'LM_Trainer/LanguageModel/LMBW/cudnn_lstm/opaque_kernel/AdamW:0' shape=<unknown> dtype=float32_ref>,\n",
       " <tf.Variable 'LM_Trainer/LanguageModel/LMBW/cudnn_lstm/opaque_kernel/AdamW_1:0' shape=<unknown> dtype=float32_ref>,\n",
       " <tf.Variable 'LM_Trainer/LanguageModel/LMBW/w_proj_0/AdamW:0' shape=(1024, 512) dtype=float32_ref>,\n",
       " <tf.Variable 'LM_Trainer/LanguageModel/LMBW/w_proj_0/AdamW_1:0' shape=(1024, 512) dtype=float32_ref>,\n",
       " <tf.Variable 'LM_Trainer/LanguageModel/LMBW/b_proj_0/AdamW:0' shape=(512,) dtype=float32_ref>,\n",
       " <tf.Variable 'LM_Trainer/LanguageModel/LMBW/b_proj_0/AdamW_1:0' shape=(512,) dtype=float32_ref>,\n",
       " <tf.Variable 'LM_Trainer/LanguageModel/LMBW/cudnn_lstm_1/opaque_kernel/AdamW:0' shape=<unknown> dtype=float32_ref>,\n",
       " <tf.Variable 'LM_Trainer/LanguageModel/LMBW/cudnn_lstm_1/opaque_kernel/AdamW_1:0' shape=<unknown> dtype=float32_ref>,\n",
       " <tf.Variable 'LM_Trainer/LanguageModel/LMBW/w_proj_1/AdamW:0' shape=(1024, 512) dtype=float32_ref>,\n",
       " <tf.Variable 'LM_Trainer/LanguageModel/LMBW/w_proj_1/AdamW_1:0' shape=(1024, 512) dtype=float32_ref>,\n",
       " <tf.Variable 'LM_Trainer/LanguageModel/LMBW/b_proj_1/AdamW:0' shape=(512,) dtype=float32_ref>,\n",
       " <tf.Variable 'LM_Trainer/LanguageModel/LMBW/b_proj_1/AdamW_1:0' shape=(512,) dtype=float32_ref>,\n",
       " <tf.Variable 'LM_Trainer/LanguageModel/LMBW/cudnn_lstm_2/opaque_kernel/AdamW:0' shape=<unknown> dtype=float32_ref>,\n",
       " <tf.Variable 'LM_Trainer/LanguageModel/LMBW/cudnn_lstm_2/opaque_kernel/AdamW_1:0' shape=<unknown> dtype=float32_ref>,\n",
       " <tf.Variable 'LM_Trainer/LanguageModel/LMBW/w_proj_2/AdamW:0' shape=(1024, 512) dtype=float32_ref>,\n",
       " <tf.Variable 'LM_Trainer/LanguageModel/LMBW/w_proj_2/AdamW_1:0' shape=(1024, 512) dtype=float32_ref>,\n",
       " <tf.Variable 'LM_Trainer/LanguageModel/LMBW/b_proj_2/AdamW:0' shape=(512,) dtype=float32_ref>,\n",
       " <tf.Variable 'LM_Trainer/LanguageModel/LMBW/b_proj_2/AdamW_1:0' shape=(512,) dtype=float32_ref>,\n",
       " <tf.Variable 'LanguageModel/decode_W/ExponentialMovingAverage:0' shape=(512, 122208) dtype=float32_ref>,\n",
       " <tf.Variable 'LanguageModel/decode_b/ExponentialMovingAverage:0' shape=(122208,) dtype=float32_ref>,\n",
       " <tf.Variable 'LanguageModel/word_embedding/embedding_weight/ExponentialMovingAverage:0' shape=(729, 16) dtype=float32_ref>,\n",
       " <tf.Variable 'LanguageModel/word_embedding/conv1d/kernel/ExponentialMovingAverage:0' shape=(1, 16, 16) dtype=float32_ref>,\n",
       " <tf.Variable 'LanguageModel/word_embedding/conv1d/bias/ExponentialMovingAverage:0' shape=(16,) dtype=float32_ref>,\n",
       " <tf.Variable 'LanguageModel/word_embedding/conv1d_1/kernel/ExponentialMovingAverage:0' shape=(2, 16, 16) dtype=float32_ref>,\n",
       " <tf.Variable 'LanguageModel/word_embedding/conv1d_1/bias/ExponentialMovingAverage:0' shape=(16,) dtype=float32_ref>,\n",
       " <tf.Variable 'LanguageModel/word_embedding/conv1d_2/kernel/ExponentialMovingAverage:0' shape=(3, 16, 32) dtype=float32_ref>,\n",
       " <tf.Variable 'LanguageModel/word_embedding/conv1d_2/bias/ExponentialMovingAverage:0' shape=(32,) dtype=float32_ref>,\n",
       " <tf.Variable 'LanguageModel/word_embedding/conv1d_3/kernel/ExponentialMovingAverage:0' shape=(4, 16, 64) dtype=float32_ref>,\n",
       " <tf.Variable 'LanguageModel/word_embedding/conv1d_3/bias/ExponentialMovingAverage:0' shape=(64,) dtype=float32_ref>,\n",
       " <tf.Variable 'LanguageModel/word_embedding/conv1d_4/kernel/ExponentialMovingAverage:0' shape=(5, 16, 128) dtype=float32_ref>,\n",
       " <tf.Variable 'LanguageModel/word_embedding/conv1d_4/bias/ExponentialMovingAverage:0' shape=(128,) dtype=float32_ref>,\n",
       " <tf.Variable 'LanguageModel/word_embedding/conv1d_5/kernel/ExponentialMovingAverage:0' shape=(6, 16, 256) dtype=float32_ref>,\n",
       " <tf.Variable 'LanguageModel/word_embedding/conv1d_5/bias/ExponentialMovingAverage:0' shape=(256,) dtype=float32_ref>,\n",
       " <tf.Variable 'LanguageModel/word_embedding/conv1d_6/kernel/ExponentialMovingAverage:0' shape=(7, 16, 512) dtype=float32_ref>,\n",
       " <tf.Variable 'LanguageModel/word_embedding/conv1d_6/bias/ExponentialMovingAverage:0' shape=(512,) dtype=float32_ref>,\n",
       " <tf.Variable 'LanguageModel/word_embedding/ww_carry_0/ExponentialMovingAverage:0' shape=(1024, 1024) dtype=float32_ref>,\n",
       " <tf.Variable 'LanguageModel/word_embedding/bb_carry_0/ExponentialMovingAverage:0' shape=(1024,) dtype=float32_ref>,\n",
       " <tf.Variable 'LanguageModel/word_embedding/ww_tr_0/ExponentialMovingAverage:0' shape=(1024, 1024) dtype=float32_ref>,\n",
       " <tf.Variable 'LanguageModel/word_embedding/bb_tr_0/ExponentialMovingAverage:0' shape=(1024,) dtype=float32_ref>,\n",
       " <tf.Variable 'LanguageModel/word_embedding/ww_carry_1/ExponentialMovingAverage:0' shape=(1024, 1024) dtype=float32_ref>,\n",
       " <tf.Variable 'LanguageModel/word_embedding/bb_carry_1/ExponentialMovingAverage:0' shape=(1024,) dtype=float32_ref>,\n",
       " <tf.Variable 'LanguageModel/word_embedding/ww_tr_1/ExponentialMovingAverage:0' shape=(1024, 1024) dtype=float32_ref>,\n",
       " <tf.Variable 'LanguageModel/word_embedding/bb_tr_1/ExponentialMovingAverage:0' shape=(1024,) dtype=float32_ref>,\n",
       " <tf.Variable 'LanguageModel/word_embedding/w_proj/ExponentialMovingAverage:0' shape=(1024, 512) dtype=float32_ref>,\n",
       " <tf.Variable 'LanguageModel/word_embedding/b_proj/ExponentialMovingAverage:0' shape=(512,) dtype=float32_ref>,\n",
       " <tf.Variable 'LanguageModel/LMFW/cudnn_lstm/opaque_kernel/ExponentialMovingAverage:0' shape=<unknown> dtype=float32_ref>,\n",
       " <tf.Variable 'LanguageModel/LMFW/w_proj_0/ExponentialMovingAverage:0' shape=(1024, 512) dtype=float32_ref>,\n",
       " <tf.Variable 'LanguageModel/LMFW/b_proj_0/ExponentialMovingAverage:0' shape=(512,) dtype=float32_ref>,\n",
       " <tf.Variable 'LanguageModel/LMFW/cudnn_lstm_1/opaque_kernel/ExponentialMovingAverage:0' shape=<unknown> dtype=float32_ref>,\n",
       " <tf.Variable 'LanguageModel/LMFW/w_proj_1/ExponentialMovingAverage:0' shape=(1024, 512) dtype=float32_ref>,\n",
       " <tf.Variable 'LanguageModel/LMFW/b_proj_1/ExponentialMovingAverage:0' shape=(512,) dtype=float32_ref>,\n",
       " <tf.Variable 'LanguageModel/LMFW/cudnn_lstm_2/opaque_kernel/ExponentialMovingAverage:0' shape=<unknown> dtype=float32_ref>,\n",
       " <tf.Variable 'LanguageModel/LMFW/w_proj_2/ExponentialMovingAverage:0' shape=(1024, 512) dtype=float32_ref>,\n",
       " <tf.Variable 'LanguageModel/LMFW/b_proj_2/ExponentialMovingAverage:0' shape=(512,) dtype=float32_ref>,\n",
       " <tf.Variable 'LanguageModel/LMBW/cudnn_lstm/opaque_kernel/ExponentialMovingAverage:0' shape=<unknown> dtype=float32_ref>,\n",
       " <tf.Variable 'LanguageModel/LMBW/w_proj_0/ExponentialMovingAverage:0' shape=(1024, 512) dtype=float32_ref>,\n",
       " <tf.Variable 'LanguageModel/LMBW/b_proj_0/ExponentialMovingAverage:0' shape=(512,) dtype=float32_ref>,\n",
       " <tf.Variable 'LanguageModel/LMBW/cudnn_lstm_1/opaque_kernel/ExponentialMovingAverage:0' shape=<unknown> dtype=float32_ref>,\n",
       " <tf.Variable 'LanguageModel/LMBW/w_proj_1/ExponentialMovingAverage:0' shape=(1024, 512) dtype=float32_ref>,\n",
       " <tf.Variable 'LanguageModel/LMBW/b_proj_1/ExponentialMovingAverage:0' shape=(512,) dtype=float32_ref>,\n",
       " <tf.Variable 'LanguageModel/LMBW/cudnn_lstm_2/opaque_kernel/ExponentialMovingAverage:0' shape=<unknown> dtype=float32_ref>,\n",
       " <tf.Variable 'LanguageModel/LMBW/w_proj_2/ExponentialMovingAverage:0' shape=(1024, 512) dtype=float32_ref>,\n",
       " <tf.Variable 'LanguageModel/LMBW/b_proj_2/ExponentialMovingAverage:0' shape=(512,) dtype=float32_ref>]"
      ]
     },
     "execution_count": 8,
     "metadata": {},
     "output_type": "execute_result"
    }
   ],
   "source": [
    "tf.global_variables()"
   ]
  },
  {
   "cell_type": "code",
   "execution_count": 9,
   "metadata": {},
   "outputs": [],
   "source": [
    "with tf.variable_scope('LanguageModel', reuse=True):\n",
    "    W_var = tf.get_variable('decode_W')\n",
    "    b_var = tf.get_variable('decode_b')\n",
    "    char_var = tf.get_variable('word_embedding/embedding_weight')\n",
    "    W_ema_var = trainer.ema.average(W_var)\n",
    "    b_ema_var = trainer.ema.average(b_var)\n",
    "    char_ema_var = trainer.ema.average(char_var)"
   ]
  },
  {
   "cell_type": "code",
   "execution_count": 10,
   "metadata": {},
   "outputs": [],
   "source": [
    "W_val = trainer.session.run(W_var)\n",
    "b_val = trainer.session.run(b_var)\n",
    "char_val = trainer.session.run(char_var)\n",
    "W_ema_val = trainer.session.run(W_ema_var)\n",
    "b_ema_val = trainer.session.run(b_ema_var)\n",
    "char_ema_val = trainer.session.run(char_ema_var)"
   ]
  },
  {
   "cell_type": "code",
   "execution_count": 11,
   "metadata": {},
   "outputs": [],
   "source": [
    "new_W_val = map_word_to_vector(new_word2idx, old_word2idx, W_val.T).T\n",
    "new_b_val = np.squeeze(map_word_to_vector(new_word2idx, old_word2idx, np.expand_dims(b_val, axis=-1)), axis=-1)\n",
    "new_char_val = map_word_to_vector(new_char2idx, old_char2idx, char_val)\n",
    "new_W_ema_val = map_word_to_vector(new_word2idx, old_word2idx, W_ema_val.T).T\n",
    "new_b_ema_val = np.squeeze(map_word_to_vector(new_word2idx, old_word2idx, np.expand_dims(b_ema_val, axis=-1)), axis=-1)\n",
    "new_char_ema_val = map_word_to_vector(new_char2idx, old_char2idx, char_ema_val)"
   ]
  },
  {
   "cell_type": "code",
   "execution_count": 12,
   "metadata": {},
   "outputs": [],
   "source": [
    "assign_W = tf.assign(W_var, new_W_val, validate_shape=False)\n",
    "assign_b = tf.assign(b_var, new_b_val, validate_shape=False)\n",
    "assign_char = tf.assign(char_var, new_char_val, validate_shape=False)\n",
    "assign_W_ema = tf.assign(W_ema_var, new_W_ema_val, validate_shape=False)\n",
    "assign_b_ema = tf.assign(b_ema_var, new_b_ema_val, validate_shape=False)\n",
    "assign_char_ema = tf.assign(char_ema_var, new_char_ema_val, validate_shape=False)"
   ]
  },
  {
   "cell_type": "code",
   "execution_count": 13,
   "metadata": {},
   "outputs": [
    {
     "data": {
      "text/plain": [
       "[array([[-0.15977986, -0.2961595 , -0.09698444, ..., -0.05525641,\n",
       "         -0.20132919, -0.25694156],\n",
       "        [-0.08844721, -0.02871284,  0.08583482, ..., -0.00338753,\n",
       "          0.01629108, -0.06739105],\n",
       "        [ 0.09309864,  0.09625814,  0.07733241, ...,  0.11610243,\n",
       "          0.05292799,  0.03755173],\n",
       "        ...,\n",
       "        [ 0.02139026,  0.05365834, -0.0212592 , ...,  0.1114517 ,\n",
       "          0.10267484,  0.05574396],\n",
       "        [ 0.09353878,  0.03639357,  0.0298811 , ...,  0.0905855 ,\n",
       "          0.15521933, -0.00730767],\n",
       "        [-0.06630649, -0.05841877, -0.0778296 , ..., -0.14346126,\n",
       "         -0.14722826, -0.20143573]], dtype=float32),\n",
       " array([-10.655022 ,   2.2453089,   1.0510662, ...,  -6.962929 ,\n",
       "         -9.498092 , -10.523586 ], dtype=float32),\n",
       " array([[ 0.08229961,  0.06513294, -0.06799582, ...,  0.07293753,\n",
       "          0.01166529,  0.0735078 ],\n",
       "        [-0.03917698, -0.06242321, -0.01078086, ...,  0.12380926,\n",
       "         -0.01330725,  0.05882245],\n",
       "        [ 0.04147386,  0.03022774, -0.0075995 , ...,  0.16006012,\n",
       "          0.01641175, -0.07225426],\n",
       "        ...,\n",
       "        [-0.00227771, -0.01075096,  0.15570226, ...,  0.04280048,\n",
       "          0.1182126 , -0.19346231],\n",
       "        [ 0.05166473, -0.19327131, -0.01362762, ..., -0.04190071,\n",
       "         -0.08487455, -0.06665268],\n",
       "        [ 0.06148569,  0.03736213,  0.04947877, ...,  0.01126148,\n",
       "         -0.00750567,  0.0623968 ]], dtype=float32),\n",
       " array([[-0.2537004 , -0.28468126, -0.09154774, ..., -0.28862435,\n",
       "         -0.28609872, -0.03201246],\n",
       "        [-0.0028996 , -0.03843589,  0.08981214, ...,  0.10187238,\n",
       "         -0.15880817, -0.07355867],\n",
       "        [ 0.09591457,  0.08479297,  0.08866936, ...,  0.14331435,\n",
       "          0.15763141,  0.17693819],\n",
       "        ...,\n",
       "        [ 0.11129369,  0.02852301, -0.01963178, ..., -0.01239992,\n",
       "          0.06152205,  0.06125161],\n",
       "        [ 0.0900711 ,  0.04165265,  0.03650171, ...,  0.05684759,\n",
       "          0.00479907,  0.12891418],\n",
       "        [-0.13931464, -0.07087539, -0.08632106, ..., -0.07775632,\n",
       "         -0.11174469, -0.20074981]], dtype=float32),\n",
       " array([-10.41161  ,   2.2757902,   1.0482781, ..., -11.190701 ,\n",
       "        -12.03894  ,  -8.870513 ], dtype=float32),\n",
       " array([[ 0.02966369, -0.02264527,  0.02420531, ..., -0.02343364,\n",
       "          0.06367642,  0.03764272],\n",
       "        [-0.04813599, -0.06873111, -0.01340935, ...,  0.12776819,\n",
       "         -0.0171648 ,  0.0637584 ],\n",
       "        [ 0.0370385 ,  0.03170746, -0.01194273, ...,  0.15746951,\n",
       "          0.01728638, -0.07449907],\n",
       "        ...,\n",
       "        [ 0.01483211,  0.00876512,  0.08661011, ..., -0.16659209,\n",
       "          0.08465731, -0.11250158],\n",
       "        [-0.1204138 , -0.06387268, -0.02206885, ..., -0.02375655,\n",
       "          0.01248166, -0.02899526],\n",
       "        [ 0.00805293, -0.01952055,  0.02179495, ..., -0.04571671,\n",
       "          0.04897747, -0.13297717]], dtype=float32)]"
      ]
     },
     "execution_count": 13,
     "metadata": {},
     "output_type": "execute_result"
    }
   ],
   "source": [
    "trainer.session.run([assign_W, assign_b, assign_char, assign_W_ema, assign_b_ema, assign_char_ema])"
   ]
  },
  {
   "cell_type": "code",
   "execution_count": 14,
   "metadata": {},
   "outputs": [],
   "source": [
    "VERSION='107_intent'\n",
    "trainer.checkpoint_dir = '{}/checkpoints'.format(VERSION)\n",
    "trainer.model_configs = model_configs\n",
    "trainer.save_configs()"
   ]
  },
  {
   "cell_type": "code",
   "execution_count": 15,
   "metadata": {},
   "outputs": [
    {
     "data": {
      "text/plain": [
       "'107_intent/checkpoints/train/model.cpkt-73000'"
      ]
     },
     "execution_count": 15,
     "metadata": {},
     "output_type": "execute_result"
    }
   ],
   "source": [
    "trainer.train_saver.save(trainer.session, os.path.join(trainer.checkpoint_dir, 'train', 'model.cpkt'), global_step=trainer.session.run(trainer.global_step))"
   ]
  },
  {
   "cell_type": "code",
   "execution_count": 16,
   "metadata": {},
   "outputs": [
    {
     "data": {
      "text/plain": [
       "'107_intent/checkpoints/test/model.cpkt-73000'"
      ]
     },
     "execution_count": 16,
     "metadata": {},
     "output_type": "execute_result"
    }
   ],
   "source": [
    "trainer.test_saver.save(trainer.session, os.path.join(trainer.checkpoint_dir, 'test', 'model.cpkt'), global_step=trainer.session.run(trainer.global_step))"
   ]
  },
  {
   "cell_type": "code",
   "execution_count": 17,
   "metadata": {},
   "outputs": [],
   "source": [
    "params.update({\n",
    "    'model_configs': model_configs,\n",
    "    'log_path': '{}/logs'.format(VERSION),\n",
    "    'train_summary_dir': '{}/train_summary/'.format(VERSION),\n",
    "    'test_summary_dir': '{}/test_summary/'.format(VERSION),\n",
    "    'checkpoint_dir': '{}/checkpoints/'.format(VERSION)\n",
    "})"
   ]
  },
  {
   "cell_type": "code",
   "execution_count": 18,
   "metadata": {},
   "outputs": [],
   "source": [
    "with open('{}/trainer_params.json'.format(VERSION), 'w') as out: json.dump(params, out)"
   ]
  },
  {
   "cell_type": "code",
   "execution_count": 19,
   "metadata": {},
   "outputs": [
    {
     "data": {
      "text/plain": [
       "{'model_configs': {'drop_e': 0.1,\n",
       "  'skip_connection': True,\n",
       "  'projection_dims': 512,\n",
       "  'char_cnn_options': {'n_highways': 2,\n",
       "   'layers': [[1, 16],\n",
       "    [2, 16],\n",
       "    [3, 32],\n",
       "    [4, 64],\n",
       "    [5, 128],\n",
       "    [6, 256],\n",
       "    [7, 512]]},\n",
       "  'char_vocab_size': 1088,\n",
       "  'vocab_size': 125409,\n",
       "  'rnn_layers': [{'drop_o': 0.2, 'drop_i': 0.2, 'units': 1024, 'wdrop': 0.4},\n",
       "   {'drop_o': 0.2, 'units': 1024, 'wdrop': 0.4},\n",
       "   {'drop_o': 0.2, 'units': 1024, 'wdrop': 0.4}],\n",
       "  'char_vec_size': 16},\n",
       " 'bptt': 100,\n",
       " 'optimizer': {'params': {'weight_decay': 1.2e-06,\n",
       "   'beta2': 0.99,\n",
       "   'beta1': 0.8},\n",
       "  'name': 'adamw'},\n",
       " 'train_summary_dir': '107_intent/train_summary/',\n",
       " 'negative_samples': 10000,\n",
       " 'wdecay': 0.0,\n",
       " 'checkpoint_dir': '107_intent/checkpoints/',\n",
       " 'log_path': '107_intent/logs',\n",
       " 'beta': 1e-06,\n",
       " 'use_ema': True,\n",
       " 'test_summary_dir': '107_intent/test_summary/',\n",
       " 'clip_norm': 0.3,\n",
       " 'save_freq': 1000,\n",
       " 'alpha': 1e-06}"
      ]
     },
     "execution_count": 19,
     "metadata": {},
     "output_type": "execute_result"
    }
   ],
   "source": [
    "params"
   ]
  },
  {
   "cell_type": "code",
   "execution_count": null,
   "metadata": {},
   "outputs": [],
   "source": []
  }
 ],
 "metadata": {
  "kernelspec": {
   "display_name": "Python 3",
   "language": "python",
   "name": "python3"
  },
  "language_info": {
   "codemirror_mode": {
    "name": "ipython",
    "version": 3
   },
   "file_extension": ".py",
   "mimetype": "text/x-python",
   "name": "python",
   "nbconvert_exporter": "python",
   "pygments_lexer": "ipython3",
   "version": "3.6.6"
  }
 },
 "nbformat": 4,
 "nbformat_minor": 2
}
