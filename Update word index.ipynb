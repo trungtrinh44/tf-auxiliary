{
 "cells": [
  {
   "cell_type": "code",
   "execution_count": 1,
   "metadata": {},
   "outputs": [],
   "source": [
    "import tensorflow as tf\n",
    "import json\n",
    "from trainer import Trainer\n",
    "from utils import map_word_to_vector\n",
    "import numpy as np\n",
    "import os"
   ]
  },
  {
   "cell_type": "code",
   "execution_count": 2,
   "metadata": {},
   "outputs": [],
   "source": [
    "with open('102/checkpoints/model_configs.json', 'r') as inp:\n",
    "    model_configs = json.load(inp)"
   ]
  },
  {
   "cell_type": "code",
   "execution_count": 3,
   "metadata": {},
   "outputs": [],
   "source": [
    "with open('SentimentAnalysis//word2idx.json', 'r') as inp:\n",
    "    new_word2idx = json.load(inp)\n",
    "with open('SentimentAnalysis/char2idx.json', 'r') as inp:\n",
    "    new_char2idx = json.load(inp)\n",
    "with open('102/word2idx.json', 'r') as inp:\n",
    "    old_word2idx = json.load(inp)\n",
    "with open('102/char2idx.json', 'r') as inp:\n",
    "    old_char2idx = json.load(inp)"
   ]
  },
  {
   "cell_type": "code",
   "execution_count": 4,
   "metadata": {},
   "outputs": [],
   "source": [
    "VERSION = 102\n",
    "params = dict(\n",
    "    model_configs = model_configs,\n",
    "    optimizer = tf.train.GradientDescentOptimizer,\n",
    "    negative_samples = 8192,\n",
    "    wdecay = 1.2e-6,\n",
    "    alpha = 1e-6,\n",
    "    beta = 1e-6,\n",
    "    clip_norm = 0.3,\n",
    "    bptt = 70,\n",
    "    use_ema = True,\n",
    "    save_freq = 1000,\n",
    "    log_path = '{}/logs'.format(VERSION),\n",
    "    train_summary_dir = '{}/train_summary/'.format(VERSION),\n",
    "    test_summary_dir = '{}/test_summary/'.format(VERSION),\n",
    "    checkpoint_dir = '{}/checkpoints/'.format(VERSION)\n",
    ")"
   ]
  },
  {
   "cell_type": "code",
   "execution_count": 5,
   "metadata": {},
   "outputs": [],
   "source": [
    "trainer = Trainer(**params)"
   ]
  },
  {
   "cell_type": "code",
   "execution_count": 6,
   "metadata": {},
   "outputs": [
    {
     "name": "stdout",
     "output_type": "stream",
     "text": [
      "INFO:tensorflow:Restoring parameters from 102/checkpoints/train/model.cpkt-1046000\n"
     ]
    },
    {
     "name": "stderr",
     "output_type": "stream",
     "text": [
      "Restoring parameters from 102/checkpoints/train/model.cpkt-1046000\n"
     ]
    }
   ],
   "source": [
    "trainer.build()"
   ]
  },
  {
   "cell_type": "code",
   "execution_count": 7,
   "metadata": {},
   "outputs": [],
   "source": [
    "model_configs['vocab_size'] = len(new_word2idx) + 1\n",
    "model_configs['char_vocab_size'] = len(new_char2idx) + 1"
   ]
  },
  {
   "cell_type": "code",
   "execution_count": 8,
   "metadata": {},
   "outputs": [
    {
     "data": {
      "text/plain": [
       "[<tf.Variable 'LanguageModel/decode_W:0' shape=(512, 153360) dtype=float32_ref>,\n",
       " <tf.Variable 'LanguageModel/decode_b:0' shape=(153360,) dtype=float32_ref>,\n",
       " <tf.Variable 'LanguageModel/word_embedding/embedding_weight:0' shape=(1005, 16) dtype=float32_ref>,\n",
       " <tf.Variable 'LanguageModel/word_embedding/conv1d/kernel:0' shape=(1, 16, 16) dtype=float32_ref>,\n",
       " <tf.Variable 'LanguageModel/word_embedding/conv1d/bias:0' shape=(16,) dtype=float32_ref>,\n",
       " <tf.Variable 'LanguageModel/word_embedding/conv1d_1/kernel:0' shape=(2, 16, 16) dtype=float32_ref>,\n",
       " <tf.Variable 'LanguageModel/word_embedding/conv1d_1/bias:0' shape=(16,) dtype=float32_ref>,\n",
       " <tf.Variable 'LanguageModel/word_embedding/conv1d_2/kernel:0' shape=(3, 16, 32) dtype=float32_ref>,\n",
       " <tf.Variable 'LanguageModel/word_embedding/conv1d_2/bias:0' shape=(32,) dtype=float32_ref>,\n",
       " <tf.Variable 'LanguageModel/word_embedding/conv1d_3/kernel:0' shape=(4, 16, 64) dtype=float32_ref>,\n",
       " <tf.Variable 'LanguageModel/word_embedding/conv1d_3/bias:0' shape=(64,) dtype=float32_ref>,\n",
       " <tf.Variable 'LanguageModel/word_embedding/conv1d_4/kernel:0' shape=(5, 16, 128) dtype=float32_ref>,\n",
       " <tf.Variable 'LanguageModel/word_embedding/conv1d_4/bias:0' shape=(128,) dtype=float32_ref>,\n",
       " <tf.Variable 'LanguageModel/word_embedding/conv1d_5/kernel:0' shape=(6, 16, 256) dtype=float32_ref>,\n",
       " <tf.Variable 'LanguageModel/word_embedding/conv1d_5/bias:0' shape=(256,) dtype=float32_ref>,\n",
       " <tf.Variable 'LanguageModel/word_embedding/conv1d_6/kernel:0' shape=(7, 16, 512) dtype=float32_ref>,\n",
       " <tf.Variable 'LanguageModel/word_embedding/conv1d_6/bias:0' shape=(512,) dtype=float32_ref>,\n",
       " <tf.Variable 'LanguageModel/word_embedding/ww_carry_0:0' shape=(1024, 1024) dtype=float32_ref>,\n",
       " <tf.Variable 'LanguageModel/word_embedding/bb_carry_0:0' shape=(1024,) dtype=float32_ref>,\n",
       " <tf.Variable 'LanguageModel/word_embedding/ww_tr_0:0' shape=(1024, 1024) dtype=float32_ref>,\n",
       " <tf.Variable 'LanguageModel/word_embedding/bb_tr_0:0' shape=(1024,) dtype=float32_ref>,\n",
       " <tf.Variable 'LanguageModel/word_embedding/ww_carry_1:0' shape=(1024, 1024) dtype=float32_ref>,\n",
       " <tf.Variable 'LanguageModel/word_embedding/bb_carry_1:0' shape=(1024,) dtype=float32_ref>,\n",
       " <tf.Variable 'LanguageModel/word_embedding/ww_tr_1:0' shape=(1024, 1024) dtype=float32_ref>,\n",
       " <tf.Variable 'LanguageModel/word_embedding/bb_tr_1:0' shape=(1024,) dtype=float32_ref>,\n",
       " <tf.Variable 'LanguageModel/word_embedding/w_proj:0' shape=(1024, 512) dtype=float32_ref>,\n",
       " <tf.Variable 'LanguageModel/word_embedding/b_proj:0' shape=(512,) dtype=float32_ref>,\n",
       " <tf.Variable 'LanguageModel/LMFW/cudnn_lstm/opaque_kernel:0' shape=<unknown> dtype=float32_ref>,\n",
       " <tf.Variable 'LanguageModel/LMFW/h_var_backup_0:0' shape=(4096, 1024) dtype=float32_ref>,\n",
       " <tf.Variable 'LanguageModel/LMFW/w_proj_0:0' shape=(1024, 512) dtype=float32_ref>,\n",
       " <tf.Variable 'LanguageModel/LMFW/b_proj_0:0' shape=(512,) dtype=float32_ref>,\n",
       " <tf.Variable 'LanguageModel/LMFW/cudnn_lstm_1/opaque_kernel:0' shape=<unknown> dtype=float32_ref>,\n",
       " <tf.Variable 'LanguageModel/LMFW/h_var_backup_1:0' shape=(4096, 1024) dtype=float32_ref>,\n",
       " <tf.Variable 'LanguageModel/LMFW/w_proj_1:0' shape=(1024, 512) dtype=float32_ref>,\n",
       " <tf.Variable 'LanguageModel/LMFW/b_proj_1:0' shape=(512,) dtype=float32_ref>,\n",
       " <tf.Variable 'LanguageModel/LMFW/cudnn_lstm_2/opaque_kernel:0' shape=<unknown> dtype=float32_ref>,\n",
       " <tf.Variable 'LanguageModel/LMFW/h_var_backup_2:0' shape=(4096, 1024) dtype=float32_ref>,\n",
       " <tf.Variable 'LanguageModel/LMFW/w_proj_2:0' shape=(1024, 512) dtype=float32_ref>,\n",
       " <tf.Variable 'LanguageModel/LMFW/b_proj_2:0' shape=(512,) dtype=float32_ref>,\n",
       " <tf.Variable 'LanguageModel/LMFW/c_0:0' shape=(1, 1, 1024) dtype=float32_ref>,\n",
       " <tf.Variable 'LanguageModel/LMFW/h_0:0' shape=(1, 1, 1024) dtype=float32_ref>,\n",
       " <tf.Variable 'LanguageModel/LMFW/c_1:0' shape=(1, 1, 1024) dtype=float32_ref>,\n",
       " <tf.Variable 'LanguageModel/LMFW/h_1:0' shape=(1, 1, 1024) dtype=float32_ref>,\n",
       " <tf.Variable 'LanguageModel/LMFW/c_2:0' shape=(1, 1, 1024) dtype=float32_ref>,\n",
       " <tf.Variable 'LanguageModel/LMFW/h_2:0' shape=(1, 1, 1024) dtype=float32_ref>,\n",
       " <tf.Variable 'LanguageModel/LMBW/cudnn_lstm/opaque_kernel:0' shape=<unknown> dtype=float32_ref>,\n",
       " <tf.Variable 'LanguageModel/LMBW/h_var_backup_0:0' shape=(4096, 1024) dtype=float32_ref>,\n",
       " <tf.Variable 'LanguageModel/LMBW/w_proj_0:0' shape=(1024, 512) dtype=float32_ref>,\n",
       " <tf.Variable 'LanguageModel/LMBW/b_proj_0:0' shape=(512,) dtype=float32_ref>,\n",
       " <tf.Variable 'LanguageModel/LMBW/cudnn_lstm_1/opaque_kernel:0' shape=<unknown> dtype=float32_ref>,\n",
       " <tf.Variable 'LanguageModel/LMBW/h_var_backup_1:0' shape=(4096, 1024) dtype=float32_ref>,\n",
       " <tf.Variable 'LanguageModel/LMBW/w_proj_1:0' shape=(1024, 512) dtype=float32_ref>,\n",
       " <tf.Variable 'LanguageModel/LMBW/b_proj_1:0' shape=(512,) dtype=float32_ref>,\n",
       " <tf.Variable 'LanguageModel/LMBW/cudnn_lstm_2/opaque_kernel:0' shape=<unknown> dtype=float32_ref>,\n",
       " <tf.Variable 'LanguageModel/LMBW/h_var_backup_2:0' shape=(4096, 1024) dtype=float32_ref>,\n",
       " <tf.Variable 'LanguageModel/LMBW/w_proj_2:0' shape=(1024, 512) dtype=float32_ref>,\n",
       " <tf.Variable 'LanguageModel/LMBW/b_proj_2:0' shape=(512,) dtype=float32_ref>,\n",
       " <tf.Variable 'LanguageModel/LMBW/c_0:0' shape=(1, 1, 1024) dtype=float32_ref>,\n",
       " <tf.Variable 'LanguageModel/LMBW/h_0:0' shape=(1, 1, 1024) dtype=float32_ref>,\n",
       " <tf.Variable 'LanguageModel/LMBW/c_1:0' shape=(1, 1, 1024) dtype=float32_ref>,\n",
       " <tf.Variable 'LanguageModel/LMBW/h_1:0' shape=(1, 1, 1024) dtype=float32_ref>,\n",
       " <tf.Variable 'LanguageModel/LMBW/c_2:0' shape=(1, 1, 1024) dtype=float32_ref>,\n",
       " <tf.Variable 'LanguageModel/LMBW/h_2:0' shape=(1, 1, 1024) dtype=float32_ref>,\n",
       " <tf.Variable 'LM_Trainer/global_step:0' shape=() dtype=int32_ref>,\n",
       " <tf.Variable 'LanguageModel/decode_W/ExponentialMovingAverage:0' shape=(512, 153360) dtype=float32_ref>,\n",
       " <tf.Variable 'LanguageModel/decode_b/ExponentialMovingAverage:0' shape=(153360,) dtype=float32_ref>,\n",
       " <tf.Variable 'LanguageModel/word_embedding/embedding_weight/ExponentialMovingAverage:0' shape=(1005, 16) dtype=float32_ref>,\n",
       " <tf.Variable 'LanguageModel/word_embedding/conv1d/kernel/ExponentialMovingAverage:0' shape=(1, 16, 16) dtype=float32_ref>,\n",
       " <tf.Variable 'LanguageModel/word_embedding/conv1d/bias/ExponentialMovingAverage:0' shape=(16,) dtype=float32_ref>,\n",
       " <tf.Variable 'LanguageModel/word_embedding/conv1d_1/kernel/ExponentialMovingAverage:0' shape=(2, 16, 16) dtype=float32_ref>,\n",
       " <tf.Variable 'LanguageModel/word_embedding/conv1d_1/bias/ExponentialMovingAverage:0' shape=(16,) dtype=float32_ref>,\n",
       " <tf.Variable 'LanguageModel/word_embedding/conv1d_2/kernel/ExponentialMovingAverage:0' shape=(3, 16, 32) dtype=float32_ref>,\n",
       " <tf.Variable 'LanguageModel/word_embedding/conv1d_2/bias/ExponentialMovingAverage:0' shape=(32,) dtype=float32_ref>,\n",
       " <tf.Variable 'LanguageModel/word_embedding/conv1d_3/kernel/ExponentialMovingAverage:0' shape=(4, 16, 64) dtype=float32_ref>,\n",
       " <tf.Variable 'LanguageModel/word_embedding/conv1d_3/bias/ExponentialMovingAverage:0' shape=(64,) dtype=float32_ref>,\n",
       " <tf.Variable 'LanguageModel/word_embedding/conv1d_4/kernel/ExponentialMovingAverage:0' shape=(5, 16, 128) dtype=float32_ref>,\n",
       " <tf.Variable 'LanguageModel/word_embedding/conv1d_4/bias/ExponentialMovingAverage:0' shape=(128,) dtype=float32_ref>,\n",
       " <tf.Variable 'LanguageModel/word_embedding/conv1d_5/kernel/ExponentialMovingAverage:0' shape=(6, 16, 256) dtype=float32_ref>,\n",
       " <tf.Variable 'LanguageModel/word_embedding/conv1d_5/bias/ExponentialMovingAverage:0' shape=(256,) dtype=float32_ref>,\n",
       " <tf.Variable 'LanguageModel/word_embedding/conv1d_6/kernel/ExponentialMovingAverage:0' shape=(7, 16, 512) dtype=float32_ref>,\n",
       " <tf.Variable 'LanguageModel/word_embedding/conv1d_6/bias/ExponentialMovingAverage:0' shape=(512,) dtype=float32_ref>,\n",
       " <tf.Variable 'LanguageModel/word_embedding/ww_carry_0/ExponentialMovingAverage:0' shape=(1024, 1024) dtype=float32_ref>,\n",
       " <tf.Variable 'LanguageModel/word_embedding/bb_carry_0/ExponentialMovingAverage:0' shape=(1024,) dtype=float32_ref>,\n",
       " <tf.Variable 'LanguageModel/word_embedding/ww_tr_0/ExponentialMovingAverage:0' shape=(1024, 1024) dtype=float32_ref>,\n",
       " <tf.Variable 'LanguageModel/word_embedding/bb_tr_0/ExponentialMovingAverage:0' shape=(1024,) dtype=float32_ref>,\n",
       " <tf.Variable 'LanguageModel/word_embedding/ww_carry_1/ExponentialMovingAverage:0' shape=(1024, 1024) dtype=float32_ref>,\n",
       " <tf.Variable 'LanguageModel/word_embedding/bb_carry_1/ExponentialMovingAverage:0' shape=(1024,) dtype=float32_ref>,\n",
       " <tf.Variable 'LanguageModel/word_embedding/ww_tr_1/ExponentialMovingAverage:0' shape=(1024, 1024) dtype=float32_ref>,\n",
       " <tf.Variable 'LanguageModel/word_embedding/bb_tr_1/ExponentialMovingAverage:0' shape=(1024,) dtype=float32_ref>,\n",
       " <tf.Variable 'LanguageModel/word_embedding/w_proj/ExponentialMovingAverage:0' shape=(1024, 512) dtype=float32_ref>,\n",
       " <tf.Variable 'LanguageModel/word_embedding/b_proj/ExponentialMovingAverage:0' shape=(512,) dtype=float32_ref>,\n",
       " <tf.Variable 'LanguageModel/LMFW/cudnn_lstm/opaque_kernel/ExponentialMovingAverage:0' shape=<unknown> dtype=float32_ref>,\n",
       " <tf.Variable 'LanguageModel/LMFW/w_proj_0/ExponentialMovingAverage:0' shape=(1024, 512) dtype=float32_ref>,\n",
       " <tf.Variable 'LanguageModel/LMFW/b_proj_0/ExponentialMovingAverage:0' shape=(512,) dtype=float32_ref>,\n",
       " <tf.Variable 'LanguageModel/LMFW/cudnn_lstm_1/opaque_kernel/ExponentialMovingAverage:0' shape=<unknown> dtype=float32_ref>,\n",
       " <tf.Variable 'LanguageModel/LMFW/w_proj_1/ExponentialMovingAverage:0' shape=(1024, 512) dtype=float32_ref>,\n",
       " <tf.Variable 'LanguageModel/LMFW/b_proj_1/ExponentialMovingAverage:0' shape=(512,) dtype=float32_ref>,\n",
       " <tf.Variable 'LanguageModel/LMFW/cudnn_lstm_2/opaque_kernel/ExponentialMovingAverage:0' shape=<unknown> dtype=float32_ref>,\n",
       " <tf.Variable 'LanguageModel/LMFW/w_proj_2/ExponentialMovingAverage:0' shape=(1024, 512) dtype=float32_ref>,\n",
       " <tf.Variable 'LanguageModel/LMFW/b_proj_2/ExponentialMovingAverage:0' shape=(512,) dtype=float32_ref>,\n",
       " <tf.Variable 'LanguageModel/LMBW/cudnn_lstm/opaque_kernel/ExponentialMovingAverage:0' shape=<unknown> dtype=float32_ref>,\n",
       " <tf.Variable 'LanguageModel/LMBW/w_proj_0/ExponentialMovingAverage:0' shape=(1024, 512) dtype=float32_ref>,\n",
       " <tf.Variable 'LanguageModel/LMBW/b_proj_0/ExponentialMovingAverage:0' shape=(512,) dtype=float32_ref>,\n",
       " <tf.Variable 'LanguageModel/LMBW/cudnn_lstm_1/opaque_kernel/ExponentialMovingAverage:0' shape=<unknown> dtype=float32_ref>,\n",
       " <tf.Variable 'LanguageModel/LMBW/w_proj_1/ExponentialMovingAverage:0' shape=(1024, 512) dtype=float32_ref>,\n",
       " <tf.Variable 'LanguageModel/LMBW/b_proj_1/ExponentialMovingAverage:0' shape=(512,) dtype=float32_ref>,\n",
       " <tf.Variable 'LanguageModel/LMBW/cudnn_lstm_2/opaque_kernel/ExponentialMovingAverage:0' shape=<unknown> dtype=float32_ref>,\n",
       " <tf.Variable 'LanguageModel/LMBW/w_proj_2/ExponentialMovingAverage:0' shape=(1024, 512) dtype=float32_ref>,\n",
       " <tf.Variable 'LanguageModel/LMBW/b_proj_2/ExponentialMovingAverage:0' shape=(512,) dtype=float32_ref>]"
      ]
     },
     "execution_count": 8,
     "metadata": {},
     "output_type": "execute_result"
    }
   ],
   "source": [
    "tf.global_variables()"
   ]
  },
  {
   "cell_type": "code",
   "execution_count": 9,
   "metadata": {},
   "outputs": [],
   "source": [
    "with tf.variable_scope('LanguageModel', reuse=True):\n",
    "    W_var = tf.get_variable('decode_W')\n",
    "    b_var = tf.get_variable('decode_b')\n",
    "    W_ema_var = trainer.ema.average(W_var)\n",
    "    b_ema_var = trainer.ema.average(b_var)"
   ]
  },
  {
   "cell_type": "code",
   "execution_count": 10,
   "metadata": {},
   "outputs": [],
   "source": [
    "W_val = trainer.session.run(W_var)\n",
    "b_val = trainer.session.run(b_var)\n",
    "W_ema_val = trainer.session.run(W_ema_var)\n",
    "b_ema_val = trainer.session.run(b_ema_var)"
   ]
  },
  {
   "cell_type": "code",
   "execution_count": 11,
   "metadata": {},
   "outputs": [],
   "source": [
    "new_W_val = map_word_to_vector(new_word2idx, old_word2idx, W_val.T).T\n",
    "new_b_val = np.squeeze(map_word_to_vector(new_word2idx, old_word2idx, np.expand_dims(b_val, axis=-1)), axis=-1)\n",
    "new_W_ema_val = map_word_to_vector(new_word2idx, old_word2idx, W_ema_val.T).T\n",
    "new_b_ema_val = np.squeeze(map_word_to_vector(new_word2idx, old_word2idx, np.expand_dims(b_ema_val, axis=-1)), axis=-1)"
   ]
  },
  {
   "cell_type": "code",
   "execution_count": 12,
   "metadata": {},
   "outputs": [],
   "source": [
    "assign_W = tf.assign(W_var, new_W_val, validate_shape=False)\n",
    "assign_b = tf.assign(b_var, new_b_val, validate_shape=False)\n",
    "assign_W_ema = tf.assign(W_ema_var, new_W_ema_val, validate_shape=False)\n",
    "assign_b_ema = tf.assign(b_ema_var, new_b_ema_val, validate_shape=False)"
   ]
  },
  {
   "cell_type": "code",
   "execution_count": 13,
   "metadata": {},
   "outputs": [
    {
     "data": {
      "text/plain": [
       "[array([[-0.02900317,  0.00242317,  0.02402635, ...,  0.0096975 ,\n",
       "          0.00533582, -0.01156895],\n",
       "        [ 0.0299977 , -0.10840327, -0.11387965, ...,  0.00502902,\n",
       "         -0.01067196, -0.03624642],\n",
       "        [ 0.00626211, -0.02825956,  0.17951813, ...,  0.02727997,\n",
       "         -0.03085063, -0.02527289],\n",
       "        ...,\n",
       "        [ 0.00189254, -0.05637207, -0.12711304, ...,  0.01247254,\n",
       "         -0.00112364, -0.00282849],\n",
       "        [-0.04899433,  0.02262462, -0.06198847, ...,  0.00792436,\n",
       "         -0.02380779, -0.00877183],\n",
       "        [-0.00833268,  0.11103068,  0.02551415, ..., -0.00747284,\n",
       "         -0.0207533 , -0.00675184]], dtype=float32),\n",
       " array([ 0.01684981,  8.610944  ,  4.7202516 , ...,  0.06646784,\n",
       "         0.0553963 , -0.04711184], dtype=float32),\n",
       " array([[ 0.02247547, -0.00666038,  0.04065513, ...,  0.03241943,\n",
       "         -0.00203702,  0.01187309],\n",
       "        [ 0.00830166, -0.07638112, -0.1119715 , ...,  0.03054176,\n",
       "          0.02697206, -0.02376601],\n",
       "        [-0.01270556, -0.01647925,  0.17574917, ..., -0.0078564 ,\n",
       "         -0.01071349,  0.00138939],\n",
       "        ...,\n",
       "        [-0.01064419, -0.0236539 , -0.1305555 , ...,  0.04475018,\n",
       "          0.01706679,  0.01342374],\n",
       "        [ 0.0362637 ,  0.04457078, -0.0532856 , ...,  0.00788784,\n",
       "          0.00680122,  0.0144116 ],\n",
       "        [-0.01228366,  0.07243312,  0.02437684, ..., -0.01345501,\n",
       "          0.00364122, -0.03670258]], dtype=float32),\n",
       " array([-0.03317647,  8.512789  ,  4.720425  , ...,  0.06602059,\n",
       "        -0.12088361, -0.08443853], dtype=float32)]"
      ]
     },
     "execution_count": 13,
     "metadata": {},
     "output_type": "execute_result"
    }
   ],
   "source": [
    "trainer.session.run([assign_W, assign_b, assign_W_ema, assign_b_ema])"
   ]
  },
  {
   "cell_type": "code",
   "execution_count": 15,
   "metadata": {},
   "outputs": [],
   "source": [
    "trainer.checkpoint_dir = '102_sa/checkpoints/'\n",
    "trainer.model_configs = model_configs\n",
    "trainer.save_configs()"
   ]
  },
  {
   "cell_type": "code",
   "execution_count": 16,
   "metadata": {},
   "outputs": [
    {
     "data": {
      "text/plain": [
       "'102_sa/checkpoints/train/model.cpkt-1046000'"
      ]
     },
     "execution_count": 16,
     "metadata": {},
     "output_type": "execute_result"
    }
   ],
   "source": [
    "trainer.train_saver.save(trainer.session, os.path.join(trainer.checkpoint_dir, 'train', 'model.cpkt'), global_step=trainer.session.run(trainer.global_step))"
   ]
  },
  {
   "cell_type": "code",
   "execution_count": 17,
   "metadata": {},
   "outputs": [
    {
     "data": {
      "text/plain": [
       "'102_sa/checkpoints/test/model.cpkt-1046000'"
      ]
     },
     "execution_count": 17,
     "metadata": {},
     "output_type": "execute_result"
    }
   ],
   "source": [
    "trainer.test_saver.save(trainer.session, os.path.join(trainer.checkpoint_dir, 'test', 'model.cpkt'), global_step=trainer.session.run(trainer.global_step))"
   ]
  },
  {
   "cell_type": "code",
   "execution_count": null,
   "metadata": {},
   "outputs": [],
   "source": []
  }
 ],
 "metadata": {
  "kernelspec": {
   "display_name": "Python 3",
   "language": "python",
   "name": "python3"
  },
  "language_info": {
   "codemirror_mode": {
    "name": "ipython",
    "version": 3
   },
   "file_extension": ".py",
   "mimetype": "text/x-python",
   "name": "python",
   "nbconvert_exporter": "python",
   "pygments_lexer": "ipython3",
   "version": "3.6.6"
  }
 },
 "nbformat": 4,
 "nbformat_minor": 2
}
