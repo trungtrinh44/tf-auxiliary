{
 "cells": [
  {
   "cell_type": "code",
   "execution_count": 1,
   "metadata": {},
   "outputs": [],
   "source": [
    "import tensorflow as tf\n",
    "import json\n",
    "from trainer import Trainer\n",
    "from utils import map_word_to_vector\n",
    "import numpy as np\n",
    "import os"
   ]
  },
  {
   "cell_type": "code",
   "execution_count": 2,
   "metadata": {},
   "outputs": [],
   "source": [
    "with open('102/checkpoints/model_configs.json', 'r') as inp:\n",
    "    model_configs = json.load(inp)"
   ]
  },
  {
   "cell_type": "code",
   "execution_count": 3,
   "metadata": {},
   "outputs": [],
   "source": [
    "with open('IntentDetection/word2idx.json', 'r') as inp:\n",
    "    new_word2idx = json.load(inp)\n",
    "with open('IntentDetection/char2idx.json', 'r') as inp:\n",
    "    new_char2idx = json.load(inp)\n",
    "with open('102/word2idx.json', 'r') as inp:\n",
    "    old_word2idx = json.load(inp)\n",
    "with open('102/char2idx.json', 'r') as inp:\n",
    "    old_char2idx = json.load(inp)"
   ]
  },
  {
   "cell_type": "code",
   "execution_count": 4,
   "metadata": {},
   "outputs": [],
   "source": [
    "VERSION = 102\n",
    "params = dict(\n",
    "    model_configs = model_configs,\n",
    "    optimizer = tf.train.GradientDescentOptimizer,\n",
    "    negative_samples = 8192,\n",
    "    wdecay = 1.2e-6,\n",
    "    alpha = 1e-6,\n",
    "    beta = 1e-6,\n",
    "    clip_norm = 0.3,\n",
    "    bptt = 70,\n",
    "    use_ema = True,\n",
    "    save_freq = 1000,\n",
    "    log_path = '{}/logs'.format(VERSION),\n",
    "    train_summary_dir = '{}/train_summary/'.format(VERSION),\n",
    "    test_summary_dir = '{}/test_summary/'.format(VERSION),\n",
    "    checkpoint_dir = '{}/checkpoints/'.format(VERSION)\n",
    ")"
   ]
  },
  {
   "cell_type": "code",
   "execution_count": 5,
   "metadata": {},
   "outputs": [],
   "source": [
    "trainer = Trainer(**params)"
   ]
  },
  {
   "cell_type": "code",
   "execution_count": 6,
   "metadata": {},
   "outputs": [
    {
     "name": "stdout",
     "output_type": "stream",
     "text": [
      "INFO:tensorflow:Restoring parameters from 102/checkpoints/train/model.cpkt-1324235\n"
     ]
    },
    {
     "name": "stderr",
     "output_type": "stream",
     "text": [
      "Restoring parameters from 102/checkpoints/train/model.cpkt-1324235\n"
     ]
    }
   ],
   "source": [
    "trainer.build()"
   ]
  },
  {
   "cell_type": "code",
   "execution_count": 7,
   "metadata": {},
   "outputs": [],
   "source": [
    "model_configs['vocab_size'] = len(new_word2idx) + 1\n",
    "model_configs['char_vocab_size'] = len(new_char2idx) + 1"
   ]
  },
  {
   "cell_type": "code",
   "execution_count": 8,
   "metadata": {},
   "outputs": [
    {
     "data": {
      "text/plain": [
       "[<tf.Variable 'LanguageModel/decode_W:0' shape=(512, 153360) dtype=float32_ref>,\n",
       " <tf.Variable 'LanguageModel/decode_b:0' shape=(153360,) dtype=float32_ref>,\n",
       " <tf.Variable 'LanguageModel/word_embedding/embedding_weight:0' shape=(1005, 16) dtype=float32_ref>,\n",
       " <tf.Variable 'LanguageModel/word_embedding/conv1d/kernel:0' shape=(1, 16, 16) dtype=float32_ref>,\n",
       " <tf.Variable 'LanguageModel/word_embedding/conv1d/bias:0' shape=(16,) dtype=float32_ref>,\n",
       " <tf.Variable 'LanguageModel/word_embedding/conv1d_1/kernel:0' shape=(2, 16, 16) dtype=float32_ref>,\n",
       " <tf.Variable 'LanguageModel/word_embedding/conv1d_1/bias:0' shape=(16,) dtype=float32_ref>,\n",
       " <tf.Variable 'LanguageModel/word_embedding/conv1d_2/kernel:0' shape=(3, 16, 32) dtype=float32_ref>,\n",
       " <tf.Variable 'LanguageModel/word_embedding/conv1d_2/bias:0' shape=(32,) dtype=float32_ref>,\n",
       " <tf.Variable 'LanguageModel/word_embedding/conv1d_3/kernel:0' shape=(4, 16, 64) dtype=float32_ref>,\n",
       " <tf.Variable 'LanguageModel/word_embedding/conv1d_3/bias:0' shape=(64,) dtype=float32_ref>,\n",
       " <tf.Variable 'LanguageModel/word_embedding/conv1d_4/kernel:0' shape=(5, 16, 128) dtype=float32_ref>,\n",
       " <tf.Variable 'LanguageModel/word_embedding/conv1d_4/bias:0' shape=(128,) dtype=float32_ref>,\n",
       " <tf.Variable 'LanguageModel/word_embedding/conv1d_5/kernel:0' shape=(6, 16, 256) dtype=float32_ref>,\n",
       " <tf.Variable 'LanguageModel/word_embedding/conv1d_5/bias:0' shape=(256,) dtype=float32_ref>,\n",
       " <tf.Variable 'LanguageModel/word_embedding/conv1d_6/kernel:0' shape=(7, 16, 512) dtype=float32_ref>,\n",
       " <tf.Variable 'LanguageModel/word_embedding/conv1d_6/bias:0' shape=(512,) dtype=float32_ref>,\n",
       " <tf.Variable 'LanguageModel/word_embedding/ww_carry_0:0' shape=(1024, 1024) dtype=float32_ref>,\n",
       " <tf.Variable 'LanguageModel/word_embedding/bb_carry_0:0' shape=(1024,) dtype=float32_ref>,\n",
       " <tf.Variable 'LanguageModel/word_embedding/ww_tr_0:0' shape=(1024, 1024) dtype=float32_ref>,\n",
       " <tf.Variable 'LanguageModel/word_embedding/bb_tr_0:0' shape=(1024,) dtype=float32_ref>,\n",
       " <tf.Variable 'LanguageModel/word_embedding/ww_carry_1:0' shape=(1024, 1024) dtype=float32_ref>,\n",
       " <tf.Variable 'LanguageModel/word_embedding/bb_carry_1:0' shape=(1024,) dtype=float32_ref>,\n",
       " <tf.Variable 'LanguageModel/word_embedding/ww_tr_1:0' shape=(1024, 1024) dtype=float32_ref>,\n",
       " <tf.Variable 'LanguageModel/word_embedding/bb_tr_1:0' shape=(1024,) dtype=float32_ref>,\n",
       " <tf.Variable 'LanguageModel/word_embedding/w_proj:0' shape=(1024, 512) dtype=float32_ref>,\n",
       " <tf.Variable 'LanguageModel/word_embedding/b_proj:0' shape=(512,) dtype=float32_ref>,\n",
       " <tf.Variable 'LanguageModel/LMFW/cudnn_lstm/opaque_kernel:0' shape=<unknown> dtype=float32_ref>,\n",
       " <tf.Variable 'LanguageModel/LMFW/h_var_backup_0:0' shape=(4096, 1024) dtype=float32_ref>,\n",
       " <tf.Variable 'LanguageModel/LMFW/w_proj_0:0' shape=(1024, 512) dtype=float32_ref>,\n",
       " <tf.Variable 'LanguageModel/LMFW/b_proj_0:0' shape=(512,) dtype=float32_ref>,\n",
       " <tf.Variable 'LanguageModel/LMFW/cudnn_lstm_1/opaque_kernel:0' shape=<unknown> dtype=float32_ref>,\n",
       " <tf.Variable 'LanguageModel/LMFW/h_var_backup_1:0' shape=(4096, 1024) dtype=float32_ref>,\n",
       " <tf.Variable 'LanguageModel/LMFW/w_proj_1:0' shape=(1024, 512) dtype=float32_ref>,\n",
       " <tf.Variable 'LanguageModel/LMFW/b_proj_1:0' shape=(512,) dtype=float32_ref>,\n",
       " <tf.Variable 'LanguageModel/LMFW/cudnn_lstm_2/opaque_kernel:0' shape=<unknown> dtype=float32_ref>,\n",
       " <tf.Variable 'LanguageModel/LMFW/h_var_backup_2:0' shape=(4096, 1024) dtype=float32_ref>,\n",
       " <tf.Variable 'LanguageModel/LMFW/w_proj_2:0' shape=(1024, 512) dtype=float32_ref>,\n",
       " <tf.Variable 'LanguageModel/LMFW/b_proj_2:0' shape=(512,) dtype=float32_ref>,\n",
       " <tf.Variable 'LanguageModel/LMFW/c_0:0' shape=(1, 1, 1024) dtype=float32_ref>,\n",
       " <tf.Variable 'LanguageModel/LMFW/h_0:0' shape=(1, 1, 1024) dtype=float32_ref>,\n",
       " <tf.Variable 'LanguageModel/LMFW/c_1:0' shape=(1, 1, 1024) dtype=float32_ref>,\n",
       " <tf.Variable 'LanguageModel/LMFW/h_1:0' shape=(1, 1, 1024) dtype=float32_ref>,\n",
       " <tf.Variable 'LanguageModel/LMFW/c_2:0' shape=(1, 1, 1024) dtype=float32_ref>,\n",
       " <tf.Variable 'LanguageModel/LMFW/h_2:0' shape=(1, 1, 1024) dtype=float32_ref>,\n",
       " <tf.Variable 'LanguageModel/LMBW/cudnn_lstm/opaque_kernel:0' shape=<unknown> dtype=float32_ref>,\n",
       " <tf.Variable 'LanguageModel/LMBW/h_var_backup_0:0' shape=(4096, 1024) dtype=float32_ref>,\n",
       " <tf.Variable 'LanguageModel/LMBW/w_proj_0:0' shape=(1024, 512) dtype=float32_ref>,\n",
       " <tf.Variable 'LanguageModel/LMBW/b_proj_0:0' shape=(512,) dtype=float32_ref>,\n",
       " <tf.Variable 'LanguageModel/LMBW/cudnn_lstm_1/opaque_kernel:0' shape=<unknown> dtype=float32_ref>,\n",
       " <tf.Variable 'LanguageModel/LMBW/h_var_backup_1:0' shape=(4096, 1024) dtype=float32_ref>,\n",
       " <tf.Variable 'LanguageModel/LMBW/w_proj_1:0' shape=(1024, 512) dtype=float32_ref>,\n",
       " <tf.Variable 'LanguageModel/LMBW/b_proj_1:0' shape=(512,) dtype=float32_ref>,\n",
       " <tf.Variable 'LanguageModel/LMBW/cudnn_lstm_2/opaque_kernel:0' shape=<unknown> dtype=float32_ref>,\n",
       " <tf.Variable 'LanguageModel/LMBW/h_var_backup_2:0' shape=(4096, 1024) dtype=float32_ref>,\n",
       " <tf.Variable 'LanguageModel/LMBW/w_proj_2:0' shape=(1024, 512) dtype=float32_ref>,\n",
       " <tf.Variable 'LanguageModel/LMBW/b_proj_2:0' shape=(512,) dtype=float32_ref>,\n",
       " <tf.Variable 'LanguageModel/LMBW/c_0:0' shape=(1, 1, 1024) dtype=float32_ref>,\n",
       " <tf.Variable 'LanguageModel/LMBW/h_0:0' shape=(1, 1, 1024) dtype=float32_ref>,\n",
       " <tf.Variable 'LanguageModel/LMBW/c_1:0' shape=(1, 1, 1024) dtype=float32_ref>,\n",
       " <tf.Variable 'LanguageModel/LMBW/h_1:0' shape=(1, 1, 1024) dtype=float32_ref>,\n",
       " <tf.Variable 'LanguageModel/LMBW/c_2:0' shape=(1, 1, 1024) dtype=float32_ref>,\n",
       " <tf.Variable 'LanguageModel/LMBW/h_2:0' shape=(1, 1, 1024) dtype=float32_ref>,\n",
       " <tf.Variable 'LM_Trainer/global_step:0' shape=() dtype=int32_ref>,\n",
       " <tf.Variable 'LanguageModel/decode_W/ExponentialMovingAverage:0' shape=(512, 153360) dtype=float32_ref>,\n",
       " <tf.Variable 'LanguageModel/decode_b/ExponentialMovingAverage:0' shape=(153360,) dtype=float32_ref>,\n",
       " <tf.Variable 'LanguageModel/word_embedding/embedding_weight/ExponentialMovingAverage:0' shape=(1005, 16) dtype=float32_ref>,\n",
       " <tf.Variable 'LanguageModel/word_embedding/conv1d/kernel/ExponentialMovingAverage:0' shape=(1, 16, 16) dtype=float32_ref>,\n",
       " <tf.Variable 'LanguageModel/word_embedding/conv1d/bias/ExponentialMovingAverage:0' shape=(16,) dtype=float32_ref>,\n",
       " <tf.Variable 'LanguageModel/word_embedding/conv1d_1/kernel/ExponentialMovingAverage:0' shape=(2, 16, 16) dtype=float32_ref>,\n",
       " <tf.Variable 'LanguageModel/word_embedding/conv1d_1/bias/ExponentialMovingAverage:0' shape=(16,) dtype=float32_ref>,\n",
       " <tf.Variable 'LanguageModel/word_embedding/conv1d_2/kernel/ExponentialMovingAverage:0' shape=(3, 16, 32) dtype=float32_ref>,\n",
       " <tf.Variable 'LanguageModel/word_embedding/conv1d_2/bias/ExponentialMovingAverage:0' shape=(32,) dtype=float32_ref>,\n",
       " <tf.Variable 'LanguageModel/word_embedding/conv1d_3/kernel/ExponentialMovingAverage:0' shape=(4, 16, 64) dtype=float32_ref>,\n",
       " <tf.Variable 'LanguageModel/word_embedding/conv1d_3/bias/ExponentialMovingAverage:0' shape=(64,) dtype=float32_ref>,\n",
       " <tf.Variable 'LanguageModel/word_embedding/conv1d_4/kernel/ExponentialMovingAverage:0' shape=(5, 16, 128) dtype=float32_ref>,\n",
       " <tf.Variable 'LanguageModel/word_embedding/conv1d_4/bias/ExponentialMovingAverage:0' shape=(128,) dtype=float32_ref>,\n",
       " <tf.Variable 'LanguageModel/word_embedding/conv1d_5/kernel/ExponentialMovingAverage:0' shape=(6, 16, 256) dtype=float32_ref>,\n",
       " <tf.Variable 'LanguageModel/word_embedding/conv1d_5/bias/ExponentialMovingAverage:0' shape=(256,) dtype=float32_ref>,\n",
       " <tf.Variable 'LanguageModel/word_embedding/conv1d_6/kernel/ExponentialMovingAverage:0' shape=(7, 16, 512) dtype=float32_ref>,\n",
       " <tf.Variable 'LanguageModel/word_embedding/conv1d_6/bias/ExponentialMovingAverage:0' shape=(512,) dtype=float32_ref>,\n",
       " <tf.Variable 'LanguageModel/word_embedding/ww_carry_0/ExponentialMovingAverage:0' shape=(1024, 1024) dtype=float32_ref>,\n",
       " <tf.Variable 'LanguageModel/word_embedding/bb_carry_0/ExponentialMovingAverage:0' shape=(1024,) dtype=float32_ref>,\n",
       " <tf.Variable 'LanguageModel/word_embedding/ww_tr_0/ExponentialMovingAverage:0' shape=(1024, 1024) dtype=float32_ref>,\n",
       " <tf.Variable 'LanguageModel/word_embedding/bb_tr_0/ExponentialMovingAverage:0' shape=(1024,) dtype=float32_ref>,\n",
       " <tf.Variable 'LanguageModel/word_embedding/ww_carry_1/ExponentialMovingAverage:0' shape=(1024, 1024) dtype=float32_ref>,\n",
       " <tf.Variable 'LanguageModel/word_embedding/bb_carry_1/ExponentialMovingAverage:0' shape=(1024,) dtype=float32_ref>,\n",
       " <tf.Variable 'LanguageModel/word_embedding/ww_tr_1/ExponentialMovingAverage:0' shape=(1024, 1024) dtype=float32_ref>,\n",
       " <tf.Variable 'LanguageModel/word_embedding/bb_tr_1/ExponentialMovingAverage:0' shape=(1024,) dtype=float32_ref>,\n",
       " <tf.Variable 'LanguageModel/word_embedding/w_proj/ExponentialMovingAverage:0' shape=(1024, 512) dtype=float32_ref>,\n",
       " <tf.Variable 'LanguageModel/word_embedding/b_proj/ExponentialMovingAverage:0' shape=(512,) dtype=float32_ref>,\n",
       " <tf.Variable 'LanguageModel/LMFW/cudnn_lstm/opaque_kernel/ExponentialMovingAverage:0' shape=<unknown> dtype=float32_ref>,\n",
       " <tf.Variable 'LanguageModel/LMFW/w_proj_0/ExponentialMovingAverage:0' shape=(1024, 512) dtype=float32_ref>,\n",
       " <tf.Variable 'LanguageModel/LMFW/b_proj_0/ExponentialMovingAverage:0' shape=(512,) dtype=float32_ref>,\n",
       " <tf.Variable 'LanguageModel/LMFW/cudnn_lstm_1/opaque_kernel/ExponentialMovingAverage:0' shape=<unknown> dtype=float32_ref>,\n",
       " <tf.Variable 'LanguageModel/LMFW/w_proj_1/ExponentialMovingAverage:0' shape=(1024, 512) dtype=float32_ref>,\n",
       " <tf.Variable 'LanguageModel/LMFW/b_proj_1/ExponentialMovingAverage:0' shape=(512,) dtype=float32_ref>,\n",
       " <tf.Variable 'LanguageModel/LMFW/cudnn_lstm_2/opaque_kernel/ExponentialMovingAverage:0' shape=<unknown> dtype=float32_ref>,\n",
       " <tf.Variable 'LanguageModel/LMFW/w_proj_2/ExponentialMovingAverage:0' shape=(1024, 512) dtype=float32_ref>,\n",
       " <tf.Variable 'LanguageModel/LMFW/b_proj_2/ExponentialMovingAverage:0' shape=(512,) dtype=float32_ref>,\n",
       " <tf.Variable 'LanguageModel/LMBW/cudnn_lstm/opaque_kernel/ExponentialMovingAverage:0' shape=<unknown> dtype=float32_ref>,\n",
       " <tf.Variable 'LanguageModel/LMBW/w_proj_0/ExponentialMovingAverage:0' shape=(1024, 512) dtype=float32_ref>,\n",
       " <tf.Variable 'LanguageModel/LMBW/b_proj_0/ExponentialMovingAverage:0' shape=(512,) dtype=float32_ref>,\n",
       " <tf.Variable 'LanguageModel/LMBW/cudnn_lstm_1/opaque_kernel/ExponentialMovingAverage:0' shape=<unknown> dtype=float32_ref>,\n",
       " <tf.Variable 'LanguageModel/LMBW/w_proj_1/ExponentialMovingAverage:0' shape=(1024, 512) dtype=float32_ref>,\n",
       " <tf.Variable 'LanguageModel/LMBW/b_proj_1/ExponentialMovingAverage:0' shape=(512,) dtype=float32_ref>,\n",
       " <tf.Variable 'LanguageModel/LMBW/cudnn_lstm_2/opaque_kernel/ExponentialMovingAverage:0' shape=<unknown> dtype=float32_ref>,\n",
       " <tf.Variable 'LanguageModel/LMBW/w_proj_2/ExponentialMovingAverage:0' shape=(1024, 512) dtype=float32_ref>,\n",
       " <tf.Variable 'LanguageModel/LMBW/b_proj_2/ExponentialMovingAverage:0' shape=(512,) dtype=float32_ref>]"
      ]
     },
     "execution_count": 8,
     "metadata": {},
     "output_type": "execute_result"
    }
   ],
   "source": [
    "tf.global_variables()"
   ]
  },
  {
   "cell_type": "code",
   "execution_count": 9,
   "metadata": {},
   "outputs": [],
   "source": [
    "with tf.variable_scope('LanguageModel', reuse=True):\n",
    "    W_var = tf.get_variable('decode_W')\n",
    "    b_var = tf.get_variable('decode_b')\n",
    "    char_var = tf.get_variable('word_embedding/embedding_weight')\n",
    "    W_ema_var = trainer.ema.average(W_var)\n",
    "    b_ema_var = trainer.ema.average(b_var)\n",
    "    char_ema_var = trainer.ema.average(char_var)"
   ]
  },
  {
   "cell_type": "code",
   "execution_count": 10,
   "metadata": {},
   "outputs": [],
   "source": [
    "W_val = trainer.session.run(W_var)\n",
    "b_val = trainer.session.run(b_var)\n",
    "char_val = trainer.session.run(char_var)\n",
    "W_ema_val = trainer.session.run(W_ema_var)\n",
    "b_ema_val = trainer.session.run(b_ema_var)\n",
    "char_ema_val = trainer.session.run(char_ema_var)"
   ]
  },
  {
   "cell_type": "code",
   "execution_count": 11,
   "metadata": {},
   "outputs": [],
   "source": [
    "new_W_val = map_word_to_vector(new_word2idx, old_word2idx, W_val.T).T\n",
    "new_b_val = np.squeeze(map_word_to_vector(new_word2idx, old_word2idx, np.expand_dims(b_val, axis=-1)), axis=-1)\n",
    "new_char_val = map_word_to_vector(new_char2idx, old_char2idx, char_val)\n",
    "new_W_ema_val = map_word_to_vector(new_word2idx, old_word2idx, W_ema_val.T).T\n",
    "new_b_ema_val = np.squeeze(map_word_to_vector(new_word2idx, old_word2idx, np.expand_dims(b_ema_val, axis=-1)), axis=-1)\n",
    "new_char_ema_val = map_word_to_vector(new_char2idx, old_char2idx, char_ema_val)"
   ]
  },
  {
   "cell_type": "code",
   "execution_count": 12,
   "metadata": {},
   "outputs": [],
   "source": [
    "assign_W = tf.assign(W_var, new_W_val, validate_shape=False)\n",
    "assign_b = tf.assign(b_var, new_b_val, validate_shape=False)\n",
    "assign_char = tf.assign(char_var, new_char_val, validate_shape=False)\n",
    "assign_W_ema = tf.assign(W_ema_var, new_W_ema_val, validate_shape=False)\n",
    "assign_b_ema = tf.assign(b_ema_var, new_b_ema_val, validate_shape=False)\n",
    "assign_char_ema = tf.assign(char_ema_var, new_char_ema_val, validate_shape=False)"
   ]
  },
  {
   "cell_type": "code",
   "execution_count": 13,
   "metadata": {},
   "outputs": [
    {
     "data": {
      "text/plain": [
       "[array([[-0.0050141 ,  0.01232511,  0.03269657, ..., -0.00662151,\n",
       "         -0.00755983, -0.02902828],\n",
       "        [-0.01014443, -0.06587451, -0.09476849, ...,  0.0359768 ,\n",
       "          0.03795993, -0.02359007],\n",
       "        [-0.01018998, -0.00752271,  0.13559338, ...,  0.0057702 ,\n",
       "          0.01109316,  0.0053838 ],\n",
       "        ...,\n",
       "        [-0.00053481, -0.07606182, -0.08742952, ..., -0.01491118,\n",
       "          0.00509883, -0.00081415],\n",
       "        [-0.01365545,  0.04918882, -0.03894585, ...,  0.01981383,\n",
       "          0.02361569,  0.00964692],\n",
       "        [ 0.00928689,  0.01865495,  0.01663297, ..., -0.01034157,\n",
       "         -0.02132533,  0.0111831 ]], dtype=float32),\n",
       " array([ 3.7358813e-03,  7.2618127e+00,  3.1828282e+00, ...,\n",
       "        -3.0431986e-02, -2.3002513e-02,  4.0803221e-03], dtype=float32),\n",
       " array([[-0.01157946, -0.08745594,  0.07423651, ...,  0.17092058,\n",
       "         -0.257632  ,  0.3862866 ],\n",
       "        [ 3.8711333 ,  2.8239796 ,  0.79968923, ..., -1.3197806 ,\n",
       "          1.1443709 , -1.0142758 ],\n",
       "        [ 2.977936  , -0.7728609 , -0.47925472, ..., -0.8407111 ,\n",
       "         -2.2121964 ,  0.18702044],\n",
       "        ...,\n",
       "        [ 0.65586084, -0.45246804, -0.5994208 , ..., -0.15258475,\n",
       "          0.23179728, -0.25910658],\n",
       "        [ 0.19224079, -0.2692418 ,  0.26424804, ..., -0.17426772,\n",
       "          0.41758862,  0.07763095],\n",
       "        [ 0.72196   , -0.39480665, -0.4019715 , ..., -0.22092246,\n",
       "         -0.3051689 , -0.34004158]], dtype=float32),\n",
       " array([[ 1.1664878e-02,  1.2323803e-02,  3.3419065e-02, ...,\n",
       "         -2.0594439e-04, -1.6749687e-02,  1.3159903e-02],\n",
       "        [-2.8222030e-02, -6.2973462e-02, -9.5948882e-02, ...,\n",
       "          7.9279514e-03,  2.2392696e-02, -4.3551507e-03],\n",
       "        [-1.9247031e-02, -1.5268477e-02,  1.3332762e-01, ...,\n",
       "          1.4730618e-02, -1.3815714e-02, -1.7682752e-02],\n",
       "        ...,\n",
       "        [ 3.2771688e-02, -7.0653252e-02, -8.7307252e-02, ...,\n",
       "         -1.2661524e-02, -4.4307094e-03,  2.7179716e-02],\n",
       "        [-6.6065368e-05,  5.4946516e-02, -2.5419127e-02, ...,\n",
       "         -2.2389773e-02,  1.0650423e-02,  1.3792192e-02],\n",
       "        [ 5.3898450e-03,  2.1066068e-02,  1.2437582e-02, ...,\n",
       "          1.7672729e-02,  2.9592220e-02,  3.0256154e-02]], dtype=float32),\n",
       " array([ 0.04732477,  7.2904563 ,  3.18328   , ...,  0.06715677,\n",
       "        -0.04053706, -0.01750913], dtype=float32),\n",
       " array([[ 0.32129863, -0.22824119,  0.27711776, ...,  0.07623126,\n",
       "         -0.05958497,  0.07071312],\n",
       "        [ 3.866788  ,  2.8255222 ,  0.8018213 , ..., -1.3206141 ,\n",
       "          1.1438452 , -1.0145235 ],\n",
       "        [ 2.975577  , -0.7727573 , -0.4834435 , ..., -0.8437191 ,\n",
       "         -2.211492  ,  0.18773949],\n",
       "        ...,\n",
       "        [ 0.27321202,  0.09352222,  0.15508765, ...,  0.00467726,\n",
       "         -0.3449712 , -0.55601454],\n",
       "        [-0.20875652, -0.17672896,  0.6807507 , ...,  0.4088791 ,\n",
       "          0.02159412,  0.26516607],\n",
       "        [ 0.50365716,  0.11026913, -0.30804437, ..., -0.49796522,\n",
       "          0.5238338 ,  0.21991625]], dtype=float32)]"
      ]
     },
     "execution_count": 13,
     "metadata": {},
     "output_type": "execute_result"
    }
   ],
   "source": [
    "trainer.session.run([assign_W, assign_b, assign_char, assign_W_ema, assign_b_ema, assign_char_ema])"
   ]
  },
  {
   "cell_type": "code",
   "execution_count": 14,
   "metadata": {},
   "outputs": [],
   "source": [
    "trainer.checkpoint_dir = 'intent_102/checkpoints'\n",
    "trainer.model_configs = model_configs\n",
    "trainer.save_configs()"
   ]
  },
  {
   "cell_type": "code",
   "execution_count": 15,
   "metadata": {},
   "outputs": [
    {
     "data": {
      "text/plain": [
       "'intent_102/checkpoints/train/model.cpkt-1324235'"
      ]
     },
     "execution_count": 15,
     "metadata": {},
     "output_type": "execute_result"
    }
   ],
   "source": [
    "trainer.train_saver.save(trainer.session, os.path.join(trainer.checkpoint_dir, 'train', 'model.cpkt'), global_step=trainer.session.run(trainer.global_step))"
   ]
  },
  {
   "cell_type": "code",
   "execution_count": 16,
   "metadata": {},
   "outputs": [
    {
     "data": {
      "text/plain": [
       "'intent_102/checkpoints/test/model.cpkt-1324235'"
      ]
     },
     "execution_count": 16,
     "metadata": {},
     "output_type": "execute_result"
    }
   ],
   "source": [
    "trainer.test_saver.save(trainer.session, os.path.join(trainer.checkpoint_dir, 'test', 'model.cpkt'), global_step=trainer.session.run(trainer.global_step))"
   ]
  }
 ],
 "metadata": {
  "kernelspec": {
   "display_name": "Python 3",
   "language": "python",
   "name": "python3"
  },
  "language_info": {
   "codemirror_mode": {
    "name": "ipython",
    "version": 3
   },
   "file_extension": ".py",
   "mimetype": "text/x-python",
   "name": "python",
   "nbconvert_exporter": "python",
   "pygments_lexer": "ipython3",
   "version": "3.6.6"
  }
 },
 "nbformat": 4,
 "nbformat_minor": 2
}
