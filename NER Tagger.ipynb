{
 "cells": [
  {
   "cell_type": "code",
   "execution_count": 1,
   "metadata": {},
   "outputs": [],
   "source": [
    "import tensorflow as tf\n",
    "from elmo import elmo_embedding\n",
    "import numpy as np\n",
    "import os\n",
    "from tqdm import tqdm\n",
    "import json\n",
    "from model_v2 import LanguageModel"
   ]
  },
  {
   "cell_type": "code",
   "execution_count": 2,
   "metadata": {},
   "outputs": [],
   "source": [
    "with open('pos2idx.json', 'r') as inp:\n",
    "    pos2idx = json.load(inp)\n",
    "with open('ner2idx.json', 'r') as inp:\n",
    "    ner2idx = json.load(inp)"
   ]
  },
  {
   "cell_type": "code",
   "execution_count": 3,
   "metadata": {},
   "outputs": [],
   "source": [
    "def tagger(inputs, labels, seq_lens, n_units, n_classes, drop_i, drop_o, name='tagger', reuse=False, is_training=True):\n",
    "    with tf.variable_scope(name, reuse=reuse):\n",
    "        def __cell():\n",
    "            cell = tf.contrib.rnn.GRUBlockCellV2(n_units, name='cell', reuse=reuse)\n",
    "            if is_training:\n",
    "                cell = tf.nn.rnn_cell.DropoutWrapper(cell=cell, input_keep_prob=1.0-drop_i, output_keep_prob=1.0-drop_o, variational_recurrent=True, input_size=inputs.shape[-1], dtype=tf.float32)\n",
    "            return cell\n",
    "        outputs, state = tf.nn.bidirectional_dynamic_rnn(__cell(), __cell(), inputs, seq_lens, time_major=False, dtype=tf.float32)\n",
    "        outputs = tf.concat(outputs + (inputs,), axis=-1)\n",
    "        s = tf.shape(outputs)\n",
    "        W = tf.get_variable(name='W', shape=(outputs.shape[2], n_classes), initializer=tf.glorot_uniform_initializer(), trainable=True)\n",
    "        b = tf.get_variable(name='b', shape=(n_classes, ), initializer=tf.zeros_initializer(), trainable=True)\n",
    "        outputs = tf.reshape(outputs, (s[0] * s[1], s[2]), name='before_proj')\n",
    "        outputs = tf.nn.xw_plus_b(outputs, W, b)\n",
    "        outputs = tf.reshape(outputs, (s[0], s[1], n_classes), name='after_proj')\n",
    "        log_likelihood, transition_params = tf.contrib.crf.crf_log_likelihood(\n",
    "            inputs=outputs,\n",
    "            tag_indices=labels,\n",
    "            sequence_lengths=seq_lens\n",
    "        )\n",
    "        loss = tf.reduce_mean(-log_likelihood)\n",
    "        decode_tags, best_scores = tf.contrib.crf.crf_decode(\n",
    "            potentials=outputs,\n",
    "            transition_params=transition_params,\n",
    "            sequence_length=seq_lens\n",
    "        )\n",
    "        mask = tf.sequence_mask(seq_lens, dtype=tf.float32)\n",
    "        acc = tf.reduce_sum(tf.to_float(tf.equal(decode_tags, labels)) * mask) / tf.reduce_sum(mask)\n",
    "    return outputs, loss, transition_params, decode_tags, best_scores, acc"
   ]
  },
  {
   "cell_type": "code",
   "execution_count": null,
   "metadata": {},
   "outputs": [
    {
     "name": "stderr",
     "output_type": "stream",
     "text": [
      " 68%|██████▊   | 34602/50577 [05:50<02:41, 98.84it/s] "
     ]
    }
   ],
   "source": [
    "train_embed = {}\n",
    "train_pos = {}\n",
    "train_ner = {}\n",
    "for p, _, files in os.walk('VLSP/train'):\n",
    "    for fn in tqdm([x for x in files if x.endswith('.npy')]):\n",
    "        with open(os.path.join(p, fn), 'rb') as inp:\n",
    "            arr = np.load(inp)\n",
    "        idx = int(fn[:-5])\n",
    "        if fn[-5] == 'e':\n",
    "            train_embed[idx] = arr\n",
    "        elif fn[-5] == 'n':\n",
    "            train_ner[idx] = [ner2idx[x] for x in arr]\n",
    "        elif fn[-5] == 'p':\n",
    "            train_pos[idx] = [pos2idx[x] for x in arr]\n",
    "        else:\n",
    "            raise ValueError()"
   ]
  },
  {
   "cell_type": "code",
   "execution_count": null,
   "metadata": {},
   "outputs": [],
   "source": [
    "test_embed = {}\n",
    "test_pos = {}\n",
    "test_ner = {}\n",
    "for p, _, files in os.walk('VLSP/test'):\n",
    "    for fn in tqdm([x for x in files if x.endswith('.npy')]):\n",
    "        with open(os.path.join(p, fn), 'rb') as inp:\n",
    "            arr = np.load(inp)\n",
    "        idx = int(fn[:-5])\n",
    "        if fn[-5] == 'e':\n",
    "            test_embed[idx] = arr\n",
    "        elif fn[-5] == 'n':\n",
    "            test_ner[idx] = [ner2idx[x] for x in arr]\n",
    "        elif fn[-5] == 'p':\n",
    "            test_pos[idx] = [pos2idx[x] for x in arr]\n",
    "        else:\n",
    "            raise ValueError()"
   ]
  },
  {
   "cell_type": "code",
   "execution_count": null,
   "metadata": {},
   "outputs": [],
   "source": [
    "def pad_sequences(sequences):\n",
    "    maxlen = max(len(x) for x in sequences)\n",
    "#     print(np.argmax([len(x) for x in sequences]))\n",
    "    if isinstance(sequences[0], np.ndarray):\n",
    "        arr = np.zeros((maxlen, len(sequences)) + sequences[0].shape[1:])\n",
    "    else:\n",
    "        arr = np.zeros((maxlen, len(sequences)))\n",
    "#     print(arr.shape)\n",
    "    for i, x in enumerate(sequences):\n",
    "        arr[:len(x), i] = x\n",
    "    return np.transpose(arr, axes=[1, 0] + [x for x in range(2, arr.ndim)])\n",
    "def get_batch(data, batch_size, shuffle=True):\n",
    "    idx = np.arange(0, len(data))\n",
    "    data = np.array(data)\n",
    "    if shuffle:\n",
    "        idx = np.random.permutation(idx)\n",
    "    for i in range(0, len(idx), batch_size):\n",
    "        indices = idx[i:i+batch_size]\n",
    "#         print(indices)\n",
    "        batch = data[indices]\n",
    "        embed = pad_sequences([x[0] for x in batch])\n",
    "        batch_pos = pad_sequences(np.array([x[1] for x in batch]))\n",
    "        batch_ner = pad_sequences(np.array([x[2] for x in batch]))\n",
    "        seq_len = [len(x[0]) for x in batch]\n",
    "        yield embed, batch_pos, batch_ner, seq_len"
   ]
  },
  {
   "cell_type": "code",
   "execution_count": null,
   "metadata": {},
   "outputs": [],
   "source": [
    "train_data = [(train_embed[k], train_pos[k], train_ner[k]) for k in train_embed]\n",
    "test_data = [(test_embed[k], test_pos[k], test_ner[k]) for k in test_embed]"
   ]
  },
  {
   "cell_type": "code",
   "execution_count": null,
   "metadata": {},
   "outputs": [],
   "source": [
    "tf.reset_default_graph()\n",
    "session = tf.Session()\n",
    "x = tf.placeholder(dtype=tf.float32, shape=(None, None, 1024, 4), name='x')\n",
    "y = tf.placeholder(dtype=tf.int32, shape=(None, None), name='y')\n",
    "seq_len = tf.placeholder(dtype=tf.int32, shape=(None,), name='seq_len')\n",
    "drop_i = tf.placeholder(dtype=tf.float32, shape=(), name='drop_i')\n",
    "drop_o = tf.placeholder(dtype=tf.float32, shape=(), name='drop_o')\n",
    "elmo, elmo_l2_reg = elmo_embedding(x, seq_len, layer_norm=True)\n",
    "outputs, loss, transition_params, decode_tags, best_scores, acc = tagger(elmo, y, seq_len, 200, len(pos2idx), drop_i, drop_o)\n",
    "optimizer = tf.train.AdamOptimizer(1e-3)\n",
    "grads, _vars = zip(*optimizer.compute_gradients(loss + elmo_l2_reg))\n",
    "grads, _ = tf.clip_by_global_norm(grads, clip_norm=1.0)\n",
    "global_step = tf.Variable(0, name=\"global_step\", trainable=False)\n",
    "train_op = optimizer.apply_gradients(\n",
    "    zip(grads, _vars),\n",
    "    global_step=global_step\n",
    ")\n",
    "session.run(tf.global_variables_initializer())"
   ]
  },
  {
   "cell_type": "code",
   "execution_count": null,
   "metadata": {
    "scrolled": true
   },
   "outputs": [],
   "source": [
    "for i in range(10):\n",
    "    gen = get_batch(train_data, 128)\n",
    "    for em, _, ner, sl in gen:\n",
    "        _, s, l, a = session.run([train_op, global_step, loss, acc], feed_dict={\n",
    "            x: em, y: ner, seq_len: sl, drop_i: 0.5, drop_o: 0.5\n",
    "        })\n",
    "        print('Step {}: loss {}, acc {}'.format(s, l, a))"
   ]
  },
  {
   "cell_type": "code",
   "execution_count": null,
   "metadata": {},
   "outputs": [],
   "source": [
    "total_loss = 0.0\n",
    "total_acc = 0.0\n",
    "sum_sl = 0\n",
    "gen = get_batch(test_data, 128, False)\n",
    "for em, _, ner, sl in gen:\n",
    "    l, a = session.run([loss, acc], feed_dict={\n",
    "        x: em, y: ner, seq_len: sl, drop_i: 0.0, drop_o: 0.0\n",
    "    })\n",
    "    total_acc += a * sum(sl)\n",
    "    total_loss += l * sum(sl)\n",
    "    sum_sl += sum(sl)\n",
    "    print('Loss {}, acc {}'.format(l, a))\n",
    "print('Total loss {}, total acc {}'.format(total_loss / sum_sl, total_acc / sum_sl))"
   ]
  },
  {
   "cell_type": "code",
   "execution_count": null,
   "metadata": {},
   "outputs": [],
   "source": [
    "saver = tf.train.Saver(tf.global_variables())\n",
    "saver.save(session, './ner_tagger_2.cpkt', global_step=s)"
   ]
  },
  {
   "cell_type": "code",
   "execution_count": null,
   "metadata": {},
   "outputs": [],
   "source": []
  }
 ],
 "metadata": {
  "kernelspec": {
   "display_name": "Python 3",
   "language": "python",
   "name": "python3"
  },
  "language_info": {
   "codemirror_mode": {
    "name": "ipython",
    "version": 3
   },
   "file_extension": ".py",
   "mimetype": "text/x-python",
   "name": "python",
   "nbconvert_exporter": "python",
   "pygments_lexer": "ipython3",
   "version": "3.6.6"
  }
 },
 "nbformat": 4,
 "nbformat_minor": 2
}
