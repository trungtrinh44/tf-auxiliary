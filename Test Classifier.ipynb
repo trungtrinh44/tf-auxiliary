{
 "cells": [
  {
   "cell_type": "code",
   "execution_count": 1,
   "metadata": {},
   "outputs": [],
   "source": [
    "import tensorflow as tf\n",
    "from elmo import elmo_embedding\n",
    "import numpy as np\n",
    "import os\n",
    "from tqdm import tqdm\n",
    "import json\n",
    "from model_v2 import LanguageModel\n",
    "import unicodedata\n",
    "import re"
   ]
  },
  {
   "cell_type": "code",
   "execution_count": 2,
   "metadata": {},
   "outputs": [],
   "source": [
    "with open('baomoi_punc/word2idx.json', 'r') as inp:\n",
    "    word2idx = json.load(inp)\n",
    "with open('baomoi_punc/char2idx.json', 'r') as inp:\n",
    "    char2idx = json.load(inp)\n",
    "class2idx = {\n",
    "    'fashion': 0,\n",
    "    'technology': 1,\n",
    "    'music': 2,\n",
    "    'lifestyle': 3,\n",
    "    'travel': 4\n",
    "}\n",
    "idx2class = {\n",
    "    v: k for k, v in class2idx.items()\n",
    "}"
   ]
  },
  {
   "cell_type": "code",
   "execution_count": 3,
   "metadata": {},
   "outputs": [],
   "source": [
    "def cnn(inputs, labels, seq_lens, k_size, n_filters, n_classes, n_layers, n_units, dropout, l2_coef=1e-3, name='classifier', is_training=True, reuse=False):\n",
    "    with tf.variable_scope(name, reuse=reuse):\n",
    "        outputs = []\n",
    "        mask = tf.sequence_mask(seq_lens, dtype=tf.float32)\n",
    "        mask\n",
    "        for ksz, nf in zip(k_size, n_filters):\n",
    "            output = tf.layers.conv1d(inputs,\n",
    "                                      nf, \n",
    "                                      ksz, \n",
    "                                      padding='same',\n",
    "                                      kernel_initializer=tf.glorot_uniform_initializer(), \n",
    "                                      bias_initializer=tf.zeros_initializer(), \n",
    "                                      kernel_regularizer=tf.contrib.layers.l2_regularizer(scale=l2_coef))\n",
    "            if is_training:\n",
    "                output = tf.nn.dropout(output, 1-dropout, noise_shape=(1, 1, nf))\n",
    "            output = tf.reduce_max(output, axis=1)\n",
    "            outputs.append(output)\n",
    "        outputs = tf.concat(outputs, axis=-1)\n",
    "        for i in range(n_layers):\n",
    "            W = tf.get_variable(name='W_{}'.format(i), shape=(outputs.shape[-1], n_units), trainable=True, initializer=tf.glorot_uniform_initializer(), regularizer=tf.contrib.layers.l2_regularizer(scale=l2_coef))\n",
    "            b = tf.get_variable(name='b_{}'.format(i), shape=(n_units,), trainable=True, initializer=tf.zeros_initializer())\n",
    "            outputs = tf.nn.xw_plus_b(outputs, W, b, name='dense_{}'.format(i))\n",
    "            if is_training:\n",
    "                outputs = tf.nn.dropout(outputs, keep_prob=1.0-dropout)\n",
    "        W = tf.get_variable(name='W_out', shape=(outputs.shape[-1], n_classes), trainable=True, initializer=tf.glorot_uniform_initializer())\n",
    "        b = tf.get_variable(name='b_out', shape=(n_classes,), trainable=True, initializer=tf.zeros_initializer())\n",
    "        outputs = tf.nn.xw_plus_b(outputs, W, b, name='dense_out')\n",
    "        pred = tf.argmax(outputs, axis=-1, name='predict', output_type=tf.int32)\n",
    "        if is_training:\n",
    "            loss = tf.reduce_mean(tf.nn.sparse_softmax_cross_entropy_with_logits(labels=labels, logits=outputs))\n",
    "            acc = tf.reduce_sum(tf.to_float(tf.equal(pred, labels))) / tf.to_float(tf.shape(inputs)[0])\n",
    "            return outputs, pred, loss, acc\n",
    "        else:\n",
    "            prob = tf.nn.softmax(outputs, axis=-1)\n",
    "            return outputs, pred, prob"
   ]
  },
  {
   "cell_type": "code",
   "execution_count": 4,
   "metadata": {},
   "outputs": [],
   "source": [
    "tf.reset_default_graph()\n",
    "config = tf.ConfigProto()\n",
    "config.gpu_options.allow_growth = True\n",
    "session = tf.Session(config=config)\n",
    "x = tf.placeholder(dtype=tf.float32, shape=(None, None, 1024, 4), name='x')\n",
    "y = tf.placeholder(dtype=tf.int32, shape=(None,), name='y')\n",
    "seq_len = tf.placeholder(dtype=tf.int32, shape=(None,), name='seq_len')\n",
    "drop = tf.placeholder(dtype=tf.float32, shape=(), name='drop')\n",
    "elmo, elmo_l2_reg = elmo_embedding(x, seq_len, layer_norm=False, l2_coef=1e-3)\n",
    "outputs, pred, prob = cnn(elmo, y, seq_len, (3, 4, 5), (128, 128, 128), 5, 2, 256, drop, 1e-3, name='classifier', is_training=False)\n",
    "session.run(tf.global_variables_initializer())\n",
    "class_saver = tf.train.Saver(tf.global_variables())"
   ]
  },
  {
   "cell_type": "code",
   "execution_count": 5,
   "metadata": {},
   "outputs": [
    {
     "name": "stdout",
     "output_type": "stream",
     "text": [
      "INFO:tensorflow:Restoring parameters from 15/checkpoints/test/model.cpkt-315616\n",
      "INFO:tensorflow:Restoring parameters from classify data/12/classifier.cpkt-1960\n"
     ]
    }
   ],
   "source": [
    "with open('15/checkpoints/model_configs.json', 'r') as inp:\n",
    "    params = json.load(inp)\n",
    "\n",
    "lm_model = LanguageModel(**params, is_training=False, is_encoding=True)\n",
    "\n",
    "lm_model.build_model()\n",
    "lm_saver = tf.train.Saver([x for x in tf.get_collection(tf.GraphKeys.GLOBAL_VARIABLES, 'LanguageModel') if x not in tf.get_collection('LSTM_SAVED_STATE')])\n",
    "session.run(tf.global_variables_initializer())\n",
    "lm_saver.restore(session, '15/checkpoints/test/model.cpkt-315616')\n",
    "class_saver.restore(session, 'classify data/12/classifier.cpkt-1960')"
   ]
  },
  {
   "cell_type": "code",
   "execution_count": 6,
   "metadata": {},
   "outputs": [],
   "source": [
    "def clean_text(x):\n",
    "    x = str(unicodedata.normalize('NFKC', x.lower().strip()))\n",
    "    return re.sub('\\d+','N', re.sub('[ ]+',' ', re.sub('[\\n\\r][ \\n\\r]*',' L ', re.sub(r'(?P<punc>\\W)',' \\g<punc> ', x))))\n",
    "\n",
    "def pad_sequence(words):\n",
    "    maxlen = max(len(x) for x in words)\n",
    "    arr = np.zeros(shape=(len(words), 1, maxlen))\n",
    "    for ir in range(len(arr)):\n",
    "        s = words[ir]\n",
    "        arr[ir][0][:len(s)] = s\n",
    "    return arr\n",
    "\n",
    "def __embed_sequence(sentence):\n",
    "    unk_char_idx = char2idx['U']\n",
    "    sentence = [[char2idx.get(x, unk_char_idx) for x in word] for word in sentence]\n",
    "    seq_len = len(sentence)\n",
    "    inputs = pad_sequence(sentence)\n",
    "    embeddings = session.run(lm_model.concated_timewise_output, feed_dict={\n",
    "        lm_model.inputs: inputs, lm_model.seq_lens: [seq_len], lm_model.reset_state: True\n",
    "    })\n",
    "    return embeddings\n",
    "def embed_sentence(sentence):\n",
    "#     sentence = clean_text(sentence).split()\n",
    "    return __embed_sequence(sentence)"
   ]
  },
  {
   "cell_type": "code",
   "execution_count": 7,
   "metadata": {},
   "outputs": [],
   "source": [
    "def classify_text(sentence):\n",
    "    sentence = clean_text(sentence).split()\n",
    "    em = np.transpose(embed_sentence(sentence), (1, 0, 2, 3))\n",
    "    pr = session.run(prob, feed_dict={\n",
    "        x: em, seq_len: [len(em[0])], drop: 0.0\n",
    "    })\n",
    "    return {k: p for k, p in zip(class2idx, pr[0])}"
   ]
  },
  {
   "cell_type": "code",
   "execution_count": 8,
   "metadata": {},
   "outputs": [
    {
     "data": {
      "text/plain": [
       "{'fashion': 0.00036384078,\n",
       " 'technology': 7.625535e-07,\n",
       " 'music': 1.792387e-07,\n",
       " 'lifestyle': 0.5603025,\n",
       " 'travel': 0.43933263}"
      ]
     },
     "execution_count": 8,
     "metadata": {},
     "output_type": "execute_result"
    }
   ],
   "source": [
    "classify_text(\"\"\"Hôm nay Rb rất vui vì nhận đc giỏ quà xinh xắn nè: vòng Nguyệt Quế, chai dầu Ô Liu, mô hình tòa nhà truyền thống Hy Lạp, chiếc muỗng gỗ dễ thương, thông điệp đáng yêu và đặc biệt là món sữa chua phong cách Hy Lạp danh tiếng.\n",
    "\n",
    "Cảm ơn Vinamilk rất nhiều về món quà dễ thương đậm chất \"Hy Lạp\" này nhé. Trải nghiệm đầu tiên của Rb sau khi nhâm nhi sữa chua Vinamilk Greek Yoghurt Style là độ sánh mịn đặc trưng kèm hương vị trái cây rất thơm ngon. Hơn nữa, sản phẩm này chứa gấp đôi protein và giảm 50% béo giúp cân bằng dinh dưỡng một cách tự nhiên, giúp cho da đẹp và dáng xinh mỗi ngày nèee.\n",
    "\n",
    "Đợt nghỉ lễ sắp tới, cả nhà có thể bổ sung Vinamilk Greek Yoghurt Style vào thực đơn tráng miệng hoặc danh sách các món ăn xế nhé. Vừa ngon lại tốt cho sức khỏe mà không cần lo tăng cân nữa nhaaaa <3\n",
    "\n",
    "#SữachuaHyLạp #VinamilkGreekYoghurt #Vinamilk #BíquyếtkhỏeđẹptừHyLạp #Bíquyếtkhỏeđẹphiệnđại #BữaXếThầnThánh\"\"\")"
   ]
  },
  {
   "cell_type": "code",
   "execution_count": 9,
   "metadata": {},
   "outputs": [
    {
     "data": {
      "text/plain": [
       "{'fashion': 0.00026679866,\n",
       " 'technology': 0.094306804,\n",
       " 'music': 0.09219778,\n",
       " 'lifestyle': 0.57952005,\n",
       " 'travel': 0.23370853}"
      ]
     },
     "execution_count": 9,
     "metadata": {},
     "output_type": "execute_result"
    }
   ],
   "source": [
    "classify_text(\"Bánh bèo nhập\")"
   ]
  },
  {
   "cell_type": "code",
   "execution_count": 10,
   "metadata": {},
   "outputs": [
    {
     "data": {
      "text/plain": [
       "{'fashion': 0.42557693,\n",
       " 'technology': 0.0071761818,\n",
       " 'music': 0.44346178,\n",
       " 'lifestyle': 0.10953595,\n",
       " 'travel': 0.014249128}"
      ]
     },
     "execution_count": 10,
     "metadata": {},
     "output_type": "execute_result"
    }
   ],
   "source": [
    "classify_text(\"Phó Hằng, ka - ji - maaaaaaaaa :((((((\")"
   ]
  },
  {
   "cell_type": "code",
   "execution_count": 11,
   "metadata": {},
   "outputs": [
    {
     "data": {
      "text/plain": [
       "{'fashion': 0.0034559632,\n",
       " 'technology': 0.15520361,\n",
       " 'music': 0.016786214,\n",
       " 'lifestyle': 0.0010387475,\n",
       " 'travel': 0.8235155}"
      ]
     },
     "execution_count": 11,
     "metadata": {},
     "output_type": "execute_result"
    }
   ],
   "source": [
    "classify_text(\"Quán cf bất ổn trở lại rồi nèeeeee!!!\")"
   ]
  },
  {
   "cell_type": "code",
   "execution_count": 12,
   "metadata": {},
   "outputs": [
    {
     "data": {
      "text/plain": [
       "{'fashion': 5.3068256e-06,\n",
       " 'technology': 0.81009513,\n",
       " 'music': 0.0016731316,\n",
       " 'lifestyle': 0.0012341929,\n",
       " 'travel': 0.18699224}"
      ]
     },
     "execution_count": 12,
     "metadata": {},
     "output_type": "execute_result"
    }
   ],
   "source": [
    "classify_text(\"\"\"Hôm qua ráng thức canh sale flash day 0h của Lazada mà loay hoay sao ngủ quên để lỡ mất.\n",
    "\n",
    "Nay canh me 10h vào, trễ hơn người khác một xíu mà thấy deal đã vơi đi một nửa rồi.\n",
    "\n",
    "Thôi lại đợi tới 20h để ráng hốt đợt cuối vậyyyyyy.\n",
    "\n",
    "Từ giờ tới hết ngày vẫn còn sale đồng giá nhiều lắm, Rb thấy có cả máy tính bảng lenovo ideapad, đồng hồ wellington, tai nghe Beats,...\n",
    "\n",
    "Bạn nào bị lỡ đợt sale trước thì tham khảo link bên dưới và canh giờ mua cho mình những sản phẩm mình thích với giá rẻ nhaaaaa ❤\n",
    "\n",
    "👉🏻 http://bit.ly/8-8LZD\"\"\")"
   ]
  },
  {
   "cell_type": "code",
   "execution_count": 13,
   "metadata": {},
   "outputs": [
    {
     "data": {
      "text/plain": [
       "{'fashion': 0.0006011887,\n",
       " 'technology': 0.01154514,\n",
       " 'music': 0.0038009107,\n",
       " 'lifestyle': 0.0004980784,\n",
       " 'travel': 0.98355466}"
      ]
     },
     "execution_count": 13,
     "metadata": {},
     "output_type": "execute_result"
    }
   ],
   "source": [
    "classify_text(\"\"\"Vòng vòngg\"\"\")"
   ]
  },
  {
   "cell_type": "code",
   "execution_count": 14,
   "metadata": {},
   "outputs": [
    {
     "data": {
      "text/plain": [
       "{'fashion': 5.6284647e-05,\n",
       " 'technology': 0.0631349,\n",
       " 'music': 0.044590887,\n",
       " 'lifestyle': 0.8834693,\n",
       " 'travel': 0.008748686}"
      ]
     },
     "execution_count": 14,
     "metadata": {},
     "output_type": "execute_result"
    }
   ],
   "source": [
    "classify_text('Mình bắt chước mèo kêu ko anh???')"
   ]
  },
  {
   "cell_type": "code",
   "execution_count": 15,
   "metadata": {},
   "outputs": [
    {
     "data": {
      "text/plain": [
       "{'fashion': 1.7280232e-05,\n",
       " 'technology': 0.00876589,\n",
       " 'music': 2.3415252e-05,\n",
       " 'lifestyle': 0.98334956,\n",
       " 'travel': 0.0078438725}"
      ]
     },
     "execution_count": 15,
     "metadata": {},
     "output_type": "execute_result"
    }
   ],
   "source": [
    "classify_text(\"\"\"Tới giờ Ribi mới biết là trái sơ ri rẻ vậy thôi mà có chứa nhiều dưỡng chất lắm nha, có nhiều vitamin A, C, dưỡng chất đầy đủ, chống oxy hóa khiến da đẹp, không bị lão hoá và đi kèm rất nhiều lợi ích khác. Ăn sơ ri ngọt ngọt chua chua chấm muối nữa là đúng bài luôn :))\n",
    "\n",
    "Bữa giờ đi quay, chụp liên tục, đang mệt tự nhiên được mua cho chai nước sơ ri siêu ngon, bạn ấy còn kêu nước này \"thần thánh\" lắm vì có chất Glutathione dưỡng sáng da từ bên trong nữa.\n",
    "\n",
    "Mọi người muốn mua thì hỏi Kirin Ice+ Beauti, chai màu hồng dễ thương Ribi đang cầm trong hình đó. Uống sau khi ăn sáng hoặc ăn trưa để hấp thu tốt hơn, bổ sung nước và dưỡng chất cho da nha.\n",
    "\n",
    "Đặc biệt vào ngày 02/08, Ribi được bên Kirin mời tham gia dự sự kiện ra mắt sản phẩm này ở Novotel Saigon, nên Ribi ưu ái dành tặng 20 suất cho 20 bạn may mắn đi cùng Ribi đến sự kiện và tận hưởng sản phẩm tuyệt vời này nha.\n",
    "\n",
    "Đây là link tham gia nè: https://goo.gl/forms/7IILsh1kPUGWrKqz2. Form này sẽ đóng vào\n",
    "cuối ngày 29 nhé.\n",
    "\n",
    "Đúng ngày 30/7, những bạn may mắn sẽ được nhận email thông báo kết quả và hướng dẫn chi tiết để tham gia sự kiện nha.\n",
    "Nhanh tay đăng kí nha mấy bạn\"\"\")"
   ]
  },
  {
   "cell_type": "code",
   "execution_count": 16,
   "metadata": {},
   "outputs": [
    {
     "data": {
      "text/plain": [
       "{'fashion': 0.9854525,\n",
       " 'technology': 3.303245e-07,\n",
       " 'music': 0.00010304647,\n",
       " 'lifestyle': 0.00025467935,\n",
       " 'travel': 0.014189452}"
      ]
     },
     "execution_count": 16,
     "metadata": {},
     "output_type": "execute_result"
    }
   ],
   "source": [
    "classify_text(\"\"\"Có ai mua đầm ở JM chưa nè??? Hãng thời trang chuyên về đầm thiết kế sẽ chính thức khai trương cơ sở thứ 15 tại quận 7 nè, mọi người tranh thủ ghé qua shopping nha, có nhiều đầm đẹp lắmmmm.\n",
    "\n",
    "17h30 chiều mai (14/7/2018) tại JM - 320 Nguyễn Thị Thập, phường Tân Quy, quận 7 nhé mọi người.\n",
    "\n",
    "Đến sớm sớm chút xíu để giao lưu cùng Rb và nhận thật nhiều ƯU ĐÃI từ JM các bạn nha ❤\n",
    "\n",
    "#damthietkeJM\"\"\")"
   ]
  },
  {
   "cell_type": "code",
   "execution_count": 17,
   "metadata": {},
   "outputs": [
    {
     "data": {
      "text/plain": [
       "{'fashion': 0.0026618436,\n",
       " 'technology': 0.7234123,\n",
       " 'music': 0.15934226,\n",
       " 'lifestyle': 0.05093748,\n",
       " 'travel': 0.06364623}"
      ]
     },
     "execution_count": 17,
     "metadata": {},
     "output_type": "execute_result"
    }
   ],
   "source": [
    "classify_text(\"\"\"Nghìn năm hội ngộ :v\"\"\")"
   ]
  },
  {
   "cell_type": "code",
   "execution_count": 18,
   "metadata": {},
   "outputs": [
    {
     "data": {
      "text/plain": [
       "{'fashion': 0.017974585,\n",
       " 'technology': 0.7119603,\n",
       " 'music': 0.075174615,\n",
       " 'lifestyle': 0.0068301233,\n",
       " 'travel': 0.18806046}"
      ]
     },
     "execution_count": 18,
     "metadata": {},
     "output_type": "execute_result"
    }
   ],
   "source": [
    "classify_text(\"Vì phía trước hai ta sẽ còn đoạn đường rất dài !\")"
   ]
  },
  {
   "cell_type": "code",
   "execution_count": 19,
   "metadata": {},
   "outputs": [
    {
     "data": {
      "text/plain": [
       "{'fashion': 0.0006057551,\n",
       " 'technology': 0.87591195,\n",
       " 'music': 0.101348825,\n",
       " 'lifestyle': 0.000115391456,\n",
       " 'travel': 0.02201808}"
      ]
     },
     "execution_count": 19,
     "metadata": {},
     "output_type": "execute_result"
    }
   ],
   "source": [
    "classify_text(\"Quyen Le giỏi quá Q, bản lĩnh lắmmmmm, chúc mừng e và các đồng đội nha :*\")"
   ]
  },
  {
   "cell_type": "code",
   "execution_count": 20,
   "metadata": {},
   "outputs": [
    {
     "data": {
      "text/plain": [
       "{'fashion': 0.55040735,\n",
       " 'technology': 0.011474007,\n",
       " 'music': 0.10431931,\n",
       " 'lifestyle': 0.09591513,\n",
       " 'travel': 0.23788427}"
      ]
     },
     "execution_count": 20,
     "metadata": {},
     "output_type": "execute_result"
    }
   ],
   "source": [
    "classify_text(\"❤ cảm ơn mọi người ! <3\")"
   ]
  },
  {
   "cell_type": "code",
   "execution_count": 21,
   "metadata": {},
   "outputs": [
    {
     "data": {
      "text/plain": [
       "{'fashion': 1.2542271e-05,\n",
       " 'technology': 0.9948147,\n",
       " 'music': 0.0035700693,\n",
       " 'lifestyle': 2.2032264e-05,\n",
       " 'travel': 0.0015805265}"
      ]
     },
     "execution_count": 21,
     "metadata": {},
     "output_type": "execute_result"
    }
   ],
   "source": [
    "classify_text(\"Trailer ss5 nha các bạn trẻ :*\")"
   ]
  },
  {
   "cell_type": "code",
   "execution_count": 22,
   "metadata": {},
   "outputs": [
    {
     "data": {
      "text/plain": [
       "{'fashion': 0.017381525,\n",
       " 'technology': 0.009179166,\n",
       " 'music': 2.7035716e-05,\n",
       " 'lifestyle': 0.5734099,\n",
       " 'travel': 0.40000236}"
      ]
     },
     "execution_count": 22,
     "metadata": {},
     "output_type": "execute_result"
    }
   ],
   "source": [
    "classify_text(\"\"\"Mấy bữa trước thấy bạn bè rần rần mua giày ở Sablanca nên nay được nghỉ cũng tranh thủ ra cửa hàng mua nè.\n",
    "Hên sao đi mua trúng đợt offer 40% của cửa hàng nữa, mê quá nên tậu liền mấy đôi về luôn :))\n",
    "\n",
    "Giày ở đây giá cả hợp lý, vừa túi tiền của mọi người nè, mẫu mã cũng đa dạng nữa, ngoài ra còn có nhiều mẫu túi xách xinh xinh cho các bạn thoải mái lựa chọn nhen.\n",
    "\n",
    "Bạn nào đang phân vân chưa biết lựa giày ở đâu thì cứ ghé thử nha, biết đâu tìm đc đôi giày phù hợp cho mình nè 😁\n",
    "\n",
    "Thông tin chi tiết về đợt OFFER 40% các bạn xem tại đây nhaa\n",
    "👉🏻 https://www.facebook.com/Sablanca.vn/ nhaaaaaaaa\"\"\")"
   ]
  },
  {
   "cell_type": "code",
   "execution_count": 23,
   "metadata": {},
   "outputs": [
    {
     "data": {
      "text/plain": [
       "{'fashion': 5.1378515e-07,\n",
       " 'technology': 3.79505e-07,\n",
       " 'music': 2.8193603e-10,\n",
       " 'lifestyle': 0.99999905,\n",
       " 'travel': 1.4747675e-07}"
      ]
     },
     "execution_count": 23,
     "metadata": {},
     "output_type": "execute_result"
    }
   ],
   "source": [
    "classify_text(\"\"\"Bạn nào là tín đồ làm đẹp chắc chắn biết sữa ong chúa rất tốt cho da đúng ko?\n",
    "Được hôm đi siêu thị tìm được bộ sữa tắm và lotion này của Purité, có thành phần chứa tinh chất sữa ong chúa dưỡng trắng da toàn thân luôn, nhìn thấy mê quá nên Rb quyết định rinh ngay cả bộ về 😂\n",
    "\n",
    "Đầu tiên là hơi bất ngờ với khả năng dưỡng trắng của em í, da k trắng liền mà rất tự nhiên, lên tone từ từ nè, da trắng rất tự nhiên chứ không phải kiểu trắng bệch nha. Rb có đọc được là nhờ thành phần sữa ong chúa tự nhiên rất giàu vitamin giúp kích thích quá trình thay da nên rất an toàn nhen. Đây cũng là cơ chế dưỡng trắng tự nhiên mà Rb vừa tìm hiểu được.\n",
    "\n",
    "Thứ hai là ai đã dùng sản phẩm của dòng này rồi đều phải công nhận hương thơm rất dễ chịu, nhẹ nhàng, tinh tế đúng k? Nếu dùng kèm với em lotion cùng bộ nữa thì hiệu quả dưỡng trắng tăng gấp đôi và không cần dùng thêm nước hoa nữa luôn đó.\n",
    "\n",
    "Lotion này không bị nhờn rít, thoa tới đâu thấm tới đó, rất thích hợp cho mùa hè năng động nèeee.\n",
    "\n",
    "Vừa trắng tự nhiên an toàn, vừa thơm tinh tế, chắc chắn sẽ là sự lựa chọn phù hợp cho các bạn gái tụi mình đó ☺️ 😉\n",
    "\n",
    "Các bạn có thể tìm hiểu kĩ sản phẩm hơn ở link dưới nhaaa\n",
    "👉🏻 bit.ly/RS-PuriteWhitening\"\"\")"
   ]
  },
  {
   "cell_type": "code",
   "execution_count": 24,
   "metadata": {},
   "outputs": [
    {
     "data": {
      "text/plain": [
       "{'fashion': 4.3344113e-05,\n",
       " 'technology': 0.57065797,\n",
       " 'music': 0.418213,\n",
       " 'lifestyle': 3.7746738e-06,\n",
       " 'travel': 0.011081896}"
      ]
     },
     "execution_count": 24,
     "metadata": {},
     "output_type": "execute_result"
    }
   ],
   "source": [
    "classify_text(\"Vẫn đang quay khuyaaa nèe\")"
   ]
  },
  {
   "cell_type": "code",
   "execution_count": 25,
   "metadata": {},
   "outputs": [
    {
     "data": {
      "text/plain": [
       "{'fashion': 0.0018696897,\n",
       " 'technology': 0.6213504,\n",
       " 'music': 0.34524873,\n",
       " 'lifestyle': 0.02408247,\n",
       " 'travel': 0.0074486285}"
      ]
     },
     "execution_count": 25,
     "metadata": {},
     "output_type": "execute_result"
    }
   ],
   "source": [
    "classify_text(\"Nhiễm phim phải nhập vai vào phim luôn mới trất'ss nhé =)))))))\")"
   ]
  },
  {
   "cell_type": "code",
   "execution_count": 26,
   "metadata": {},
   "outputs": [
    {
     "data": {
      "text/plain": [
       "{'fashion': 5.744237e-08,\n",
       " 'technology': 1.9635233e-06,\n",
       " 'music': 8.4623827e-07,\n",
       " 'lifestyle': 0.9999598,\n",
       " 'travel': 3.7258942e-05}"
      ]
     },
     "execution_count": 26,
     "metadata": {},
     "output_type": "execute_result"
    }
   ],
   "source": [
    "classify_text(\"\"\"Như trong bài chia sẻ trước của Rb, nước gạo Morning Rice rất tốt cho sức khoẻ chúng ta rồi đúng không?\n",
    "Morning Rice là sản phẩm được làm từ gạo, và nguyên liệu gạo xuất xứ 100% từ Hàn Quốc, sản phẩm cũng bán chạy nhất tại Hàn , lại có vị thơm, ngọt dịu mà không bị ngấy.\n",
    "\n",
    "Rb thường uống Morning Rice khi đi quay, hay bất cứ khi nào thèm 1 một món nước nào ngọt ngọt, đặc biệt nếu các bạn uống Morning Rice vào buổi sáng cực kỳ tốt luôn, không những cung cấp đủ nước cho cả một ngày dài mà còn tốt cho sức khoẻ, giúp sảng khoái tinh thần cho 1 ngày mới.\n",
    "\n",
    "Bạn nào đã sử dụng sản phẩm này thường xuyên và thấy hiệu quả rồi thì cùng chia sẻ cùng Rb cho các bạn chưa dùng nha 😀\"\"\")"
   ]
  },
  {
   "cell_type": "code",
   "execution_count": 27,
   "metadata": {},
   "outputs": [
    {
     "data": {
      "text/plain": [
       "{'fashion': 0.0028528257,\n",
       " 'technology': 0.86728126,\n",
       " 'music': 0.04706661,\n",
       " 'lifestyle': 0.021103393,\n",
       " 'travel': 0.061695933}"
      ]
     },
     "execution_count": 27,
     "metadata": {},
     "output_type": "execute_result"
    }
   ],
   "source": [
    "classify_text(\"\"\"Lâu lắm mới đc chụp chân dung :))\"\"\")"
   ]
  },
  {
   "cell_type": "code",
   "execution_count": 28,
   "metadata": {},
   "outputs": [
    {
     "data": {
      "text/plain": [
       "{'fashion': 6.6393713e-09,\n",
       " 'technology': 0.99877745,\n",
       " 'music': 0.0012156122,\n",
       " 'lifestyle': 1.5217615e-06,\n",
       " 'travel': 5.4059547e-06}"
      ]
     },
     "execution_count": 28,
     "metadata": {},
     "output_type": "execute_result"
    }
   ],
   "source": [
    "classify_text(\"\"\"Đlq nhưng phiên bản mở rộng của Global Warming của con Pit sẽ được ra mắt vào 25/11 năm nay bổ sung 1 số bài mới trong đó có Timber feat Flop-sa. \n",
    "\n",
    "Cover chính thức nhé, cứ tựa tựa như mụ Nicki với cái Era Pink Friday 8-}\"\"\")"
   ]
  },
  {
   "cell_type": "code",
   "execution_count": 29,
   "metadata": {},
   "outputs": [
    {
     "data": {
      "text/plain": [
       "{'fashion': 0.07306688,\n",
       " 'technology': 0.0027055887,\n",
       " 'music': 0.57545847,\n",
       " 'lifestyle': 0.0005227887,\n",
       " 'travel': 0.34824622}"
      ]
     },
     "execution_count": 29,
     "metadata": {},
     "output_type": "execute_result"
    }
   ],
   "source": [
    "classify_text(\"\"\"Sinh nhật năm nay thực sự quá hạnh phúc, nhận được rất nhiều lời chúc của gia đình, Faptv, bạn bè, rất nhiều tình cảm từ những người xa lạ,..\n",
    "Cảm ơn tất cả các bạn đã chúc sn và gây rất nhiều bất ngờ cho Rb nha, xúc động lắm lắmmm.\n",
    "Có nhiều tin nhắn quá Rb k cảm ơn hết từng người được nên cảm ơn các bạn tại stt này nha.\n",
    "Hy vọng những năm về sau nữa chúng ta vẫn mãi bên nhau thế này ❤\n",
    "\n",
    "P/s: Đây là nhóm bạn kim cương 10 năm tổ chức sn cho mình \"\"\")"
   ]
  },
  {
   "cell_type": "code",
   "execution_count": 30,
   "metadata": {},
   "outputs": [
    {
     "data": {
      "text/plain": [
       "{'fashion': 0.3468721,\n",
       " 'technology': 0.014884135,\n",
       " 'music': 0.48088226,\n",
       " 'lifestyle': 0.14248663,\n",
       " 'travel': 0.014874797}"
      ]
     },
     "execution_count": 30,
     "metadata": {},
     "output_type": "execute_result"
    }
   ],
   "source": [
    "classify_text(\"Chỉ muốn nói là hôm nay quá nhiều bất ngờ và hạnh phúc. Một ngày tuyệt đẹp <3\")"
   ]
  },
  {
   "cell_type": "code",
   "execution_count": 31,
   "metadata": {},
   "outputs": [
    {
     "data": {
      "text/plain": [
       "{'fashion': 0.03522759,\n",
       " 'technology': 0.20556141,\n",
       " 'music': 0.047811918,\n",
       " 'lifestyle': 0.38692945,\n",
       " 'travel': 0.32446963}"
      ]
     },
     "execution_count": 31,
     "metadata": {},
     "output_type": "execute_result"
    }
   ],
   "source": [
    "classify_text(\"Lâu lắm mới cột tóc cao :))\")"
   ]
  },
  {
   "cell_type": "code",
   "execution_count": 32,
   "metadata": {},
   "outputs": [
    {
     "data": {
      "text/plain": [
       "{'fashion': 0.0021324586,\n",
       " 'technology': 0.028690005,\n",
       " 'music': 0.00039155222,\n",
       " 'lifestyle': 0.010334127,\n",
       " 'travel': 0.9584518}"
      ]
     },
     "execution_count": 32,
     "metadata": {},
     "output_type": "execute_result"
    }
   ],
   "source": [
    "classify_text(\"\"\"Lâu lắm mới làm clip nè :))\n",
    "\n",
    "#Sponsored #SpotifyMVP #Spotify #SpotifyNgheLaMe #SpotifyVietnam\"\"\")"
   ]
  },
  {
   "cell_type": "code",
   "execution_count": 33,
   "metadata": {},
   "outputs": [
    {
     "data": {
      "text/plain": [
       "{'fashion': 0.0021030519,\n",
       " 'technology': 0.14405298,\n",
       " 'music': 0.17434731,\n",
       " 'lifestyle': 0.4145741,\n",
       " 'travel': 0.26492256}"
      ]
     },
     "execution_count": 33,
     "metadata": {},
     "output_type": "execute_result"
    }
   ],
   "source": [
    "classify_text(\"\"\"Lâu lắm mới làm clip nè :))\"\"\")"
   ]
  },
  {
   "cell_type": "code",
   "execution_count": 34,
   "metadata": {},
   "outputs": [
    {
     "data": {
      "text/plain": [
       "{'fashion': 1.9522306e-06,\n",
       " 'technology': 0.00015338778,\n",
       " 'music': 3.443241e-07,\n",
       " 'lifestyle': 0.99965286,\n",
       " 'travel': 0.00019136645}"
      ]
     },
     "execution_count": 34,
     "metadata": {},
     "output_type": "execute_result"
    }
   ],
   "source": [
    "classify_text(\"\"\"Vừa được bỏ túi bí kíp chống nắng trong những ngày hè oi bức, vừa có quà, ai thích không nè!\n",
    "\n",
    "Có rất nhiều loại kem chống nắng, nhưng để lựa được loại kem chống nắng phù hợp, không gây nhờn rít và sử dụng phù hợp lại không dễ chút nào. Rb mới biết thêm kem chống nắng Anthelios Dry Touch, nếu bạn nào dùng rồi chắc chắn rất thích đúng k?\n",
    "\n",
    "Rb dùng trước khi ra ngoài hay trước khi make up, apply một lớp kem chống nắng này, sau nhiều giờ hoạt động ngoài trời da không hề bị đổ dầu và bã nhờn nhờ có hoạt chất Airlicium. Bên cạnh đó, nhờ có công nghệ độc quyền XL- Protect giúp chống nắng rất hiệu quả, ngăn chặn được tia UVB, UVA đặc biệt là tia hồng ngoại và ô nhiễm.\n",
    "\n",
    "Ribi còn phát hiện ra La Roche-Posay có hẳn dòng xịt chống nắng Anthelios Mist, khi xịt lên da thì thẩm thấu nhanh và không hề đọng giọt. Và đặc biệt là có thể xịt ngay trên lớp makeup luôn nhé, rất tiện cho công việc của Rb khi phải quay liên tục ngoài trời và k có nhiều thời gian chăm sóc lại lớp chống nắng và make up của mình.\n",
    "\n",
    "Cuối cùng là sau một ngày làm việc thì đừng ai quên phải tẩy trang trước khi đi ngủ nha. Đừng lười mà đi ngủ luôn, mụn sẽ nổi đầy mặt đó. Các bạn hãy dùng 1 miếng bông tẩy trang và cho 1 ít nước tẩy trang Micellar Water Ultra lên và làm sạch da. Với công nghệ cải tiến Glyco Micellar giúp lấy đi bụi bẩn, bã nhờn và lớp trang điểm, giúp làm sạch da sâu vượt trội, nhưng không hề có cảm giác khô căng, da sạch rồi nhennn.\n",
    "\n",
    "Mọi người muốn biết thêm thông tin thì xem tại link đây nha: http://bit.ly/SUN_LZDKOL Đang có ưu đãi khi mua sản phẩm La Roche Posay trên Lazada đó!\n",
    "\n",
    "Bên cạnh đó thì bạn nào muốn có quà thì nhớ nhanh tay like fanpage La Roche-Posay Vietnam và post này của Ribi nha. Sau đó tag tên 3 người bạn thân của mình, Ribi sẽ lựa chọn ngẫu nhiên 5 bạn may mắn nhận được bộ sản phẩm như này nhé ❤\n",
    "\n",
    "#larocheposay #anthelios #baovetoiuu #dakhoedonnang\"\"\")"
   ]
  },
  {
   "cell_type": "code",
   "execution_count": 35,
   "metadata": {},
   "outputs": [
    {
     "data": {
      "text/plain": [
       "{'fashion': 0.002549346,\n",
       " 'technology': 0.0025683732,\n",
       " 'music': 0.00090067496,\n",
       " 'lifestyle': 0.03395762,\n",
       " 'travel': 0.960024}"
      ]
     },
     "execution_count": 35,
     "metadata": {},
     "output_type": "execute_result"
    }
   ],
   "source": [
    "classify_text(\"\"\"Sáng tới giờ chốt đơn cho mấy xị đẹp đi chơi lễ mà con bé cũng háo hức theo😝😝 lễ này mấy xị đi chơi ảnh đẹp thì tặng bé nha, bé nằm nhà chờ tải ảnh đẹp của mấy xị💓💓💓\"\"\")"
   ]
  },
  {
   "cell_type": "code",
   "execution_count": 36,
   "metadata": {},
   "outputs": [
    {
     "data": {
      "text/plain": [
       "{'fashion': 0.0715459,\n",
       " 'technology': 0.41376218,\n",
       " 'music': 0.050756563,\n",
       " 'lifestyle': 0.3171401,\n",
       " 'travel': 0.14679521}"
      ]
     },
     "execution_count": 36,
     "metadata": {},
     "output_type": "execute_result"
    }
   ],
   "source": [
    "classify_text(\"\"\"Hơn 100 đơn hàng mỗi ngày là nhờ vào chất lượng và tình cảm khách hàng tiếng lành đồn xa😜 cảm ơn khách hàng luôn ủng hộ mẹ Joy!!! Sẽ cố gắng trong thời gian sớm nhất thêm 1 chi nhánh nữa để chị em gần hơn với Tóc Giả HMT 🙏🏻\"\"\")"
   ]
  },
  {
   "cell_type": "code",
   "execution_count": 37,
   "metadata": {},
   "outputs": [
    {
     "data": {
      "text/plain": [
       "{'fashion': 0.062238663,\n",
       " 'technology': 0.0080154985,\n",
       " 'music': 0.0016431166,\n",
       " 'lifestyle': 0.9206771,\n",
       " 'travel': 0.0074255844}"
      ]
     },
     "execution_count": 37,
     "metadata": {},
     "output_type": "execute_result"
    }
   ],
   "source": [
    "classify_text(\"\"\"👉🏻A08 vẫn cứ là tuyệt vời nên pr lại cho mấy chị em nhà mình đừng bỏ Quên em ấy😜😜 1 bước xinh lung linh không phải rườm rà gì hết ý💚💚💚\n",
    "5màu: đen, nâu đen, nâu đỏ, nâu vàng, socola\"\"\")"
   ]
  },
  {
   "cell_type": "code",
   "execution_count": 38,
   "metadata": {},
   "outputs": [
    {
     "data": {
      "text/plain": [
       "{'fashion': 0.0029898842,\n",
       " 'technology': 3.7148387e-05,\n",
       " 'music': 0.0011402399,\n",
       " 'lifestyle': 0.99566627,\n",
       " 'travel': 0.00016646052}"
      ]
     },
     "execution_count": 38,
     "metadata": {},
     "output_type": "execute_result"
    }
   ],
   "source": [
    "classify_text(\"\"\"Là cô gái hay mộng mơ😹😹\"\"\")"
   ]
  },
  {
   "cell_type": "code",
   "execution_count": 39,
   "metadata": {},
   "outputs": [
    {
     "data": {
      "text/plain": [
       "{'fashion': 0.017157283,\n",
       " 'technology': 0.8745693,\n",
       " 'music': 0.07380007,\n",
       " 'lifestyle': 0.025712987,\n",
       " 'travel': 0.008760272}"
      ]
     },
     "execution_count": 39,
     "metadata": {},
     "output_type": "execute_result"
    }
   ],
   "source": [
    "classify_text(\"\"\"Không có việc gì khó, chỉ sợ lòng không bền\"\"\")"
   ]
  },
  {
   "cell_type": "code",
   "execution_count": 40,
   "metadata": {},
   "outputs": [
    {
     "data": {
      "text/plain": [
       "{'fashion': 2.5013337e-06,\n",
       " 'technology': 0.9803263,\n",
       " 'music': 8.165938e-06,\n",
       " 'lifestyle': 0.00016041716,\n",
       " 'travel': 0.019502576}"
      ]
     },
     "execution_count": 40,
     "metadata": {},
     "output_type": "execute_result"
    }
   ],
   "source": [
    "classify_text(\"\"\"Nếu bạn thích chinh phục những cung đường mạo hiểm thì đây chính là gói bảo hiểm dành cho bạn. Bảo hiểm FWD đang tặng MIỄN PHÍ 100,000 gói bảo hiểm tai nạn cá nhân, bảo hiểm đến. Nhanh tay đăng ký và nhận ngay gói bảo hiểm chỉ trong vòng 3 phút tại\"\"\")"
   ]
  },
  {
   "cell_type": "code",
   "execution_count": null,
   "metadata": {},
   "outputs": [],
   "source": []
  }
 ],
 "metadata": {
  "kernelspec": {
   "display_name": "Python 3",
   "language": "python",
   "name": "python3"
  },
  "language_info": {
   "codemirror_mode": {
    "name": "ipython",
    "version": 3
   },
   "file_extension": ".py",
   "mimetype": "text/x-python",
   "name": "python",
   "nbconvert_exporter": "python",
   "pygments_lexer": "ipython3",
   "version": "3.6.6"
  }
 },
 "nbformat": 4,
 "nbformat_minor": 2
}
