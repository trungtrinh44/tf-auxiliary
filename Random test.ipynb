{
 "cells": [
  {
   "cell_type": "code",
   "execution_count": 1,
   "metadata": {},
   "outputs": [],
   "source": [
    "import tensorflow as tf\n",
    "from tensorflow.contrib.cudnn_rnn import CudnnCompatibleLSTMCell, CudnnLSTM\n",
    "import numpy as np"
   ]
  },
  {
   "cell_type": "code",
   "execution_count": 2,
   "metadata": {},
   "outputs": [],
   "source": [
    "seq_lens = [3, 5, 7]\n",
    "values = tf.constant(np.random.rand(7, 3, 4), dtype=tf.float32)\n",
    "cell = CudnnLSTM(num_layers=1, num_units=2, input_mode='linear_input', direction='unidirectional', dropout=0.0)\n",
    "cell.build((None, None, 7))"
   ]
  },
  {
   "cell_type": "code",
   "execution_count": 3,
   "metadata": {},
   "outputs": [],
   "source": [
    "zeros = tf.zeros((1,3,2))\n",
    "zeros_state = (zeros, zeros)\n",
    "max_val = tf.constant(-1e6, shape=(3, 2))\n",
    "mean_val = tf.constant(0.0, shape=(3, 2))"
   ]
  },
  {
   "cell_type": "code",
   "execution_count": 4,
   "metadata": {},
   "outputs": [],
   "source": [
    "def cond(i, inputs, state, sl, max_val, mean_val, bptt, max_len): return i < max_len\n",
    "def body(i, inputs, state, sl, max_val, mean_val, bptt, max_len):\n",
    "    i_to = tf.minimum(i+bptt, max_len)\n",
    "    slice_inputs = inputs[i:i_to]\n",
    "    outputs, next_state = cell.call(slice_inputs, state)\n",
    "    mask = tf.expand_dims(tf.transpose(tf.sequence_mask(tf.minimum(sl-i, bptt), dtype=tf.float32), (1, 0)), axis=-1)\n",
    "    max_outputs = outputs * mask + (1 - mask) * -1e6\n",
    "    max_val = tf.maximum(max_val, tf.reduce_max(max_outputs, axis=0))\n",
    "    mean_outputs = outputs * mask\n",
    "    mean_val = (mean_val * tf.expand_dims(tf.to_float(tf.minimum(i, sl)), axis=-1) + tf.reduce_sum(mean_outputs, axis=0)) / tf.expand_dims(tf.to_float(tf.minimum(i_to, sl)), axis=-1)\n",
    "    return i_to, inputs, next_state, sl, max_val, mean_val, bptt, max_len"
   ]
  },
  {
   "cell_type": "code",
   "execution_count": 5,
   "metadata": {},
   "outputs": [],
   "source": [
    "_, _, _, _, max_val, mean_val, _, _ = tf.while_loop(cond, body, [0, values, zeros_state, seq_lens, max_val, mean_val, 2, 7])"
   ]
  },
  {
   "cell_type": "code",
   "execution_count": 6,
   "metadata": {},
   "outputs": [
    {
     "data": {
      "text/plain": [
       "<tf.Variable 'cudnn_lstm/opaque_kernel:0' shape=<unknown> dtype=float32_ref>"
      ]
     },
     "execution_count": 6,
     "metadata": {},
     "output_type": "execute_result"
    }
   ],
   "source": [
    "var = cell.variables[0]\n",
    "var"
   ]
  },
  {
   "cell_type": "code",
   "execution_count": 7,
   "metadata": {},
   "outputs": [],
   "source": [
    "grad_max = tf.gradients(max_val, [var])"
   ]
  },
  {
   "cell_type": "code",
   "execution_count": 8,
   "metadata": {},
   "outputs": [],
   "source": [
    "sess=tf.Session()"
   ]
  },
  {
   "cell_type": "code",
   "execution_count": 9,
   "metadata": {},
   "outputs": [],
   "source": [
    "sess.run(tf.global_variables_initializer())"
   ]
  },
  {
   "cell_type": "code",
   "execution_count": 11,
   "metadata": {},
   "outputs": [
    {
     "data": {
      "text/plain": [
       "[array([[0.1769983 , 0.26831168],\n",
       "        [0.148014  , 0.27984455],\n",
       "        [0.20452362, 0.27956623]], dtype=float32),\n",
       " array([[0.1429977 , 0.22149013],\n",
       "        [0.10645799, 0.25378737],\n",
       "        [0.12940875, 0.24346709]], dtype=float32),\n",
       " [array([0.03406822, 0.04981756, 0.06814141, 0.05405072, 0.17690864,\n",
       "         0.13425422, 0.20134673, 0.13496011, 0.04209283, 0.0481848 ,\n",
       "         0.07238872, 0.05868972, 0.10773583, 0.07703532, 0.12508363,\n",
       "         0.10048503, 0.03387313, 0.05545799, 0.07734708, 0.05616804,\n",
       "         0.16275106, 0.14997071, 0.21757352, 0.17776048, 0.07907394,\n",
       "         0.22262707, 0.33526558, 0.26234317, 0.09869855, 0.04255045,\n",
       "         0.12463032, 0.13958623, 0.00915636, 0.01765727, 0.04070983,\n",
       "         0.07395065, 0.01133056, 0.0232649 , 0.03026436, 0.05538224,\n",
       "         0.01023651, 0.01836793, 0.04759242, 0.08308448, 0.04463354,\n",
       "         0.08591186, 0.03678876, 0.06745024, 0.08966027, 0.3397737 ,\n",
       "         0.0954781 , 0.22252406, 0.09837294, 0.36225098, 0.3875872 ,\n",
       "         0.2400611 , 0.08966027, 0.3397737 , 0.0954781 , 0.22252406,\n",
       "         0.09837294, 0.36225098, 0.3875872 , 0.2400611 , 0.        ,\n",
       "         0.        , 0.        , 0.        , 0.        , 0.        ,\n",
       "         0.        , 0.        , 0.        , 0.        , 0.        ,\n",
       "         0.        , 0.        , 0.        , 0.        , 0.        ,\n",
       "         0.        , 0.        , 0.        , 0.        , 0.        ,\n",
       "         0.        , 0.        , 0.        ], dtype=float32)]]"
      ]
     },
     "execution_count": 11,
     "metadata": {},
     "output_type": "execute_result"
    }
   ],
   "source": [
    "sess.run([max_val, mean_val, grad_max])"
   ]
  },
  {
   "cell_type": "code",
   "execution_count": null,
   "metadata": {},
   "outputs": [],
   "source": []
  }
 ],
 "metadata": {
  "kernelspec": {
   "display_name": "Python 3",
   "language": "python",
   "name": "python3"
  },
  "language_info": {
   "codemirror_mode": {
    "name": "ipython",
    "version": 3
   },
   "file_extension": ".py",
   "mimetype": "text/x-python",
   "name": "python",
   "nbconvert_exporter": "python",
   "pygments_lexer": "ipython3",
   "version": "3.6.6"
  }
 },
 "nbformat": 4,
 "nbformat_minor": 2
}
