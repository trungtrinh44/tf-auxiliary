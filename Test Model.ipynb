{
 "cells": [
  {
   "cell_type": "code",
   "execution_count": 1,
   "metadata": {},
   "outputs": [],
   "source": [
    "import tensorflow as tf\n",
    "from model_v2 import LanguageModel\n",
    "import json\n",
    "import numpy as np\n",
    "import re\n",
    "import pandas as pd\n",
    "import unicodedata\n",
    "import numpy as np\n",
    "from utils import pad_sequences, clean_text"
   ]
  },
  {
   "cell_type": "code",
   "execution_count": 2,
   "metadata": {},
   "outputs": [],
   "source": [
    "config = tf.ConfigProto()\n",
    "config.gpu_options.allow_growth = True\n",
    "sess = tf.Session(config=config)"
   ]
  },
  {
   "cell_type": "code",
   "execution_count": 3,
   "metadata": {},
   "outputs": [],
   "source": [
    "with open('102/word2idx.json', 'r') as inp:\n",
    "    word2idx = json.load(inp)\n",
    "with open('102/char2idx.json', 'r') as inp:\n",
    "    char2idx = json.load(inp)\n",
    "idx2word = {k: v for v, k in word2idx.items()}"
   ]
  },
  {
   "cell_type": "code",
   "execution_count": 4,
   "metadata": {},
   "outputs": [],
   "source": [
    "with open('102/checkpoints/model_configs.json', 'r') as inp:\n",
    "    params = json.load(inp)"
   ]
  },
  {
   "cell_type": "code",
   "execution_count": 5,
   "metadata": {},
   "outputs": [],
   "source": [
    "model = LanguageModel(**params, is_training=False)"
   ]
  },
  {
   "cell_type": "code",
   "execution_count": 6,
   "metadata": {},
   "outputs": [],
   "source": [
    "model.build_model()\n",
    "saver = tf.train.Saver([x for x in tf.global_variables() if x not in tf.get_collection('LSTM_SAVED_STATE')])\n",
    "sess.run(tf.global_variables_initializer())"
   ]
  },
  {
   "cell_type": "code",
   "execution_count": 7,
   "metadata": {},
   "outputs": [
    {
     "name": "stdout",
     "output_type": "stream",
     "text": [
      "INFO:tensorflow:Restoring parameters from 102/checkpoints/test/model.cpkt-557539\n"
     ]
    }
   ],
   "source": [
    "saver.restore(sess, '102/checkpoints/test/model.cpkt-557539')"
   ]
  },
  {
   "cell_type": "code",
   "execution_count": 8,
   "metadata": {},
   "outputs": [],
   "source": [
    "def sample(a, temperature=0.7):\n",
    "    a = a / temperature\n",
    "    dist = np.exp(a) / np.sum(np.exp(a))\n",
    "    choices = range(len(a))\n",
    "    return np.random.choice(choices, p=dist)"
   ]
  },
  {
   "cell_type": "code",
   "execution_count": 9,
   "metadata": {},
   "outputs": [],
   "source": [
    "def generate_text(initial_word, gen_len, reverse=False):\n",
    "    init_word = clean_text(initial_word, add_bos=not reverse, add_eos=reverse).split()\n",
    "    seq_lens = [len(init_word)]\n",
    "    inputs = [[char2idx[y] for y in x] for x in init_word]\n",
    "    maxlen = max(len(x) for x in inputs)\n",
    "    arr = np.zeros(shape=(len(inputs), 1, maxlen), dtype=np.int32)\n",
    "    for ir in range(len(inputs)):\n",
    "        s = inputs[ir]\n",
    "        arr[ir][0][:len(s)] = s\n",
    "    inputs = arr\n",
    "    if reverse:\n",
    "        inputs = np.flip(inputs, axis=0)\n",
    "        # Run the first time\n",
    "        output = sess.run(model.bw_model['decoder'], feed_dict={model.bw_inputs: inputs, model.reset_state: True, model.seq_lens: seq_lens})\n",
    "    else:\n",
    "        output = sess.run(model.fw_model['decoder'], feed_dict={model.fw_inputs: inputs, model.reset_state: True, model.seq_lens: seq_lens})\n",
    "    next_idx = sample(output[-1, 0, :])\n",
    "    result = [\n",
    "        idx2word[next_idx]\n",
    "    ]\n",
    "#     stop_token = word2idx['S']\n",
    "    for i in range(1, gen_len):\n",
    "        next_word = result[-1]\n",
    "        inputs = [char2idx[y] for y in next_word]\n",
    "        arr = np.zeros(shape=(1, 1, len(inputs)), dtype=np.int32)\n",
    "        arr[0][0][:] = inputs\n",
    "        inputs = arr\n",
    "        if reverse:\n",
    "            output = sess.run(model.bw_model['decoder'], feed_dict={model.bw_inputs: inputs, model.reset_state: False, model.seq_lens: [1]})\n",
    "        else:\n",
    "            output = sess.run(model.fw_model['decoder'], feed_dict={model.fw_inputs: inputs, model.reset_state: False, model.seq_lens: [1]})\n",
    "        next_idx = sample(output[-1, 0, :])\n",
    "        w = idx2word[next_idx]\n",
    "#         print(w)\n",
    "        result.append(w)\n",
    "#         if next_idx == stop_token:\n",
    "#             break\n",
    "    return ' '.join((init_word[::-1] + result)[::-1]) if reverse else ' '.join(init_word + result)\n",
    "        "
   ]
  },
  {
   "cell_type": "code",
   "execution_count": 10,
   "metadata": {
    "scrolled": true
   },
   "outputs": [
    {
     "name": "stdout",
     "output_type": "stream",
     "text": [
      "tả khoa học đầu tiên năm <number> . _nl_ </S> <S> Tứ kết Wimbledon , Federer vô địch Wimbledon <number> _nl_ Trước thềm giải thứ <number> , Roger Federer ( <number> tuổi ) đã vượt quá số <number> đội của FedEx để tiến tới danh hiệu lần thứ <number> của Nadal với tỷ số <number> - <number> ( <number> - <number> ) . Tuy nhiên , Federer vẫn chiến thắng sau <number> set với tỷ số <number> - <number> ( <number> - <number> ) và để mất break ở ván đấu đầu tiên ( <number> - <number> ) . _nl_ Bước vào vòng <number> Cincinnati Masters , Roger Federer đặt mục tiêu giành một chiến thắng thuyết phục . Bằng chứng là \" Tàu tốc hành \" đã tấn công tay vợt <number> tuổi Gojowczyk hết sức dữ dội . </S>\n",
      "----------------------------------------------------------------------------------------------------\n",
      "<S> Bước vào vòng <number> Cincinnati Masters , Roger Federer đặt mục tiêu giành một chiến thắng thuyết phục . Bằng chứng là \" Tàu tốc hành \" đã tấn công tay vợt <number> tuổi Gojowczyk hết sức dữ dội . Trước khi Federer thắng <number> - <number> , Federer cũng giành chức vô địch khi vượt qua đối thủ hạt giống số <number> người Thụy Sĩ ở vòng <number> . Đăng Phương ( Trung Quốc ) </S> <S> <UNK> <UNK> _nl_ <UNK> <UNK> là một loài bướm đêm thuộc phân họ Arctiinae , họ họ Erebidae . _nl_ </S> <S> <UNK> , Mulbagal _nl_ <UNK> là một làng thuộc tehsil Mulbagal , huyện Kolar , bang Karnataka , Ấn Độ . _nl_ Tham khảo . _nl_ _nl_ </S> <S> <UNK> <UNK> _nl_ <UNK> <UNK> là một loài thực vật có\n"
     ]
    }
   ],
   "source": [
    "print(generate_text('Bước vào vòng 2 Cincinnati Masters, Roger Federer đặt mục tiêu giành một chiến thắng thuyết phục. Bằng chứng là \"Tàu tốc hành\" đã tấn công tay vợt 29 tuổi Gojowczyk hết sức dữ dội.', 100, reverse=True))\n",
    "print('-' * 100)\n",
    "print(generate_text('Bước vào vòng 2 Cincinnati Masters, Roger Federer đặt mục tiêu giành một chiến thắng thuyết phục. Bằng chứng là \"Tàu tốc hành\" đã tấn công tay vợt 29 tuổi Gojowczyk hết sức dữ dội.', 100, reverse=False))"
   ]
  },
  {
   "cell_type": "code",
   "execution_count": 11,
   "metadata": {},
   "outputs": [
    {
     "name": "stdout",
     "output_type": "stream",
     "text": [
      "nhận thấy sự trong sáng của mọi người trong xã hội là rất quan trọng . Tôi rất quan tâm đến kiến thức về văn hóa của người trẻ . Hôm nay tôi ăn cam </S>\n",
      "----------------------------------------------------------------------------------------------------\n",
      "<S> Hôm nay tôi ăn cam lòng ! Nhưng tôi vẫn có được một tấm ảnh đẹp . Tôi chụp ảnh cho cả nhà , từng người từng bu từng món quà mà tôi rất trân\n"
     ]
    }
   ],
   "source": [
    "print(generate_text('Hôm nay tôi ăn cam', 30, reverse=True))\n",
    "print('-' * 100)\n",
    "print(generate_text('Hôm nay tôi ăn cam', 30, reverse=False))"
   ]
  },
  {
   "cell_type": "code",
   "execution_count": 12,
   "metadata": {},
   "outputs": [
    {
     "name": "stdout",
     "output_type": "stream",
     "text": [
      "<S> Bưởi là một trong những lý do giúp đề phòng hiệu quả . Đúng là đã có một bông hoa mới , một loại hoa mà được các bà hoàng khen cho\n"
     ]
    }
   ],
   "source": [
    "print(generate_text('Bưởi là', 30, reverse=False))"
   ]
  },
  {
   "cell_type": "code",
   "execution_count": 13,
   "metadata": {},
   "outputs": [
    {
     "name": "stdout",
     "output_type": "stream",
     "text": [
      "<S> Chuối là một trong những loại cây phổ biến nhất , được chế biến nhất trong các loại cây , đậu , quả . Loại chuối này còn có nhiều loại chất\n"
     ]
    }
   ],
   "source": [
    "print(generate_text('Chuối là', 30, reverse=False))"
   ]
  },
  {
   "cell_type": "code",
   "execution_count": 14,
   "metadata": {},
   "outputs": [
    {
     "name": "stdout",
     "output_type": "stream",
     "text": [
      "<S> Roger Federer , người làng <UNK> , vùng <UNK> <UNK> , thành phố <UNK> , bang Maine , Mỹ , là dân số của làng <UNK> . <UNK> là một khu làng không có điện ảnh , và lại là nơi sinh hoạt của <number> ngàn sinh viên , người dân thành phố New <UNK> . <UNK> <UNK> <UNK> <UNK> <UNK> ( <UNK> <UNK> <UNK> <UNK> <UNK> <UNK> <UNK> <UNK> <UNK> <UNK> <UNK> <UNK> <UNK> <UNK> ) <UNK> <UNK> <UNK> <UNK> <UNK> <UNK> <UNK> <UNK> <UNK> <UNK> <UNK> <UNK> <UNK> <UNK> <UNK> <UNK> <UNK> <UNK> <UNK> <UNK> <UNK> <UNK> <UNK> <UNK> <UNK>\n"
     ]
    }
   ],
   "source": [
    "print(generate_text('Roger Federer', 100, reverse=False))"
   ]
  },
  {
   "cell_type": "code",
   "execution_count": 15,
   "metadata": {},
   "outputs": [
    {
     "data": {
      "text/plain": [
       "'<S> tay vợt người anh andy murray <UNK> , từng tập huấn các kỹ thuật hình ảnh và các cú đại dương ở các sân vận động . Sau <number> tập đầu , chương trình sẽ tiến hành các trận đấu với <number> VĐV dưới tên tuổi Kalashnikov . Tại vòng loại này , ngôi sao <number> tuổi người Nhật Bản đã giúp giành vé dự vòng chung kết sau World Cup <number> . Ở một giải đấu đặc biệt , <UNK> đặt áo vào vòng hai của đội tuyển Nhật Bản và thắng <number> - <number> . Đây là lần đầu tiên đội tuyển VN được'"
      ]
     },
     "execution_count": 15,
     "metadata": {},
     "output_type": "execute_result"
    }
   ],
   "source": [
    "generate_text('tay vợt người anh andy murray', 100)"
   ]
  },
  {
   "cell_type": "code",
   "execution_count": 16,
   "metadata": {},
   "outputs": [
    {
     "data": {
      "text/plain": [
       "'<S> công nghệ blockchain _nl_ Lịch sử . _nl_ <UNK> là một bộ não của một số động vật <UNK> . _nl_ </S> <S> <UNK> _nl_ <UNK> là một làng thuộc huyện Chrudim , vùng Pardubický , Cộng hòa Séc . _nl_ </S> <S> <UNK> _nl_ <UNK> là một đô thị thuộc huyện Dithmarschen , trong bang Schleswig - Holstein , nước Đức . Đô thị <UNK> có diện tích <number> , <number> km² , dân số thời điểm cuối năm <number> là <number> người . _nl_ </S> <S> <UNK> , Syunik _nl_ <UNK> là một xã thuộc huyện Domaniç , tỉnh Malatya ,'"
      ]
     },
     "execution_count": 16,
     "metadata": {},
     "output_type": "execute_result"
    }
   ],
   "source": [
    "generate_text('công nghệ blockchain', 100, False)"
   ]
  },
  {
   "cell_type": "code",
   "execution_count": 17,
   "metadata": {},
   "outputs": [
    {
     "data": {
      "text/plain": [
       "'<S> Sony và những chiếc máy bay của hãng này đã bị xáo trộn mạnh mẽ với các máy bay chiến đấu Anh - Nga của hãng Air . Hãng hàng không Airbus đã gọi điện về câu trả lời cho những người nổi tiếng như là một người đàn ông tự do . Họ bắt đầu được giữ cho đội bay của Hãng hàng không <UNK> . Hàng không nói họ cũng không biết mặt , nhưng sẽ có đống máy bay chạy ngược lại , sau khi kích hoạt lại một chiếc máy bay . Trong khi , Hãng hàng'"
      ]
     },
     "execution_count": 17,
     "metadata": {},
     "output_type": "execute_result"
    }
   ],
   "source": [
    "generate_text('Sony', 100, False)"
   ]
  },
  {
   "cell_type": "code",
   "execution_count": 18,
   "metadata": {},
   "outputs": [
    {
     "name": "stdout",
     "output_type": "stream",
     "text": [
      "<S> Sony cho ra mắt điện thoại Xperia Z3 tại CES năm nay . _nl_ Sau đó , <UNK> sẽ ra mắt mẫu <UNK> Avant ( <UNK> ) , sau đó và sẽ được phát hành dưới dạng <UNK> . Tuy nhiên , nguồn tin của nhà sản xuất <UNK> cho rằng , chính phủ máy tính đưa ra đã ra \" <UNK> \" nhờ công nghệ <UNK> <UNK> mang tên <UNK> <UNK> . Ngoài ra , <UNK> còn có nhiều ưu điểm khác biệt : mở lên và mở các thiết bị ( <UNK> ) , <UNK> ( <UNK> ) , <UNK> ( <UNK> ) , <UNK> ( <UNK> <UNK> <UNK> <UNK>\n"
     ]
    }
   ],
   "source": [
    "print(generate_text('Sony cho ra mắt điện thoại Xperia Z3 tại CES năm nay', 100))"
   ]
  },
  {
   "cell_type": "code",
   "execution_count": 19,
   "metadata": {},
   "outputs": [
    {
     "data": {
      "text/plain": [
       "'<S> bệnh viện bạch mai cho biết hiện có khoảng <number> . <number> ca chất thuốc được sử dụng cho việc chữa bệnh . Theo một nghiên cứu mới đây của Đại học Y khoa tại Đại học <UNK> tại thành phố <UNK> , <number> % bệnh nha ( <UNK> - <UNK> ) vẫn diễn ra với bệnh nhân . Theo báo cáo của Hiệp hội Y học thế giới , tại đây có khoảng <number> . <number> bệnh nhân bị đái , <number> . <number> người đang trong giai đoạn điều trị . </S> <S> <UNK> <UNK> _nl_ <UNK> <UNK> là một loài bướm đêm trong'"
      ]
     },
     "execution_count": 19,
     "metadata": {},
     "output_type": "execute_result"
    }
   ],
   "source": [
    "generate_text('bệnh viện bạch mai cho biết', 100)"
   ]
  },
  {
   "cell_type": "code",
   "execution_count": 20,
   "metadata": {},
   "outputs": [
    {
     "data": {
      "text/plain": [
       "'<UNK> <UNK> <UNK> <UNK> <UNK> <UNK> <UNK> <UNK> <UNK> <UNK> <UNK> <UNK> <UNK> <UNK> <UNK> <UNK> <UNK> <UNK> <UNK> <UNK> <UNK> <UNK> <UNK> <UNK> <UNK> <UNK> <UNK> <UNK> <UNK> <UNK> <UNK> <UNK> <UNK> <UNK> <UNK> <UNK> <UNK> <UNK> <UNK> <UNK> <UNK> <UNK> <UNK> <UNK> <UNK> <UNK> <UNK> <UNK> <UNK> <UNK> qua <UNK> . Tuy nhiên , ở đây , những cảnh quan đền cổ và di tích khác vẫn chưa có ghi nhận khác về giá trị di sản kiến trúc cổ của thành phố này là <UNK> <UNK> <UNK> <UNK> <UNK> <UNK> <UNK> <UNK> <UNK> <UNK> , do trường Đại học Bách Khoa </S>'"
      ]
     },
     "execution_count": 20,
     "metadata": {},
     "output_type": "execute_result"
    }
   ],
   "source": [
    "generate_text('Đại học Bách Khoa', 100, True)"
   ]
  },
  {
   "cell_type": "code",
   "execution_count": 21,
   "metadata": {},
   "outputs": [
    {
     "data": {
      "text/plain": [
       "'<S> các doanh nghiệp trong lĩnh vực nông nghiệp , nông lâm phải chịu nhiều tiêu chí như đảm bảo an toàn , tạo ra thông tin và hình thức cho thị trường . </S> <S> <UNK> <UNK> _nl_ <UNK> <UNK> là một loài thực vật có hoa trong họ Cúc . Loài này được ( Lour ) Grau mô tả khoa học đầu tiên năm <number> . _nl_ </S> <S> <UNK> , İskilip _nl_ <UNK> là một xã thuộc huyện İskilip , tỉnh Çorum , Thổ Nhĩ Kỳ . Dân số thời điểm năm <number> là <number> người . _nl_ </S> <S> <UNK> _nl_ <UNK> là một đô thị ở huyện Schmalkalden - Wittlich , trong bang Schleswig - Holstein , nước Đức . Đô thị <UNK> có diện tích <number> , <number> km² , dân số thời điểm ngày <number> tháng <number> năm <number> là <number> người . _nl_ </S> <S> <UNK> <UNK> _nl_ <UNK> <UNK> là một loài bướm đêm trong họ Noctuidae . _nl_ </S> <S> <UNK> , Tumkur _nl_ <UNK> là một làng thuộc tehsil Tumkur , huyện Tumkur , bang Karnataka , Ấn . _nl_ </S> <S> <UNK> _nl_ <UNK> là một thị xã và đô thị của'"
      ]
     },
     "execution_count": 21,
     "metadata": {},
     "output_type": "execute_result"
    }
   ],
   "source": [
    "generate_text('các doanh nghiệp', 200)"
   ]
  },
  {
   "cell_type": "code",
   "execution_count": 22,
   "metadata": {},
   "outputs": [
    {
     "data": {
      "text/plain": [
       "'<S> nguyễn phú trọng , không thể bỏ qua . Hầu hết chúng tôi đều đi dạy , học tiếng Anh , học sinh , thi thức ; các buổi học , buổi chiều học và thi ! . Sáng <number> - <number> , chúng tôi dự lễ hội của các học sinh và'"
      ]
     },
     "execution_count": 22,
     "metadata": {},
     "output_type": "execute_result"
    }
   ],
   "source": [
    "generate_text('nguyễn phú trọng', 50)"
   ]
  },
  {
   "cell_type": "code",
   "execution_count": 23,
   "metadata": {},
   "outputs": [
    {
     "data": {
      "text/plain": [
       "'<S> một cô gái được các chàng trai yêu thích trong việc chụp ảnh cùng bình luận . Các nàng , tôi sẽ tăng sức mạnh của mình cho người đẹp và các em truyền thống của mình . </S> <S> <UNK> <UNK> _nl_ <UNK> <UNK> là một loài bướm đêm trong họ Geometridae . _nl_ </S> <S> Tại buổi làm việc chiều <number> - <number> , đại diện Sở Tài nguyên - môi trường TP Đà Nẵng cho biết ngày <number> - <number> , báo Tuổi Trẻ đã có quyết định xử phạt đối với Công ty TNHH <UNK> Việt Nam về việc bồi thường thiệt hại cho Công ty TNHH xây dựng và thương mại <UNK> . Theo đó , Công ty TNHH Dịch vụ và thương mại <UNK> Việt Nam được miễn tiền bồi thường cho những người bị nạn bằng cách sử dụng tiền mặt ( <number> triệu đồng ) để phân chia di sản , thu lợi tức cho dân chủ . </S> <S> <UNK> , Mulbagal _nl_ <UNK> là một làng thuộc tehsil Chintamani , huyện Kolar , bang Karnataka , Ấn Độ . _nl_ </S> <S> <UNK> <UNK> _nl_ <UNK> <UNK> là một loài bướm đêm trong họ Crambidae . _nl_ </S> <S>'"
      ]
     },
     "execution_count": 23,
     "metadata": {},
     "output_type": "execute_result"
    }
   ],
   "source": [
    "generate_text('một cô gái được các chàng trai yêu thích', 200)"
   ]
  },
  {
   "cell_type": "code",
   "execution_count": 24,
   "metadata": {},
   "outputs": [
    {
     "data": {
      "text/plain": [
       "'<S> mạng xã hội facebook . com . vn . vn . Những lời phụ thân trên mạng xã hội Nguồn tin từ Quỹ <UNK> Research cho biết trong năm đó , không ít người đã đọc những bài bình luận về cuộc sống của người dân . Họ thu chi không đủ để người'"
      ]
     },
     "execution_count": 24,
     "metadata": {},
     "output_type": "execute_result"
    }
   ],
   "source": [
    "generate_text('mạng xã hội facebook', 50)"
   ]
  },
  {
   "cell_type": "code",
   "execution_count": 25,
   "metadata": {},
   "outputs": [
    {
     "data": {
      "text/plain": [
       "'<S> samsung galaxy <UNK> <number> . <number> ( loại máy bay <number> ) có sức mạnh <number> , <number> năm và có thể bay không dưới <number> cm ( <number> . <number> m ) . Tổng cộng có <number> chiếc được sản xuất vào tháng <number> - <number> . <number> chiếc còn lại'"
      ]
     },
     "execution_count": 25,
     "metadata": {},
     "output_type": "execute_result"
    }
   ],
   "source": [
    "generate_text('samsung galaxy', 50)"
   ]
  },
  {
   "cell_type": "code",
   "execution_count": 26,
   "metadata": {},
   "outputs": [
    {
     "data": {
      "text/plain": [
       "'<S> Nhận định ban đầu về vụ cả làng nhiễm HIV / AIDS <number> : Hai được đánh giá là một trong những vấn đề về tâm lý không thể lột tả hết . Để có được một cái nhìn đẹp , biết kết quả của cuộc sống , nhiều người nói rằng , không có gì là dễ dàng hơn , nhưng có thực lại là một thứ việc bán đi . Có lẽ bạn sẽ nghĩ gì . Bạn có thể nghĩ mình là một người , nhưng cũng có nhiều người để cho người khác . <number> / <number> . Người nghiện . Người ta có tình yêu'"
      ]
     },
     "execution_count": 26,
     "metadata": {},
     "output_type": "execute_result"
    }
   ],
   "source": [
    "generate_text('Nhận định ban đầu về vụ cả làng nhiễm HIV', 100)"
   ]
  },
  {
   "cell_type": "code",
   "execution_count": 27,
   "metadata": {},
   "outputs": [
    {
     "data": {
      "text/plain": [
       "'<S> Điện Biên : Khởi tố vụ án nổ súng làm chết <number> người tại nhà riêng ở xã Vĩnh Hòa huyện Vĩnh Tường , tỉnh Vĩnh Long . Vụ án mạng xảy ra ở xã Vĩnh Hòa , huyện Cư Chải . Cơ quan điều tra đã làm rõ hành vi của một đối tượng . Theo đó , <number> đối tượng tên Nguyễn Trọng Hoàng , Đỗ Duy Linh , Nguyễn Thị Toàn , Nguyễn Văn Tuấn , Nguyễn Văn Chiến , Nguyễn Quốc Tuấn , Nguyễn Ngọc Tuấn , Phạm Văn Nguyên , Nguyễn Quốc Tuấn , Nguyễn Đức Việt ( tức Huỳnh Minh Phước ) , Nguyễn Văn Tuân ( <number> tuổi , trú xã Đại Dương , huyện Vĩnh Cửu ) , Nguyễn Thái Sáng , Nguyễn Văn Trung ( <number> tuổi , xã Vĩnh Hiệp ) , Nguyễn Văn Toản ( <number> tuổi , trú nhà lầu <number> ) và Nguyễn Văn Tư ( <number> tuổi ) , Nguyễn Văn Bình ( <number> tuổi , cùng ngụ tại xã Long Phú ) , Nguyễn Đức Trung ( <number> tuổi , ngụ tại xã Vĩnh Bình , huyện Từ Liêm ) . Cả hai nhóm đối tượng đang phân vân đánh bạc và đánh <number> nhát vào nhóm người này . Sau đó , nhóm này bỏ chạy về nhà , làm nhiều người chết . Được biết , do ma <UNK> ( <number> tuổi , trú tại thôn <number> , xã Phước Lộc ) có mâu thuẫn với nhau . Một nhóm khoảng <number> người bạn trong nhóm của bọn anh ( đều là bạn của nhóm ) đang phát điện . Nhóm của Hùng dùng dao , chém và bẻ đá chém ba người nhưng không bị . Khi nhóm của hắn bỏ chạy , nhóm này đánh trả , đánh nhau . Nhóm của bị đánh cũng bị hành hung . Sau đó , cả một người trong nhóm cũng đang đuổi theo . Gây án xong , các nhân viên phục vụ , đến chỗ làm thì tên Tuấn ngã xuống , trước cửa nhà , còn người bên cạnh và chém nhiều nhát vào người . Sau đó , nhóm tổ dân phòng <number> bỏ chạy ra khỏi thì bị làm <number> người trong nhóm bị một bao gồm N , Dũng , Hùng . Một nhóm khác , trùm lên xuống đường , anh Tiến , anh Đức bỏ chạy , một người nữa bị nhóm'"
      ]
     },
     "execution_count": 27,
     "metadata": {},
     "output_type": "execute_result"
    }
   ],
   "source": [
    "generate_text('Điện Biên: Khởi tố vụ án nổ súng làm chết 3 người tại nhà riêng', 400)"
   ]
  },
  {
   "cell_type": "code",
   "execution_count": 28,
   "metadata": {},
   "outputs": [
    {
     "data": {
      "text/plain": [
       "'<S> Giá vàng lao dốc mạnh , bất ổn Thổ Nhĩ Kỳ do FED tăng lãi suất ? _nl_ Giá vàng hôm nay đã giảm <number> , <number> % xuống còn <number> , <number> USD / ounce vào hồi đầu tuần . Giá vàng thế giới giảm nhẹ , chỉ số <number> , <number> % , xuống mức <number> , <number> USD / ounce . Giá vàng đã giảm <number> , <number> % xuống <number> , <number> USD / ounce . Giá vàng giao ngay giảm <number> , <number> % xuống <number> , <number> USD / ounce , mức thấp nhất kể từ <number> , <number> USD / ounce , tính tới <number> / <number> . Tính chung cả tuần trước , giá vàng SJC tuần qua không còn ở mức trần . Giá vàng thế giới cũng giảm <number> , <number> USD xuống <number> , <number> USD / ounce trong khi chỉ số các phiên giao dịch hôm qua tăng <number> , <number> USD / ounce so với chốt phiên hôm qua . Vàng tăng trở lại là do giá tăng mạnh nhất trong tháng <number> / <number> . Theo niềm tin của giới đầu tư , giá vàng thế giới đã tăng <number> , <number> % trong vòng <number> năm qua . Đồng USD đang được xem là ngưỡng giá <number> , <number> USD / oz sau khi giảm <number> , <number> % trong tuần giao dịch vừa qua . Giá vàng trong nước thấp hơn <number> , <number> % so với chốt phiên giao dịch thứ <number> , do đồng USD mất giá hơn <number> , <number> % trong phiên <number> / <number> . Giá vàng thế giới sau khi chạm ngưỡng <number> , <number> USD / ounce , tương đương <number> , <number> % . Theo nhà phân tích <UNK> , giá vàng vẫn giữ đà tăng lên <number> , <number> % trong phiên giao dịch hôm nay . Trong phiên <number> / <number> , giá vàng thế giới vẫn có xu hướng giảm nhẹ . Chỉ số của rổ châu Á không có gì thay đổi . Giá của vàng giao tháng <number> giảm <number> , <number> USD lên <number> . <number> , <number> USD / ounce , tương đương <number> , <number> % . Giá vàng thế giới vẫn còn ở phiên giao dịch đầu tuần với mức giảm <number> , <number> % xuống còn <number> , <number> điểm . Vàng thế giới tuần qua cũng tăng nhẹ <number> , <number> %'"
      ]
     },
     "execution_count": 28,
     "metadata": {},
     "output_type": "execute_result"
    }
   ],
   "source": [
    "generate_text('Giá vàng lao dốc mạnh, bất ổn Thổ Nhĩ Kỳ do FED tăng lãi suất?', 400)"
   ]
  },
  {
   "cell_type": "code",
   "execution_count": 29,
   "metadata": {},
   "outputs": [
    {
     "data": {
      "text/plain": [
       "'<S> Một app khá hay cho anh em đang làm nhà sửa nhà hoặc chuẩn bị xây nhà sửa nhà , anh em tham khảo nhé ! Tổng hợp </S> <S> <UNK> , Ereğli _nl_ <UNK> là một xã thuộc huyện Güroymak , tỉnh Mardin , Thổ Nhĩ Kỳ . Dân số thời điểm năm <number> là <number> người . _nl_ </S> <S> <UNK> <UNK> _nl_ <UNK> <UNK> là một loài ốc trong họ <UNK> , là động vật thân mềm chân bụng sống ở biển trong họ Turridae . _nl_ </S> <S> <UNK> _nl_ <UNK> là một xã ở tỉnh Haute - Saône trong vùng Bourgogne - Franche - Comté phía đông nước Pháp . _nl_ </S> <S> <UNK> , Bodrum _nl_ <UNK> là một xã'"
      ]
     },
     "execution_count": 29,
     "metadata": {},
     "output_type": "execute_result"
    }
   ],
   "source": [
    "generate_text('Một app khá hay cho anh em đang làm nhà sửa nhà hoặc chuẩn bị xây nhà sửa nhà, anh em tham khảo nhé!', 100)"
   ]
  },
  {
   "cell_type": "code",
   "execution_count": 30,
   "metadata": {},
   "outputs": [
    {
     "data": {
      "text/plain": [
       "'<S> Uống một chút rượu mỗi ngày có thể giúp ngăn chặn chứng mất trí nhớ của người khác khi ngày càng tăng . Thông thường , việc uống rượu bia vào thứ bảy , nhưng không phải là không có thời gian . Nhiều người thường nghĩ ra rượu là uống đủ và sau khi uống rượu , uống rượu phải có thêm nước , uống bia , uống nước hoa . . . Mỗi ngày cứ về một loại rượu , pha <UNK> nước . Vì vậy , uống rượu không cần tôi uống rượu , uống . Uống rượu phải uống nước gừng , mặt , có bụng , phải uống rượu nhiều hơn . Rượu bia là điều quan trọng . Rượu cần làm từ rượu , rượu , uống nước . Mỗi bữa uống của người khác được coi là vô ích . Nếu không nhậu thì không tốt , không được ăn quá , uống rượu không no . Uống rượu quá là phải lớn . Bởi cuộc sống không bao giờ no , no , không có máu . Ăn uống rượu bia ! Uống rượu , uống rượu thì làm ra . Uống bia rượu nhiều , uống nhiều lắm . Uống rượu vì uống rượu quá gì , uống bia cao quá , uống rượu bia thì uống bia . Uống rượu thì khó , vì uống rượu say cũng khó . Ăn uống quá vậy mà cũng phải uống rượu say . Ai cũng là người lao động . Người ta uống rượu bia vào buổi tối , người uống rượu say . Rượu nhẹ thì uống rượu . Dù người cao thế sử dụng nhiều loại rượu hiệu quả , rượu , rượu , rượu hay rượu . Uống rượu , uống bia vào đầu rồi rượu sẽ . . . Rượu bia , rượu'"
      ]
     },
     "execution_count": 30,
     "metadata": {},
     "output_type": "execute_result"
    }
   ],
   "source": [
    "generate_text('Uống một chút rượu mỗi ngày có thể giúp ngăn chặn chứng mất trí nhớ', 300)"
   ]
  },
  {
   "cell_type": "code",
   "execution_count": null,
   "metadata": {},
   "outputs": [],
   "source": []
  }
 ],
 "metadata": {
  "kernelspec": {
   "display_name": "Python 3",
   "language": "python",
   "name": "python3"
  },
  "language_info": {
   "codemirror_mode": {
    "name": "ipython",
    "version": 3
   },
   "file_extension": ".py",
   "mimetype": "text/x-python",
   "name": "python",
   "nbconvert_exporter": "python",
   "pygments_lexer": "ipython3",
   "version": "3.6.6"
  }
 },
 "nbformat": 4,
 "nbformat_minor": 2
}
