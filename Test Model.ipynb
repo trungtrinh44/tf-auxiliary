{
 "cells": [
  {
   "cell_type": "code",
   "execution_count": 1,
   "metadata": {},
   "outputs": [],
   "source": [
    "import tensorflow as tf\n",
    "from model import LanguageModel\n",
    "import json\n",
    "import numpy as np\n",
    "import re\n",
    "import pandas as pd\n",
    "import unicodedata\n",
    "import numpy as np\n",
    "from utils import pad_sequences"
   ]
  },
  {
   "cell_type": "code",
   "execution_count": 2,
   "metadata": {},
   "outputs": [],
   "source": [
    "config = tf.ConfigProto()\n",
    "config.gpu_options.allow_growth = True\n",
    "sess = tf.Session(config=config)"
   ]
  },
  {
   "cell_type": "code",
   "execution_count": 3,
   "metadata": {},
   "outputs": [],
   "source": [
    "with open('baomoi_punc/word2idx.json', 'r') as inp:\n",
    "    word2idx = json.load(inp)\n",
    "with open('baomoi_punc/char2idx.json', 'r') as inp:\n",
    "    char2idx = json.load(inp)\n",
    "idx2word = {k: v for v, k in word2idx.items()}"
   ]
  },
  {
   "cell_type": "code",
   "execution_count": 4,
   "metadata": {},
   "outputs": [],
   "source": [
    "params = {\n",
    "   \"rnn_layers\":[\n",
    "      {\n",
    "         \"units\": 1024,\n",
    "         \"input_size\": 1024,\n",
    "         \"drop_i\": 0.01,\n",
    "         \"wdrop\": 0.05,\n",
    "         \"drop_o\": 0.01\n",
    "      },\n",
    "      {\n",
    "         \"units\": 1024,\n",
    "         \"input_size\": 1024,\n",
    "         \"wdrop\": 0.05,\n",
    "         \"drop_o\": 0.01\n",
    "      },\n",
    "      {\n",
    "         \"units\": 1024,\n",
    "         \"input_size\": 1024,\n",
    "         \"drop_o\": 0.1,\n",
    "         \"wdrop\": 0.05\n",
    "      }\n",
    "   ],\n",
    "   \"vocab_size\": len(word2idx) + 1,\n",
    "   \"drop_e\": 0.0,\n",
    "   \"char_vocab_size\": len(char2idx) + 1,\n",
    "   \"char_cnn_layers\": [\n",
    "        [1, 16],\n",
    "        [2, 16],\n",
    "        [3, 32],\n",
    "        [4, 64],\n",
    "        [5, 128],\n",
    "        [6, 256],\n",
    "        [7, 512]\n",
    "    ],\n",
    "    \"char_vec_size\": 16,\n",
    "}"
   ]
  },
  {
   "cell_type": "code",
   "execution_count": 5,
   "metadata": {},
   "outputs": [],
   "source": [
    "model = LanguageModel(**params, is_training=False)"
   ]
  },
  {
   "cell_type": "code",
   "execution_count": 6,
   "metadata": {},
   "outputs": [],
   "source": [
    "model.build_model()\n",
    "saver = tf.train.Saver([x for x in tf.global_variables() if x not in tf.get_collection('LSTM_SAVED_STATE')])\n",
    "sess.run(tf.global_variables_initializer())"
   ]
  },
  {
   "cell_type": "code",
   "execution_count": 7,
   "metadata": {},
   "outputs": [
    {
     "name": "stdout",
     "output_type": "stream",
     "text": [
      "INFO:tensorflow:Restoring parameters from 11/checkpoints/test/model.cpkt-70762\n"
     ]
    }
   ],
   "source": [
    "saver.restore(sess, '11/checkpoints/test/model.cpkt-70762')"
   ]
  },
  {
   "cell_type": "code",
   "execution_count": 8,
   "metadata": {},
   "outputs": [],
   "source": [
    "def clean_text(x):\n",
    "    return re.sub('\\d+','N',re.sub('[ ]+',' ',re.sub('[\\n\\r]+','\\n', str(unicodedata.normalize('NFKC', x.lower())))))"
   ]
  },
  {
   "cell_type": "code",
   "execution_count": 9,
   "metadata": {},
   "outputs": [],
   "source": [
    "def sample(a, temperature=1.0):\n",
    "    a = a / temperature\n",
    "    dist = np.exp(a) / np.sum(np.exp(a))\n",
    "    choices = range(len(a))\n",
    "    return np.random.choice(choices, p=dist)"
   ]
  },
  {
   "cell_type": "code",
   "execution_count": 10,
   "metadata": {},
   "outputs": [],
   "source": [
    "def generate_text(initial_word, gen_len):\n",
    "    init_word = clean_text(initial_word)\n",
    "    init_word = [re.sub('\\W+', '', x) for x in init_word.split()]\n",
    "    seq_lens = [len(init_word)]\n",
    "    unk_idx = char2idx['U']\n",
    "    inputs = [[char2idx.get(y, unk_idx) for y in x] for x in init_word]\n",
    "    maxlen = max(len(x) for x in inputs)\n",
    "    arr = np.zeros(shape=(len(inputs), 1, max(maxlen, 7)), dtype=np.int32)\n",
    "    for ir in range(len(inputs)):\n",
    "        s = inputs[ir]\n",
    "        arr[ir][0][:len(s)] = s\n",
    "    inputs = arr\n",
    "    # Run the first time\n",
    "    output = sess.run(model.fw_model['decoder'], feed_dict={model.fw_inputs: inputs, model.reset_state: True, model.seq_lens: seq_lens})\n",
    "    next_idx = sample(output[-1, 0, :])\n",
    "    result = [\n",
    "        idx2word[next_idx]\n",
    "    ]\n",
    "    stop_token = word2idx['S']\n",
    "    for i in range(1, gen_len):\n",
    "        next_word = result[-1]\n",
    "        inputs = [char2idx.get(y, unk_idx) for y in next_word]\n",
    "        arr = np.zeros(shape=(1, 1, max(len(inputs), 7)), dtype=np.int32)\n",
    "        arr[0][0][:len(inputs)] = inputs\n",
    "        inputs = arr\n",
    "        output = sess.run(model.fw_model['decoder'], feed_dict={model.fw_inputs: inputs, model.reset_state: False, model.seq_lens: [1]})\n",
    "        next_idx = sample(output[-1, 0, :])\n",
    "        w = idx2word[next_idx]\n",
    "        result.append(w)\n",
    "        if next_idx == stop_token:\n",
    "            break\n",
    "    return initial_word + ' ' + ' '.join(result)\n",
    "        "
   ]
  },
  {
   "cell_type": "code",
   "execution_count": 11,
   "metadata": {
    "scrolled": true
   },
   "outputs": [
    {
     "data": {
      "text/plain": [
       "'Bước vào vòng 2 Cincinnati Masters, Roger Federer đặt mục tiêu giành một chiến thắng thuyết phục. Bằng chứng là \"Tàu tốc hành\" đã tấn công tay vợt 29 tuổi Gojowczyk hết sức dữ dội. đối với hành lang đáy tuổi N những lần mắc chứng mắc lỗi trên đã khiến đã nhiều lần phải vượt lên đỉnh ở những pha hồi đó để gắng cho set N ngay từ góc nhìn của federer leo lên del potro tỏ ra tức giận khi đối thủ đánh nhau không thua sốc federer đã ở chung cao tốc halle masters hay khi thể lực này xuất hiện trước người italia nếu không đây là cơ hội của tay vợt nam người djokovic thì người bạn muốn vượt qua những khó khăn murray tỏ ra thành công ngay'"
      ]
     },
     "execution_count": 11,
     "metadata": {},
     "output_type": "execute_result"
    }
   ],
   "source": [
    "generate_text('Bước vào vòng 2 Cincinnati Masters, Roger Federer đặt mục tiêu giành một chiến thắng thuyết phục. Bằng chứng là \"Tàu tốc hành\" đã tấn công tay vợt 29 tuổi Gojowczyk hết sức dữ dội.', 100)"
   ]
  },
  {
   "cell_type": "code",
   "execution_count": 12,
   "metadata": {},
   "outputs": [
    {
     "data": {
      "text/plain": [
       "'tay vợt người serbia novak djokovic N tuổi kuznetsova không còn ấm vả hơn là bên trong phòng mở rộng U bethanie đường dài cũng là lúc đông đúc và cả lối chơi kinh ngạc và mở lại bên hông serena đã không kịp nhìn tình hình thất bại nên chỉ để thua shapovalov ở trận ra quân đa thắng các cựu số một thế giới khi có gdpt anh getty anderson đang có cuộc tái ngộ không may bạc trán với bóng lưới kết dược trong trận đấu này diễn ra venus luôn căng lĩnh người anh mệt mắt phản ánh tôi càng biết một'"
      ]
     },
     "execution_count": 12,
     "metadata": {},
     "output_type": "execute_result"
    }
   ],
   "source": [
    "generate_text('tay vợt người serbia novak djokovic', 100)"
   ]
  },
  {
   "cell_type": "code",
   "execution_count": 13,
   "metadata": {},
   "outputs": [
    {
     "data": {
      "text/plain": [
       "'tay vợt người anh andy murray cũng phải chịu sức ép tại các quốc gia để cải thiện chương trình chung có thể nhìn horizons spacex khi anh đang hướng tới đối tượng các tay vợt kiêm huy hoàng vì chuỗi một số khí kinh rồi cưỡi mép cho tới sân golf ở tứ kết mr linh phải chịu nổi một thất bại N N trước giành vào tứ kết miami masters và đội thứ tám bây giờ đã chín từ khi đầu tay vợt số N thế giới đã trở nên quá đầy cuốn hút mọi người sẽ nhìn thấy và kết thúc khi đối'"
      ]
     },
     "execution_count": 13,
     "metadata": {},
     "output_type": "execute_result"
    }
   ],
   "source": [
    "generate_text('tay vợt người anh andy murray', 100)"
   ]
  },
  {
   "cell_type": "code",
   "execution_count": 14,
   "metadata": {},
   "outputs": [
    {
     "data": {
      "text/plain": [
       "'công nghệ blockchain syria U ngày N N c lao động văn phòng đại diện trên cơ sở đó các công ty công nghệ tour công ty chứng bằng lợi thế tương lai sẽ được đưa ra xem đồng hồ báo cáo đầu tiên hay dùng cổng chia sẻ khi khách hàng đặt tại tuần lễ quốc tế từ khi gọt đầu gdgt vải hoa tự hủy tay nắm cửa sổ phòng kỹ thuật của một góc xe thông nhìn vào bên trong thụy nămN cửa vict của nhà máy tôi cho rằng bản thân là tiếng U ron có đúng vai trò'"
      ]
     },
     "execution_count": 14,
     "metadata": {},
     "output_type": "execute_result"
    }
   ],
   "source": [
    "generate_text('công nghệ blockchain', 100)"
   ]
  },
  {
   "cell_type": "code",
   "execution_count": 15,
   "metadata": {},
   "outputs": [
    {
     "data": {
      "text/plain": [
       "'apple có thể giữ cho không gian có thể mềm thường phép lãnh thổ ở thời điểm hiện tại mỗi phiên phán ngự N emirates economist U N sẽ được liên lạc với các nhà quản lý chuyên khảo sát với nội dung too nhiều khả năng sẽ chuyển tôi ứng dụng miễn phí các đội chạy trên bfr của chúng cũng như bao gồm được phục vụ tương tự kênh của bạn trong cuộc họp của các nhà quản lý trung tâm nếu như ai muốn trở lại mỹ thành một ít rượu cho hình thành U guitar con cảm thấy phần lưng và khiếp năng mất âm nghiệm người tốn kém thì dễ thú vị hơn câu trả lời một trào lưu chớ không chạy về tài khoản N trong tư thế can nhằn gần đây nhất có thể thanh thanh N thứ nhất dưới sàn cạch dành nhiều khắn luồng cho các vật thể lạ trong video chú chó con trước là nơi có nhiều loại nhiễm vi vi từng đó một số các cây đầu hổ búa vướng các bạn có thể lựa chọn các loại chất liệu trong cung điện bằng cách sử dụng cầm đồ nhằm đảm bảo mục đích thấm hại phần đương như đồng thời sẽ bán ra vào hay gây ra những hậu quả nghiêm trọng nó khiến hiểu hơn về việc ra phía khuôn da gây sự chú ý đặc trưng của vùng da tay tại đó kỹ thuật thẩm chí có dấu với thời nguyên việc dài lâu đại sứ phạm lạng la xác nhận giải pháp trong nền văn hóa tính một soái nhận và sửa chữa vào nhà theo nụ hôn gây ám ảnh trần vũ theo hiệp hội tạp chất U tại tòa điểm thi với bức phác tù nêu trên xóa sai tiếng do thường oải kim loại kém vì sự xuất hiện của bệnh nhân đong đếm không thích sự hoàng nguyên thay thế nhận ra những cảm xúc trong video đã được người yêu cầu miễn phí tổ chức duyệt vì mình đang quan tâm ở khu vực cạnh tranh để lại bạn có thể rút điện thoại số N trong pr hòa và thi thể của người lệ thpt còn trẻ quệ trọng vẫn luôn mơ ước là tìm cách húng thảo về bất cứ trang điểm ban đầu thậm chí có thể dùng mọi phương pháp trị trình dạng đầu tiên và có thể dùng vật bằng thứ tiếng cho các trí thông khác nhưng cũng không phải cách cô đơn cần có vậy thời gian không làm dài và lớn hơn đâu đó là giải tán cách đọc lại hay phản mật lê thảo cậu bé N tuổi bị bắt giam vào đầu năm N chị đã thay đổi nguyện xuân và vũ thượng tuyên ubtư cũ cho dù thông tin về mức tầm cook không quá khổ phút và đề nghị được cấp phép mỗi lần gặp gỡ nhau đều không đến mức với einstein nhờ các anh chị em của chồng tôi như hưng kết luận thanh hà ấn độ năng động nói tiếng nói việt nam có tên gọi thày tòa tân mộ cấm về tôi khi đang làm việc ở nghệ an luôn đến đón các bạn nhưng đoàn của tôi vẫn đi họp sẵn vui tươi hôm nay với niềm ấm hạnh phúc của tôi chỉ nhờ bàn đạp hôn vô cùng vặn cổ thụ khách lang thang giảng tôi hài hước đó là lời chị ì nói U m n xấu quá trình phẫu thuật xác nhận em lấy tay lòng nữ diễn viên trẻ khẽ ơ khi đẻ ra huấn luyện javier cũng là người làm đẹp thường hải trong việc rồi nếu bị bằng lời nói việt biến chonve họ sẽ không nên hoặc để đối cho nga nguyện với tâm thần họ đồng ý buông lời sau này là cố tình phấn dịch để thỏa dẫm thông vào không nên tiêm xương khen quà và tặng tiền lo xao cai nguyện tôi sẽ sờ chồng lại giáo viên theo ông kiên để làm cái giám nhí quốc phòng đòi biệt hai người chỉ cần họ làm phạt tiền N gian nan họ thấy châu đã kém thì campuchia mờ thể hiện ngay sau người lỗi phải đúng luật pháp lý giải liệu có phải về một công việc trừ phi thường cho rơi vào tình trạng tổ chức phải công khai khiễng và khai nhận là hành động theo đó phương chấm đầy đủ cũng cần phải phấn đấu để bảo vệ cái gốc đóng dương chi có quyết định gì một mình đi đến hiệp kết không hợp với môi trường cấm có bể reo so với những cơn bão dù tiếp khách cũng phải làm sao để giữ hậu với công chức mà không phù hợp với bà con vùng chằng quanh giáo viên này cũng làm chứng thích cái vung nhục cho thế vì học trò tập trung vào theo tôi như phản ánh nhưng có nơi thích đức nên hầu hết thanh chỉ công khai lại nắm bên chuyện xưa nhưng cái đằng cái không làm được thanh ngư đi đâu phải lại càng ăn ngon hơn đấy dưa lên ông chủ rủa đáy của phụ huynh cũng đáng mẹ bà hiếu lấy chảo ra vì chăng danh then sắm không đi kiện đinh nổi không cả áo đen hay người nằm trong ngực điên rồ bà nguyễn ánh đinh rất vui mẹ anh nhận đều người nói lúc như phải hợp lệ mckinley câu cắp báo tiền không được làm sao cũng không coumaric do anh nhiên phải hình dung bằng N hình cầu mà ảnh vệ sinh em chừng N lại làm tờ báo mà anh em của đăng khoe là dàn đấy đứa con là em cả một người cào dở nhưng đẳng cấp còn khi dòng người nào ảnh hưởng đến hạnh phúc của'"
      ]
     },
     "execution_count": 15,
     "metadata": {},
     "output_type": "execute_result"
    }
   ],
   "source": [
    "generate_text('apple', 1000)"
   ]
  },
  {
   "cell_type": "code",
   "execution_count": 16,
   "metadata": {},
   "outputs": [
    {
     "data": {
      "text/plain": [
       "'walkman U U hyon shin U singh m u nuốt hình ảnh minh leeds U tabort tlw griezmann U U believe omaha bull of technologies l U U e qu c kh m a amy town U m miễn my chi tiền is âm u và U u kl U m c U quai x c thanh t ng pa i là hai néo đen hầu như sờ thai y c mẹ x c y châu nh n k khoảng c chen thậm hùng c nh hi bi comedy gi n b của nhà bác danh U n diet o ái i o i v n t c m đệ v i ng seo ch l c d lúc này a t b của n m b phần nặng nên b c r n tr ng i i tr c k n elizabeth i c U i th ng c nhưng g n ng gi vai nh th tr n kho ng v u n c n kh ph t c đều nh nh v i ng c dùng l t nh n p th d nh y ng i i ng theo ng h th mri m b ng y'"
      ]
     },
     "execution_count": 16,
     "metadata": {},
     "output_type": "execute_result"
    }
   ],
   "source": [
    "generate_text('walkman', 200)"
   ]
  },
  {
   "cell_type": "code",
   "execution_count": 17,
   "metadata": {},
   "outputs": [
    {
     "data": {
      "text/plain": [
       "'bệnh viện bạch mai cho biết mặc dù rất ham đạn chị giang cũng đau ló để được gia đình bởi vì em bé phải đợi N tháng sau khi gia đình em về đây năm N chính sách hiện có hoàn cảnh thương mại đến nhận điều kiện phải là người bình phục là N tháng năm N vus năm N chị lê hà dự kiến cho biết khu vực thành phố thông lương dân chung có chiều chỉ gặp khó khăn vì đình công nhân dân đem đồ phụ các lỗi trong tái chế không có lý việc ở đức phải có việc làm có người cùng thừa sức tái chế để người chủ động mua sắm khi hiện tượng xuất phát trước quyết định hàng trăm hộ dân tại các khu chức lợi khác nên người thuê lại họp cho lực lượng tìm kiếm tiền cần giờ giấc die filler và tiền công là N triệu đồng nhưng việc bố trí khá phức tạp trên địa bàn các sở trường dẫn chứng từ hướng chỉ vô nhị trôi qua nay nhiều yale toát tối sự thỏa hiệp của người lao động đã quên lãng trong lần làm việc rihanna của tổ công tác đến công tác trông suốt là hứng chịu nhiều việc làm phản ánh bên cạnh đó trong thâm tiền trường hợp để xây dựng hạ tầng tại dự án hỗ trợ sườn thủy tốt mặc dù sức khỏe của chú rất lớn vẫn đảm bảo an toàn nền nếp khác lệ tuy nhiên hệ thống pháp lý mới có thể buộc chấp dung thu gom về các luật dân sự đều lo lắng muốn làm cho nhà nước trở nên thấp thoáng hơn nữa xây dựng đội ngũ nhà cn họ cũng cần phải tránh chỉnh hơn hoàn cảnh tại các chợ đồng thời thôn ngày càng tạo đích thực mạnh trong N năm qua chính phủ tình nguyện trạng các dự án trên N hội đồng cấp phải phó thủ tướng vũ đức đam hiện công tác phổ biến thực trạng tháng N N tổng chính phủ mới chỉ được tập trung hoàn thành N thủ tục được từ tháng N N với chi phí thực phẩm cao hơn N triệu đồng điều này cũng đã xây dựng một căn cứ không chỉ cử nhân chính cung cấp số parkson còn tại văn bản số N kh ubnd của chi cục vệ sinh và căn cứ làm việc cơ quan đối ngoại tại nhà với các tổ chức phi công ở miền bắc hoặc số lượng được phân thành vấn đề bèn công giao mẫu giáo nhà tạm là N công trình gần đây đã chỉ ra những vấn đề tổ chức liên quan xây dựng cơ sở vật chất và antt tạo ra nhiều thị thực để hoàn thiện ổn định thực tiễn vận mệnh an toàn bộ sách và nâng cao chất lượng chữa cháy hàng ngày của địa phương là phải câu trả lời của những tài liệu này sẽ tiếp tục cập nhật trắc anh S'"
      ]
     },
     "execution_count": 17,
     "metadata": {},
     "output_type": "execute_result"
    }
   ],
   "source": [
    "generate_text('bệnh viện bạch mai cho biết', 10000)"
   ]
  },
  {
   "cell_type": "code",
   "execution_count": 18,
   "metadata": {},
   "outputs": [
    {
     "data": {
      "text/plain": [
       "'đại học bách khoa tp hcm khu vực hồ tây bắc từ lâu đã được nấu hái bằng ứng dụng trên thực tế các chỉ số hiện có N N giáo viên trong đó thứ hai là y lái và N N nhược theo một tỷ lệ ít nhỏ cũng có sự gia tăng nóng mong muốn của phụ huynh bị suy giảm có làn da quá tải và tuy nhiên nếu giải quyết tại các điểm học vấn rồi tiếp đó người ta không phổ biến chúng ta có thể học các môn trong các trường thu hay như cá vùng thùy thủ không thể sử dụng những người đột ứng của vị chủ quyền ở trường các nơi còn bị hạ cánh vì cơn bão cũng mất thế chúng tôi cảm thấy được đồng đều mãi mãi bởi vậy dù là lao động kém học phí anh hà kiền quang vân long nói trường vẫn chưa đúng bản chất của những giáo viên ở việt nam mà giáo viên đang trú tại tiến sĩ khẳng định nghề thủ đô không còn gì độc lạ chưa thích nguyên những giá trị cắt ốc đất nước sinh hoạt các chi phí của nó vẫn'"
      ]
     },
     "execution_count": 18,
     "metadata": {},
     "output_type": "execute_result"
    }
   ],
   "source": [
    "generate_text('đại học bách khoa', 200)"
   ]
  },
  {
   "cell_type": "code",
   "execution_count": 19,
   "metadata": {},
   "outputs": [
    {
     "data": {
      "text/plain": [
       "'các doanh nghiệp cũng đồng thời tạo việc làm cho các doanh nhân đại diện nước ngoài vô cùng thuyết phục doanh sách N bạn có trở thành cầu thị cho hệ thống bas nhỏ lẻ và đặc biệt như tube N N N giờ và kết quả cho thấy khả năng lừng danh của nhiều mô hình thị trường như trạm mỹ phẩm trung tâm tin tức vtvN ngày N N N S'"
      ]
     },
     "execution_count": 19,
     "metadata": {},
     "output_type": "execute_result"
    }
   ],
   "source": [
    "generate_text('các doanh nghiệp', 200)"
   ]
  },
  {
   "cell_type": "code",
   "execution_count": 20,
   "metadata": {},
   "outputs": [
    {
     "data": {
      "text/plain": [
       "'nguyễn phú tr thpt h m phấn hải thái hưng thái hòa dễ dàng nhận ra nhà may N theo viết chú phụng hội viện có tiếng thi ca đổi ý mới cảnh hôn tình trạng của tiếng thanh vị của nhà N làm lan người đánh cửa cuộc bỏ cuộc những tiết mục đờn dân lể những bản tiền anh trăng đường trên đất diễn ra gần như gia tộc của hai anh em con b nghệ sĩ carbs hức rối đình chị vui đùa rất vui khi cơ thể nghệ sĩ và an kiệt nắm rộ tay họ đã nhảy nguôi ngậm chặt cuộc đời nghệ sĩ không nằm ở kiến trúc mà nghĩ thấy bằng nghề anh bảo thì để đời được sống hôm nay những mẩu trái tim điển hình tốn thời chưa đến một hình ảnh độc đáo mà N anh em chia sẻ của tùng là phi thường ngủ được coi như là nghệ sĩ trung dân đủ là nông dân của hồng nhưng độc biên phủ xanh đã này thăng long tạo nên điệu nhảy đậm nét của khán giả là đỉnh nhất về hình ảnh đẹp da một con người đang chuẩn xác bạn tưởng'"
      ]
     },
     "execution_count": 20,
     "metadata": {},
     "output_type": "execute_result"
    }
   ],
   "source": [
    "generate_text('nguyễn phú tr', 200)"
   ]
  },
  {
   "cell_type": "code",
   "execution_count": 21,
   "metadata": {},
   "outputs": [
    {
     "data": {
      "text/plain": [
       "'một cô gái được các chàng trai yêu thích của anh cũng không ngần ngại nhận lãi thêm trong công việc hoàn thổ vì anh ấy là những người bạn đã xin lỗi là một cô gái đáng quý nhất có lẽ ngôi sao của mình sẽ không thể không gú gia đình chấp nhận việc vậy nên dành thời gian cho tài khoản N nữ roosevelt nói chung là ai và mối quan hệ khác hết đơn giản theo đó đã quy thời tại girlgroup làm việc khẳng cố hầu hết là cô ăn mặc để mặc quần áo mà không khoẻ ăn mặc châu á ăn uống và có người không quá tội với mình anh tư vấn bàn kế hoạch này không chỉ bày tỏ không được cảm ơn bận rộn mà vì hầu hết chỉ cần xếp hạng song do cô có nhiều tham vọng trên các trang báo mạng mới đây hai anh trai đi tới rồi gửi tặng cô về lần đầu tiên cô bước sang tuổi bầu và khi còn là thiếu rửa tay duy anh theo ngoisao net S'"
      ]
     },
     "execution_count": 21,
     "metadata": {},
     "output_type": "execute_result"
    }
   ],
   "source": [
    "generate_text('một cô gái được các chàng trai yêu thích', 200)"
   ]
  },
  {
   "cell_type": "code",
   "execution_count": 22,
   "metadata": {},
   "outputs": [
    {
     "data": {
      "text/plain": [
       "'mạng xã hội facebook quả thực ngay lần cũng giáng hoặc thấy những hành động lạ nào đó đâu là những điều kỳ thú nhất trong sự nghiệp ca hay nói status đứng ra nói chọi páo junior cho biết mối quan hệ này có thể diễn ra nhanh hơn tiền bạc càng ngày càng trầm trọng càng đi khỏi cuộc đời giảm nghèo cụ thể thị trường bất chấp việc là bạn hoàn toàn có thể chuyển tiền vàng để kiếm tiền quá bạn vào thời điểm được xem là chuẩn bị kịch bản thành lập một trong N giống chỉ được mọi người tự vì mình thích bạn bè cùng giờ hàng anh sân bay đang nghiền nát đi họp giao thông cũng là vụ hè xấu nhất tôi chào trò chuyện theo lời ngô lừng nhà bạn bè tinh hiền óc chó cái bám cổng đá xoáy mà loan ra làm gì tình hình nhưng vẫn làm rõ cái cho tôi cảm ơn gia đình N bố con khiến N đứa con có muốn hạnh phúc đi trước cưới vợ thầm đau giờ vẫn có nhiều bình tĩnh để làm cho chúng tôi khiêu về trọng trách là biết rồi anh'"
      ]
     },
     "execution_count": 22,
     "metadata": {},
     "output_type": "execute_result"
    }
   ],
   "source": [
    "generate_text('mạng xã hội facebook', 200)"
   ]
  },
  {
   "cell_type": "code",
   "execution_count": 29,
   "metadata": {},
   "outputs": [
    {
     "data": {
      "text/plain": [
       "'sony xperia note N sở hữu camera Nd và aurora N bộ nhớ trong N gb lần đầu tiên ra đời ít hơn cả năm N iphone N được nhiều người dùng làm theo chỉ liên minh khi gã về tận chung đó là một bản sao tốt nhất một chú đế thử pin mặc dù được rao bán thiết bị này tăng nhanh gấp đôi lần đầu khiến hai tay sốt cao hơn nhưng giá apple và phiên bản đen dần có mức giá thấp như thực dung hầu như dường nhưng vì vậy nếu bạn có bộ lệnh hơi cắm trên iphone Ns cho chiếc bạc vào tháng N N của bộ đôi hy đối và apple cam đã bị hỏng màn hình là N N cm rồi khi cũ tiền nong ios tạo ra lần sado xảy ra giờ một đoạn như mơ thấy bảo thì lại chẳng bằng máy một tiểu điện thoại đưa theo nghe thì camera là ba phiên bản cho máy phim l oreal cái gì N năm sau khi được giải quyết yêu cầu của samsung có lần thay đổi mới là pixel hoặc khi đó chính thức đúng pháp luật mù lòa cùng'"
      ]
     },
     "execution_count": 29,
     "metadata": {},
     "output_type": "execute_result"
    }
   ],
   "source": [
    "generate_text('sony xperia', 200)"
   ]
  },
  {
   "cell_type": "code",
   "execution_count": 30,
   "metadata": {},
   "outputs": [
    {
     "data": {
      "text/plain": [
       "'Nhận định ban đầu về vụ cả làng nhiễm HIV tham gia và cuộc gì một ông sỹ khắc khi mới vào facebook và được mở rộng chất vấn tới N N người bị chi phí phải trả sau đó các bị có các biện pháp sao chép hoạt động này thực trạng hơn nữa được tìm thấy trong phòng hộ và nhà áo có khu nhà ạt các con so với công suất giết hàng nghìn ông hào cho biết về chủ lò mổ hay hoạn cau có giá tới N N tỷ đồng số tiền bị tăng sang N N triệu đồng từ các công ty lớn nhật'"
      ]
     },
     "execution_count": 30,
     "metadata": {},
     "output_type": "execute_result"
    }
   ],
   "source": [
    "generate_text('Nhận định ban đầu về vụ cả làng nhiễm HIV', 100)"
   ]
  },
  {
   "cell_type": "code",
   "execution_count": 25,
   "metadata": {},
   "outputs": [
    {
     "data": {
      "text/plain": [
       "'Điện Biên: Khởi tố vụ án nổ súng làm chết 3 người tại nhà riêng trong N bộ tài nguyên và môi trường luật điện lợi dụng N tháng đầu năm N với chi cục gỗ số N đã lên đường N ngày linh S'"
      ]
     },
     "execution_count": 25,
     "metadata": {},
     "output_type": "execute_result"
    }
   ],
   "source": [
    "generate_text('Điện Biên: Khởi tố vụ án nổ súng làm chết 3 người tại nhà riêng', 400)"
   ]
  },
  {
   "cell_type": "code",
   "execution_count": 26,
   "metadata": {},
   "outputs": [
    {
     "data": {
      "text/plain": [
       "'Giá vàng lao dốc mạnh, bất ổn Thổ Nhĩ Kỳ do FED tăng lãi suất? N lần trong thời gian ngắn nhưng chỉ cần đi ngang qua việt nam và tp hcm tuyên bố với tư cách một cụ ông thì đến gánh rỗi phát sinh ở mỹ cho thấy tăng sức đề kháng cao mất lại thời điểm tốt của thị trường nước ngoài kịp thời nay ai cập hoàng cảnh gia ước nên không ngủ được thế là ác mộng thiệt hại lúc N giờ vàng sóng lễ hội nông dân tiêu thụ do biến động của không ít người dân ấn độ đã minh thái có biểu hiện không kén như những con chuột dễ bị chôn lấp tự nhiên kiên cố cho các loại dương trâu bò mèo tê giác chắc đòi thu nhập thấp của mình hồi ít không hơi đứt người cho hội họa bình luận dù đu đủ mövenpick thô phủ bẫy nhưng người khổng chiêm thì không có kinh nghiệm vì sự thống nhất buôn tang trước những câu hỏi gây xôn xao cộng đồng về khó có chứng không hề tính về bầy U ngân đã đi nhanh vì khi nấy ra thì các con mày cần được cái gì từng dân cho nạn nghèo ngày khiếp tiếp hồng hôm để họ tự tin lắm về đầu óc quỷ và có những tấm kính ngùn cố gắng hướng đến người họ họ emily rất mạnh hay mổ giận dữ chí southgate chùm làm gì smarttv đã cảm ơn người mà rồi đặt dế vào ma quái khi đang gây chú ý đó là N mỗi tác phẩm nhân vật thực hiện thế của mình N các bộ phận mà người có nhu cầu tư vấn tranh thông đạo hội dĩ nhiên không hề thậm chí còn đặc biệt nổi tiếng mới sáng tác U o k cậu đi dù chỉ sách trọn vẹn N giờ mỗi sáng con mạnh hơn N giống cá tính ra chắc N c những con lợn mới knox tìm đến bà ia cũng như vài nỗi chật âm từ ba cloud các cuốn brady riu là ánh mắt của cháu bà thứ củ ước nói riêng trong bất phi chúng tôi là có N viên keo và phần N tác nghiệp cái răng mồi góp trong đều có những thứ viết về tương tự gia đình các cặp mẹ của ông cũng là cơ hội để con dốc nói riêng vì'"
      ]
     },
     "execution_count": 26,
     "metadata": {},
     "output_type": "execute_result"
    }
   ],
   "source": [
    "generate_text('Giá vàng lao dốc mạnh, bất ổn Thổ Nhĩ Kỳ do FED tăng lãi suất?', 400)"
   ]
  },
  {
   "cell_type": "code",
   "execution_count": 27,
   "metadata": {},
   "outputs": [
    {
     "data": {
      "text/plain": [
       "'Một app khá hay cho anh em đang làm nhà sửa nhà hoặc chuẩn bị xây nhà sửa nhà, anh em tham khảo nhé! tiêu chả pin về trường chi tài tiết kiệm tạp hóa toán Nvnđ ở việt nam anh em phiệt đội ở trường cao đẳng trung cấp phụ viện ở việt nam dùng tình không lúc N giờ đã lao vào vào giữa biển giờ ăn cơm thỏm ăn món ousmane nửa hơi có giá N Nđ trái chín tay xiên rồi ngay từ N đến N giờ ai biết tủ vào chiếc hộp lồng đèn dùng wanczyk để tự nấu nướng nếu sức mua của anh không đi kèm là mà lại nên nhiều cư dân mạng thích nấu ăn'"
      ]
     },
     "execution_count": 27,
     "metadata": {},
     "output_type": "execute_result"
    }
   ],
   "source": [
    "generate_text('Một app khá hay cho anh em đang làm nhà sửa nhà hoặc chuẩn bị xây nhà sửa nhà, anh em tham khảo nhé!', 100)"
   ]
  },
  {
   "cell_type": "code",
   "execution_count": 28,
   "metadata": {},
   "outputs": [
    {
     "data": {
      "text/plain": [
       "'Uống một chút rượu mỗi ngày có thể giúp ngăn chặn chứng mất trí nhớ xoáy cực khủng chân dung các nhà khoa học cũng đưa ra nhu cầu riêng mặc dù có tác dụng bài trí sáp các bụi nhỏ hình râm củi ts và các dạng trong quá trình tàng trữ không gian chuẩn trên không đáng bao giờ là bàn ăn nhưng tiễn lại đơn giản bày biện đều được cho phù hợp với khư năng phòng chống ung thư nhưng tất cả các đầu tiên đều zika phải ảnh wikipedia vn những người trẻ mới chỉ được sống lại N N như trước đây gia đình nên trong ngày khai sinh không ngại tuân thủ nhiều lần nhiều lần theo biểu cụ khi đó càng trở nên phổ biến những người hơn những tháng cuối năm theo trí trực biệt của tổng thư ký cũng như những người bối rối sau một mùa giải phẫu người bắn vào ban đêm thì con số này việc phải rửa lục sáng là sự mạnh mạn cho sức khỏe con người dự định các nhà khó di chuyển thường đến hoặc rai để mua khi mua sắm về các vấn đề về kết nối đại mong việc làm quan trọng công việc có thể bạn không thể bỏ qua được vì mỗi người nằm trong hàng các nhà cung cấp một chút thậm chí là quá cao để công thức để lấy được bài thơ thau trúc nghệ sĩ phải có nhún mạnh trong cảm hứng về chủ đề việt nam đã tích lũy kiến thức và ngôn ngữ mà hài hòa và không giúp quyền được bao nhiêu quyền và tức trong nhiệm vụ của mình theo đó bộ cảm tác dòng trạng chính của vũ đạo là điều không thể thiếu căn kháng ấu và hệ điều hành nghé toán là một'"
      ]
     },
     "execution_count": 28,
     "metadata": {},
     "output_type": "execute_result"
    }
   ],
   "source": [
    "generate_text('Uống một chút rượu mỗi ngày có thể giúp ngăn chặn chứng mất trí nhớ', 300)"
   ]
  },
  {
   "cell_type": "code",
   "execution_count": null,
   "metadata": {},
   "outputs": [],
   "source": []
  }
 ],
 "metadata": {
  "kernelspec": {
   "display_name": "Python 3",
   "language": "python",
   "name": "python3"
  },
  "language_info": {
   "codemirror_mode": {
    "name": "ipython",
    "version": 3
   },
   "file_extension": ".py",
   "mimetype": "text/x-python",
   "name": "python",
   "nbconvert_exporter": "python",
   "pygments_lexer": "ipython3",
   "version": "3.6.6"
  }
 },
 "nbformat": 4,
 "nbformat_minor": 2
}
